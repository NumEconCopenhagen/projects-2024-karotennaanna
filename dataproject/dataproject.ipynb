{
 "cells": [
  {
   "cell_type": "markdown",
   "metadata": {},
   "source": [
    "# THE EFFECT OF A POSITIVE SHOCK TO TECHNOLOGY IN HIGH- AND LOW-INCOME COUNTRIES"
   ]
  },
  {
   "cell_type": "markdown",
   "metadata": {},
   "source": [
    "# Introduction"
   ]
  },
  {
   "cell_type": "markdown",
   "metadata": {},
   "source": [
    "The aim of this project is to analyse the effect of a positive schock to the technological stage for different high- and low-income countries. More specifically, we want to estimate the long-run effects of an increase in technology by 20% from 2022 onwards. This high increase occurs due to the new AI technologies, which has been changing the technological scene all over the world."
   ]
  },
  {
   "cell_type": "markdown",
   "metadata": {},
   "source": [
    "**On our data:**\n",
    "\n",
    "For the analysis, we have collected data from 1960 for gross domestic product $(Q_t)$, physical capital $(K_t)$, techological stage $(B_t)$ and labor force $(L_t)$. The selected countries are Denmark, The United States, India and China. All data is simulated up until year 2100 based on an extended Solow-Model, where all parameter values has been calculated for each country. This means that the dataset is fictional and based on a theoretical model, which does not include outliers or fluctuations. All data from 1960 has been collected from The World Bank and Penn World Table 9.0. More on data can be found at the end of the project in the bibliography on data."
   ]
  },
  {
   "cell_type": "markdown",
   "metadata": {},
   "source": [
    "**Methodology:**\n",
    "\n",
    "We define output by a simple Cobb-Douglas production function:\n",
    "\n",
    "$Q_{i,t} = B_{i,t}^{\\alpha} (K_{i,t}L_{i,t})^{(1-\\alpha)}$\n",
    "\n",
    "Where $i$ denotes the specific country and $t$ the year. When calculating the evolution in $\\alpha$-values, we solve for $\\alpha$:\n",
    "\n",
    "$\\alpha_{i,t} = \\frac{ln(Q_{i,t})-ln(K_t L_t)}{ln(B_t)-ln(K_t L_t)}$"
   ]
  },
  {
   "cell_type": "markdown",
   "metadata": {},
   "source": [
    "# Initializing the project"
   ]
  },
  {
   "cell_type": "markdown",
   "metadata": {},
   "source": [
    "**Imports:**\n",
    "\n",
    "First, we are specifying a CSV file, printing its contents, loading it into a DataFrame, and initializing a Solowclass instance. Then, we import all necessary installations for the project:"
   ]
  },
  {
   "cell_type": "code",
   "execution_count": 14,
   "metadata": {},
   "outputs": [],
   "source": [
    "# Import necessary libraries\n",
    "import pandas as pd  # Import pandas for data manipulation\n",
    "import numpy as np  # Import numpy for numerical computing\n",
    "import matplotlib.pyplot as plt  # Import matplotlib for plotting\n",
    "import ipywidgets as widgets  # Import ipywidgets for interactive widgets\n",
    "from ipywidgets import interact  # Import interact from ipywidgets\n",
    "from IPython.display import display  # Import display function from IPython.display for displaying output\n",
    "\n",
    "# Import custom module dataproject for additional functionalities\n",
    "# Ensure dataproject is accessible in the Python path or working directory\n",
    "import dataproject  \n",
    "\n",
    "# Import the AlphaCalculator class from the dataproject module\n",
    "from dataproject import AlphaCalculator \n",
    "\n",
    "# Specifying the filename of the CSV file containing the data\n",
    "filename = \"DataProject_Data.csv\"\n",
    "\n",
    "# Read the CSV file into a pandas DataFrame\n",
    "# Ensure the delimiter matches the file format\n",
    "DataProject_Data = pd.read_csv(filename, delimiter=\";\")\n",
    "\n",
    "# Create an instance of AlphaCalculator with the provided data\n",
    "alpha_calculator = AlphaCalculator(DataProject_Data)\n",
    "\n",
    "# Create an instance of the Solowclass from the dataproject module with the specified filename\n",
    "solow_instance = dataproject.Solowclass(filename)\n"
   ]
  },
  {
   "cell_type": "markdown",
   "metadata": {},
   "source": [
    "**Read and clean data:**\n",
    "\n",
    "Since the dataset is a CSV file, some necessary cleaning and restructuring of the dataset is necessary, in order to use the data in the project. We need to convert columns into strings, before replacing commas with dots, to be able to convert the data into floats. "
   ]
  },
  {
   "cell_type": "code",
   "execution_count": null,
   "metadata": {},
   "outputs": [
    {
     "ename": "NameError",
     "evalue": "name 'DataProject_Data' is not defined",
     "output_type": "error",
     "traceback": [
      "\u001b[0;31m---------------------------------------------------------------------------\u001b[0m",
      "\u001b[0;31mNameError\u001b[0m                                 Traceback (most recent call last)",
      "Cell \u001b[0;32mIn[1], line 2\u001b[0m\n\u001b[1;32m      1\u001b[0m \u001b[38;5;66;03m# Remove trailing whitespaces from column names\u001b[39;00m\n\u001b[0;32m----> 2\u001b[0m DataProject_Data\u001b[38;5;241m.\u001b[39mcolumns \u001b[38;5;241m=\u001b[39m DataProject_Data\u001b[38;5;241m.\u001b[39mcolumns\u001b[38;5;241m.\u001b[39mstr\u001b[38;5;241m.\u001b[39mstrip()\n\u001b[1;32m      4\u001b[0m \u001b[38;5;66;03m# Convert specific columns to strings before replacing commas\u001b[39;00m\n\u001b[1;32m      5\u001b[0m string_columns \u001b[38;5;241m=\u001b[39m [\u001b[38;5;124m'\u001b[39m\u001b[38;5;124mDK_K_t\u001b[39m\u001b[38;5;124m'\u001b[39m, \u001b[38;5;124m'\u001b[39m\u001b[38;5;124mUS_K_t\u001b[39m\u001b[38;5;124m'\u001b[39m]  \u001b[38;5;66;03m# Specify columns to be converted to strings\u001b[39;00m\n",
      "\u001b[0;31mNameError\u001b[0m: name 'DataProject_Data' is not defined"
     ]
    }
   ],
   "source": [
    "# Remove trailing whitespaces from column names\n",
    "DataProject_Data.columns = DataProject_Data.columns.str.strip()\n",
    "\n",
    "# Convert specific columns to strings before replacing commas\n",
    "string_columns = ['DK_K_t', 'US_K_t']  # Specify columns to be converted to strings\n",
    "for column in string_columns:\n",
    "    DataProject_Data[column] = DataProject_Data[column].astype(str)\n",
    "\n",
    "# Replace commas with dots in selected columns to prepare for conversion to float\n",
    "DataProject_Data['DK_K_t'] = DataProject_Data['DK_K_t'].str.replace(',', '.')\n",
    "DataProject_Data['US_K_t'] = DataProject_Data['US_K_t'].str.replace(',', '.')\n",
    "\n",
    "# Convert strings to floats for specified columns\n",
    "columns_to_convert = ['DK_B_t', 'US_B_t', 'IN_B_t', 'CN_B_t',  # Specify columns to be converted to floats\n",
    "                      'DK_K_t', 'US_K_t', 'IN_K_t', 'CN_K_t',\n",
    "                      'DK_Q_t', 'US_Q_t', 'IN_Q_t', 'CN_Q_t',\n",
    "                      'DK_L_t', 'US_L_t', 'IN_L_t', 'CN_L_t']\n",
    "\n",
    "for column in columns_to_convert:\n",
    "    # Replace commas with dots and convert the column to float type\n",
    "    DataProject_Data[column] = DataProject_Data[column].str.replace(',', '.').astype(float)"
   ]
  },
  {
   "cell_type": "markdown",
   "metadata": {},
   "source": [
    "In the next cell, we print the dataset, to check that all our variables are correctly converted into floats before beginning to work with the data."
   ]
  },
  {
   "cell_type": "code",
   "execution_count": null,
   "metadata": {},
   "outputs": [
    {
     "name": "stdout",
     "output_type": "stream",
     "text": [
      "t           int64\n",
      "DK_B_t    float64\n",
      "DK_L_t    float64\n",
      "DK_K_t    float64\n",
      "DK_Q_t    float64\n",
      "US_B_t    float64\n",
      "US_L_t    float64\n",
      "US_K_t    float64\n",
      "US_Q_t    float64\n",
      "IN_B_t    float64\n",
      "IN_L_t    float64\n",
      "IN_K_t    float64\n",
      "IN_Q_t    float64\n",
      "CN_B_t    float64\n",
      "CN_L_t    float64\n",
      "CN_K_t    float64\n",
      "CN_Q_t    float64\n",
      "dtype: object\n",
      "      t       DK_B_t       DK_L_t        DK_K_t        DK_Q_t       US_B_t  \\\n",
      "0  1960  17203.33000  2111660.000  2.666270e+11  7.579978e+10  18524.19000   \n",
      "1  1961  17461.37995  2123738.695  2.834730e+11  7.854689e+10  18802.05285   \n",
      "2  1962  17723.30065  2135886.481  3.008210e+11  8.133756e+10  19084.08364   \n",
      "3  1963  17989.15016  2148103.751  3.186760e+11  8.417337e+10  19370.34490   \n",
      "4  1964  18258.98741  2160390.905  3.370440e+11  8.705587e+10  19660.90007   \n",
      "\n",
      "        US_L_t        US_K_t        US_Q_t       IN_B_t       IN_L_t  \\\n",
      "0  70956940.00  1.469310e+13  3.510940e+12  1105.530000  179374600.0   \n",
      "1  71921954.38  1.518190e+13  3.618440e+12  1122.112950  182836529.8   \n",
      "2  72900092.96  1.568510e+13  3.729060e+12  1138.944644  186365274.8   \n",
      "3  73891534.23  1.620310e+13  3.842860e+12  1156.028814  189962124.6   \n",
      "4  74896459.09  1.673630e+13  3.959970e+12  1173.369246  193628393.6   \n",
      "\n",
      "         IN_K_t        IN_Q_t       CN_B_t       CN_L_t        CN_K_t  \\\n",
      "0  1.058700e+12  4.475760e+11  2471.330000  295659330.0  6.390940e+11   \n",
      "1  1.171580e+12  4.784560e+11  2508.399950  299443769.4  9.423050e+11   \n",
      "2  1.290860e+12  5.103840e+11  2546.025949  303276649.7  1.300170e+12   \n",
      "3  1.416660e+12  5.433940e+11  2584.216338  307158590.8  1.710650e+12   \n",
      "4  1.549110e+12  5.775260e+11  2622.979584  311090220.8  2.172000e+12   \n",
      "\n",
      "         CN_Q_t  \n",
      "0  6.897860e+11  \n",
      "1  8.280530e+11  \n",
      "2  9.660720e+11  \n",
      "3  1.104290e+12  \n",
      "4  1.243110e+12  \n",
      "                 t         DK_B_t        DK_L_t        DK_K_t        DK_Q_t  \\\n",
      "count   141.000000     141.000000  1.410000e+02  1.410000e+02  1.410000e+02   \n",
      "mean   2030.000000   58242.500698  3.233410e+06  4.737630e+12  6.680649e+11   \n",
      "std      40.847277   34222.201846  7.493116e+05  4.289066e+12  5.590386e+11   \n",
      "min    1960.000000   17203.330000  2.111660e+06  2.666270e+11  7.579978e+10   \n",
      "25%    1995.000000   28968.366000  2.578232e+06  1.201740e+12  2.081940e+11   \n",
      "50%    2030.000000   48779.290330  3.147894e+06  3.209030e+12  4.713890e+11   \n",
      "75%    2065.000000   82138.535710  3.843422e+06  7.339960e+12  1.008040e+12   \n",
      "max    2100.000000  138311.545800  4.692628e+06  1.580810e+13  2.108300e+12   \n",
      "\n",
      "              US_B_t        US_L_t        US_K_t        US_Q_t       IN_B_t  \\\n",
      "count     141.000000  1.410000e+02  1.410000e+02  1.410000e+02   141.000000   \n",
      "mean    62714.320368  2.115550e+08  2.260241e+14  4.943300e+13  3742.812107   \n",
      "std     36849.759275  1.134346e+08  2.383745e+14  5.174103e+13  2199.206247   \n",
      "min     18524.190000  7.095694e+07  1.469310e+13  3.510940e+12  1105.530000   \n",
      "25%     31192.537480  1.138481e+08  4.381310e+13  9.874300e+12  1861.581314   \n",
      "50%     52524.531130  1.826657e+08  1.230470e+14  2.710170e+13  3134.681997   \n",
      "75%     88445.076720  2.930813e+08  3.376600e+14  7.368730e+13  5278.432454   \n",
      "max    148931.012400  4.702395e+08  9.180550e+14  1.995970e+14  8888.253798   \n",
      "\n",
      "             IN_L_t        IN_K_t        IN_Q_t        CN_B_t        CN_L_t  \\\n",
      "count  1.410000e+02  1.410000e+02  1.410000e+02    141.000000  1.410000e+02   \n",
      "mean   9.103549e+08  9.999236e+13  2.114309e+13   8366.777784  8.206532e+08   \n",
      "std    6.730948e+08  1.247451e+14  2.592659e+13   4916.161818  4.155961e+08   \n",
      "min    1.793746e+08  1.058700e+12  4.475760e+11   2471.330000  2.956593e+08   \n",
      "25%    3.502126e+08  1.011310e+13  2.471030e+12   4161.426418  4.614459e+08   \n",
      "50%    6.837583e+08  4.178880e+13  9.078590e+12   7007.348204  7.201950e+08   \n",
      "75%    1.334976e+09  1.461910e+14  3.076180e+13  11799.542730  1.124034e+09   \n",
      "max    2.606420e+09  4.892400e+14  1.020110e+14  19869.029570  1.754319e+09   \n",
      "\n",
      "             CN_K_t        CN_Q_t  \n",
      "count  1.410000e+02  1.410000e+02  \n",
      "mean   2.830041e+14  3.921547e+13  \n",
      "std    3.141919e+14  4.174016e+13  \n",
      "min    6.390940e+11  6.897860e+11  \n",
      "25%    3.887720e+13  6.999800e+12  \n",
      "50%    1.507520e+14  2.174530e+13  \n",
      "75%    4.370380e+14  5.961160e+13  \n",
      "max    1.180380e+15  1.585150e+14  \n"
     ]
    }
   ],
   "source": [
    "# Check data types\n",
    "print(DataProject_Data.dtypes)\n",
    "\n",
    "# Inspect sample data\n",
    "print(DataProject_Data.head())\n",
    "\n",
    "# Calculate statistics\n",
    "print(DataProject_Data.describe())"
   ]
  },
  {
   "cell_type": "markdown",
   "metadata": {},
   "source": [
    "# Exploring the data"
   ]
  },
  {
   "cell_type": "markdown",
   "metadata": {},
   "source": [
    "**Descriptive statistics:**\n",
    "\n",
    "In the cell below, we display the descriptive statistics of the dataset. As shown, all variable names start with the country code, followed by the name of the variable. E.g. DK_B_t states the technological stage in Denmark at given time t and vice versa. The descriptive statistics provide a summary of the distribution of various economic indicators across four countries (Denmark, the United States, India, and China) over a period from 1960 to 2100. "
   ]
  },
  {
   "cell_type": "code",
   "execution_count": null,
   "metadata": {},
   "outputs": [
    {
     "data": {
      "text/html": [
       "<style type=\"text/css\">\n",
       "#T_c077e th {\n",
       "  background-color: white;\n",
       "}\n",
       "#T_c077e td {\n",
       "  font-size: 12pt;\n",
       "}\n",
       "#T_c077e tr:nth-of-type(odd) {\n",
       "  background-color: whitesmoke;\n",
       "}\n",
       "#T_c077e tr:nth-of-type(even) {\n",
       "  background-color: white;\n",
       "}\n",
       "</style>\n",
       "<table id=\"T_c077e\">\n",
       "  <thead>\n",
       "    <tr>\n",
       "      <th class=\"blank level0\" >&nbsp;</th>\n",
       "      <th id=\"T_c077e_level0_col0\" class=\"col_heading level0 col0\" >t</th>\n",
       "      <th id=\"T_c077e_level0_col1\" class=\"col_heading level0 col1\" >DK_B_t</th>\n",
       "      <th id=\"T_c077e_level0_col2\" class=\"col_heading level0 col2\" >DK_L_t</th>\n",
       "      <th id=\"T_c077e_level0_col3\" class=\"col_heading level0 col3\" >DK_K_t</th>\n",
       "      <th id=\"T_c077e_level0_col4\" class=\"col_heading level0 col4\" >DK_Q_t</th>\n",
       "      <th id=\"T_c077e_level0_col5\" class=\"col_heading level0 col5\" >US_B_t</th>\n",
       "      <th id=\"T_c077e_level0_col6\" class=\"col_heading level0 col6\" >US_L_t</th>\n",
       "      <th id=\"T_c077e_level0_col7\" class=\"col_heading level0 col7\" >US_K_t</th>\n",
       "      <th id=\"T_c077e_level0_col8\" class=\"col_heading level0 col8\" >US_Q_t</th>\n",
       "      <th id=\"T_c077e_level0_col9\" class=\"col_heading level0 col9\" >IN_B_t</th>\n",
       "      <th id=\"T_c077e_level0_col10\" class=\"col_heading level0 col10\" >IN_L_t</th>\n",
       "      <th id=\"T_c077e_level0_col11\" class=\"col_heading level0 col11\" >IN_K_t</th>\n",
       "      <th id=\"T_c077e_level0_col12\" class=\"col_heading level0 col12\" >IN_Q_t</th>\n",
       "      <th id=\"T_c077e_level0_col13\" class=\"col_heading level0 col13\" >CN_B_t</th>\n",
       "      <th id=\"T_c077e_level0_col14\" class=\"col_heading level0 col14\" >CN_L_t</th>\n",
       "      <th id=\"T_c077e_level0_col15\" class=\"col_heading level0 col15\" >CN_K_t</th>\n",
       "      <th id=\"T_c077e_level0_col16\" class=\"col_heading level0 col16\" >CN_Q_t</th>\n",
       "    </tr>\n",
       "  </thead>\n",
       "  <tbody>\n",
       "    <tr>\n",
       "      <th id=\"T_c077e_level0_row0\" class=\"row_heading level0 row0\" >count</th>\n",
       "      <td id=\"T_c077e_row0_col0\" class=\"data row0 col0\" >141.00</td>\n",
       "      <td id=\"T_c077e_row0_col1\" class=\"data row0 col1\" >141.00</td>\n",
       "      <td id=\"T_c077e_row0_col2\" class=\"data row0 col2\" >141.00</td>\n",
       "      <td id=\"T_c077e_row0_col3\" class=\"data row0 col3\" >141.00</td>\n",
       "      <td id=\"T_c077e_row0_col4\" class=\"data row0 col4\" >141.00</td>\n",
       "      <td id=\"T_c077e_row0_col5\" class=\"data row0 col5\" >141.00</td>\n",
       "      <td id=\"T_c077e_row0_col6\" class=\"data row0 col6\" >141.00</td>\n",
       "      <td id=\"T_c077e_row0_col7\" class=\"data row0 col7\" >141.00</td>\n",
       "      <td id=\"T_c077e_row0_col8\" class=\"data row0 col8\" >141.00</td>\n",
       "      <td id=\"T_c077e_row0_col9\" class=\"data row0 col9\" >141.00</td>\n",
       "      <td id=\"T_c077e_row0_col10\" class=\"data row0 col10\" >141.00</td>\n",
       "      <td id=\"T_c077e_row0_col11\" class=\"data row0 col11\" >141.00</td>\n",
       "      <td id=\"T_c077e_row0_col12\" class=\"data row0 col12\" >141.00</td>\n",
       "      <td id=\"T_c077e_row0_col13\" class=\"data row0 col13\" >141.00</td>\n",
       "      <td id=\"T_c077e_row0_col14\" class=\"data row0 col14\" >141.00</td>\n",
       "      <td id=\"T_c077e_row0_col15\" class=\"data row0 col15\" >141.00</td>\n",
       "      <td id=\"T_c077e_row0_col16\" class=\"data row0 col16\" >141.00</td>\n",
       "    </tr>\n",
       "    <tr>\n",
       "      <th id=\"T_c077e_level0_row1\" class=\"row_heading level0 row1\" >mean</th>\n",
       "      <td id=\"T_c077e_row1_col0\" class=\"data row1 col0\" >2030.00</td>\n",
       "      <td id=\"T_c077e_row1_col1\" class=\"data row1 col1\" >58242.50</td>\n",
       "      <td id=\"T_c077e_row1_col2\" class=\"data row1 col2\" >3233410.06</td>\n",
       "      <td id=\"T_c077e_row1_col3\" class=\"data row1 col3\" >4737630120567.38</td>\n",
       "      <td id=\"T_c077e_row1_col4\" class=\"data row1 col4\" >668064880552.72</td>\n",
       "      <td id=\"T_c077e_row1_col5\" class=\"data row1 col5\" >62714.32</td>\n",
       "      <td id=\"T_c077e_row1_col6\" class=\"data row1 col6\" >211554992.97</td>\n",
       "      <td id=\"T_c077e_row1_col7\" class=\"data row1 col7\" >226024113475177.31</td>\n",
       "      <td id=\"T_c077e_row1_col8\" class=\"data row1 col8\" >49432999503546.10</td>\n",
       "      <td id=\"T_c077e_row1_col9\" class=\"data row1 col9\" >3742.81</td>\n",
       "      <td id=\"T_c077e_row1_col10\" class=\"data row1 col10\" >910354945.57</td>\n",
       "      <td id=\"T_c077e_row1_col11\" class=\"data row1 col11\" >99992359007092.20</td>\n",
       "      <td id=\"T_c077e_row1_col12\" class=\"data row1 col12\" >21143090936170.21</td>\n",
       "      <td id=\"T_c077e_row1_col13\" class=\"data row1 col13\" >8366.78</td>\n",
       "      <td id=\"T_c077e_row1_col14\" class=\"data row1 col14\" >820653222.23</td>\n",
       "      <td id=\"T_c077e_row1_col15\" class=\"data row1 col15\" >283004098503546.12</td>\n",
       "      <td id=\"T_c077e_row1_col16\" class=\"data row1 col16\" >39215470716312.05</td>\n",
       "    </tr>\n",
       "    <tr>\n",
       "      <th id=\"T_c077e_level0_row2\" class=\"row_heading level0 row2\" >std</th>\n",
       "      <td id=\"T_c077e_row2_col0\" class=\"data row2 col0\" >40.85</td>\n",
       "      <td id=\"T_c077e_row2_col1\" class=\"data row2 col1\" >34222.20</td>\n",
       "      <td id=\"T_c077e_row2_col2\" class=\"data row2 col2\" >749311.64</td>\n",
       "      <td id=\"T_c077e_row2_col3\" class=\"data row2 col3\" >4289066325073.34</td>\n",
       "      <td id=\"T_c077e_row2_col4\" class=\"data row2 col4\" >559038582229.95</td>\n",
       "      <td id=\"T_c077e_row2_col5\" class=\"data row2 col5\" >36849.76</td>\n",
       "      <td id=\"T_c077e_row2_col6\" class=\"data row2 col6\" >113434609.42</td>\n",
       "      <td id=\"T_c077e_row2_col7\" class=\"data row2 col7\" >238374480289732.12</td>\n",
       "      <td id=\"T_c077e_row2_col8\" class=\"data row2 col8\" >51741030683877.75</td>\n",
       "      <td id=\"T_c077e_row2_col9\" class=\"data row2 col9\" >2199.21</td>\n",
       "      <td id=\"T_c077e_row2_col10\" class=\"data row2 col10\" >673094809.79</td>\n",
       "      <td id=\"T_c077e_row2_col11\" class=\"data row2 col11\" >124745141554075.16</td>\n",
       "      <td id=\"T_c077e_row2_col12\" class=\"data row2 col12\" >25926585342494.73</td>\n",
       "      <td id=\"T_c077e_row2_col13\" class=\"data row2 col13\" >4916.16</td>\n",
       "      <td id=\"T_c077e_row2_col14\" class=\"data row2 col14\" >415596102.35</td>\n",
       "      <td id=\"T_c077e_row2_col15\" class=\"data row2 col15\" >314191867669328.75</td>\n",
       "      <td id=\"T_c077e_row2_col16\" class=\"data row2 col16\" >41740162288007.52</td>\n",
       "    </tr>\n",
       "    <tr>\n",
       "      <th id=\"T_c077e_level0_row3\" class=\"row_heading level0 row3\" >min</th>\n",
       "      <td id=\"T_c077e_row3_col0\" class=\"data row3 col0\" >1960.00</td>\n",
       "      <td id=\"T_c077e_row3_col1\" class=\"data row3 col1\" >17203.33</td>\n",
       "      <td id=\"T_c077e_row3_col2\" class=\"data row3 col2\" >2111660.00</td>\n",
       "      <td id=\"T_c077e_row3_col3\" class=\"data row3 col3\" >266627000000.00</td>\n",
       "      <td id=\"T_c077e_row3_col4\" class=\"data row3 col4\" >75799778713.00</td>\n",
       "      <td id=\"T_c077e_row3_col5\" class=\"data row3 col5\" >18524.19</td>\n",
       "      <td id=\"T_c077e_row3_col6\" class=\"data row3 col6\" >70956940.00</td>\n",
       "      <td id=\"T_c077e_row3_col7\" class=\"data row3 col7\" >14693100000000.00</td>\n",
       "      <td id=\"T_c077e_row3_col8\" class=\"data row3 col8\" >3510940000000.00</td>\n",
       "      <td id=\"T_c077e_row3_col9\" class=\"data row3 col9\" >1105.53</td>\n",
       "      <td id=\"T_c077e_row3_col10\" class=\"data row3 col10\" >179374600.00</td>\n",
       "      <td id=\"T_c077e_row3_col11\" class=\"data row3 col11\" >1058700000000.00</td>\n",
       "      <td id=\"T_c077e_row3_col12\" class=\"data row3 col12\" >447576000000.00</td>\n",
       "      <td id=\"T_c077e_row3_col13\" class=\"data row3 col13\" >2471.33</td>\n",
       "      <td id=\"T_c077e_row3_col14\" class=\"data row3 col14\" >295659330.00</td>\n",
       "      <td id=\"T_c077e_row3_col15\" class=\"data row3 col15\" >639094000000.00</td>\n",
       "      <td id=\"T_c077e_row3_col16\" class=\"data row3 col16\" >689786000000.00</td>\n",
       "    </tr>\n",
       "    <tr>\n",
       "      <th id=\"T_c077e_level0_row4\" class=\"row_heading level0 row4\" >25%</th>\n",
       "      <td id=\"T_c077e_row4_col0\" class=\"data row4 col0\" >1995.00</td>\n",
       "      <td id=\"T_c077e_row4_col1\" class=\"data row4 col1\" >28968.37</td>\n",
       "      <td id=\"T_c077e_row4_col2\" class=\"data row4 col2\" >2578232.20</td>\n",
       "      <td id=\"T_c077e_row4_col3\" class=\"data row4 col3\" >1201740000000.00</td>\n",
       "      <td id=\"T_c077e_row4_col4\" class=\"data row4 col4\" >208194000000.00</td>\n",
       "      <td id=\"T_c077e_row4_col5\" class=\"data row4 col5\" >31192.54</td>\n",
       "      <td id=\"T_c077e_row4_col6\" class=\"data row4 col6\" >113848141.10</td>\n",
       "      <td id=\"T_c077e_row4_col7\" class=\"data row4 col7\" >43813100000000.00</td>\n",
       "      <td id=\"T_c077e_row4_col8\" class=\"data row4 col8\" >9874300000000.00</td>\n",
       "      <td id=\"T_c077e_row4_col9\" class=\"data row4 col9\" >1861.58</td>\n",
       "      <td id=\"T_c077e_row4_col10\" class=\"data row4 col10\" >350212620.90</td>\n",
       "      <td id=\"T_c077e_row4_col11\" class=\"data row4 col11\" >10113100000000.00</td>\n",
       "      <td id=\"T_c077e_row4_col12\" class=\"data row4 col12\" >2471030000000.00</td>\n",
       "      <td id=\"T_c077e_row4_col13\" class=\"data row4 col13\" >4161.43</td>\n",
       "      <td id=\"T_c077e_row4_col14\" class=\"data row4 col14\" >461445942.90</td>\n",
       "      <td id=\"T_c077e_row4_col15\" class=\"data row4 col15\" >38877200000000.00</td>\n",
       "      <td id=\"T_c077e_row4_col16\" class=\"data row4 col16\" >6999800000000.00</td>\n",
       "    </tr>\n",
       "    <tr>\n",
       "      <th id=\"T_c077e_level0_row5\" class=\"row_heading level0 row5\" >50%</th>\n",
       "      <td id=\"T_c077e_row5_col0\" class=\"data row5 col0\" >2030.00</td>\n",
       "      <td id=\"T_c077e_row5_col1\" class=\"data row5 col1\" >48779.29</td>\n",
       "      <td id=\"T_c077e_row5_col2\" class=\"data row5 col2\" >3147893.73</td>\n",
       "      <td id=\"T_c077e_row5_col3\" class=\"data row5 col3\" >3209030000000.00</td>\n",
       "      <td id=\"T_c077e_row5_col4\" class=\"data row5 col4\" >471389000000.00</td>\n",
       "      <td id=\"T_c077e_row5_col5\" class=\"data row5 col5\" >52524.53</td>\n",
       "      <td id=\"T_c077e_row5_col6\" class=\"data row5 col6\" >182665701.80</td>\n",
       "      <td id=\"T_c077e_row5_col7\" class=\"data row5 col7\" >123047000000000.00</td>\n",
       "      <td id=\"T_c077e_row5_col8\" class=\"data row5 col8\" >27101700000000.00</td>\n",
       "      <td id=\"T_c077e_row5_col9\" class=\"data row5 col9\" >3134.68</td>\n",
       "      <td id=\"T_c077e_row5_col10\" class=\"data row5 col10\" >683758346.10</td>\n",
       "      <td id=\"T_c077e_row5_col11\" class=\"data row5 col11\" >41788800000000.00</td>\n",
       "      <td id=\"T_c077e_row5_col12\" class=\"data row5 col12\" >9078590000000.00</td>\n",
       "      <td id=\"T_c077e_row5_col13\" class=\"data row5 col13\" >7007.35</td>\n",
       "      <td id=\"T_c077e_row5_col14\" class=\"data row5 col14\" >720194956.20</td>\n",
       "      <td id=\"T_c077e_row5_col15\" class=\"data row5 col15\" >150752000000000.00</td>\n",
       "      <td id=\"T_c077e_row5_col16\" class=\"data row5 col16\" >21745300000000.00</td>\n",
       "    </tr>\n",
       "    <tr>\n",
       "      <th id=\"T_c077e_level0_row6\" class=\"row_heading level0 row6\" >75%</th>\n",
       "      <td id=\"T_c077e_row6_col0\" class=\"data row6 col0\" >2065.00</td>\n",
       "      <td id=\"T_c077e_row6_col1\" class=\"data row6 col1\" >82138.54</td>\n",
       "      <td id=\"T_c077e_row6_col2\" class=\"data row6 col2\" >3843422.23</td>\n",
       "      <td id=\"T_c077e_row6_col3\" class=\"data row6 col3\" >7339960000000.00</td>\n",
       "      <td id=\"T_c077e_row6_col4\" class=\"data row6 col4\" >1008040000000.00</td>\n",
       "      <td id=\"T_c077e_row6_col5\" class=\"data row6 col5\" >88445.08</td>\n",
       "      <td id=\"T_c077e_row6_col6\" class=\"data row6 col6\" >293081277.10</td>\n",
       "      <td id=\"T_c077e_row6_col7\" class=\"data row6 col7\" >337660000000000.00</td>\n",
       "      <td id=\"T_c077e_row6_col8\" class=\"data row6 col8\" >73687300000000.00</td>\n",
       "      <td id=\"T_c077e_row6_col9\" class=\"data row6 col9\" >5278.43</td>\n",
       "      <td id=\"T_c077e_row6_col10\" class=\"data row6 col10\" >1334976092.00</td>\n",
       "      <td id=\"T_c077e_row6_col11\" class=\"data row6 col11\" >146191000000000.00</td>\n",
       "      <td id=\"T_c077e_row6_col12\" class=\"data row6 col12\" >30761800000000.00</td>\n",
       "      <td id=\"T_c077e_row6_col13\" class=\"data row6 col13\" >11799.54</td>\n",
       "      <td id=\"T_c077e_row6_col14\" class=\"data row6 col14\" >1124033666.00</td>\n",
       "      <td id=\"T_c077e_row6_col15\" class=\"data row6 col15\" >437038000000000.00</td>\n",
       "      <td id=\"T_c077e_row6_col16\" class=\"data row6 col16\" >59611600000000.00</td>\n",
       "    </tr>\n",
       "    <tr>\n",
       "      <th id=\"T_c077e_level0_row7\" class=\"row_heading level0 row7\" >max</th>\n",
       "      <td id=\"T_c077e_row7_col0\" class=\"data row7 col0\" >2100.00</td>\n",
       "      <td id=\"T_c077e_row7_col1\" class=\"data row7 col1\" >138311.55</td>\n",
       "      <td id=\"T_c077e_row7_col2\" class=\"data row7 col2\" >4692628.04</td>\n",
       "      <td id=\"T_c077e_row7_col3\" class=\"data row7 col3\" >15808100000000.00</td>\n",
       "      <td id=\"T_c077e_row7_col4\" class=\"data row7 col4\" >2108300000000.00</td>\n",
       "      <td id=\"T_c077e_row7_col5\" class=\"data row7 col5\" >148931.01</td>\n",
       "      <td id=\"T_c077e_row7_col6\" class=\"data row7 col6\" >470239536.80</td>\n",
       "      <td id=\"T_c077e_row7_col7\" class=\"data row7 col7\" >918055000000000.00</td>\n",
       "      <td id=\"T_c077e_row7_col8\" class=\"data row7 col8\" >199597000000000.00</td>\n",
       "      <td id=\"T_c077e_row7_col9\" class=\"data row7 col9\" >8888.25</td>\n",
       "      <td id=\"T_c077e_row7_col10\" class=\"data row7 col10\" >2606419615.00</td>\n",
       "      <td id=\"T_c077e_row7_col11\" class=\"data row7 col11\" >489240000000000.00</td>\n",
       "      <td id=\"T_c077e_row7_col12\" class=\"data row7 col12\" >102011000000000.00</td>\n",
       "      <td id=\"T_c077e_row7_col13\" class=\"data row7 col13\" >19869.03</td>\n",
       "      <td id=\"T_c077e_row7_col14\" class=\"data row7 col14\" >1754318983.00</td>\n",
       "      <td id=\"T_c077e_row7_col15\" class=\"data row7 col15\" >1180380000000000.00</td>\n",
       "      <td id=\"T_c077e_row7_col16\" class=\"data row7 col16\" >158515000000000.00</td>\n",
       "    </tr>\n",
       "  </tbody>\n",
       "</table>\n"
      ],
      "text/plain": [
       "<pandas.io.formats.style.Styler at 0x13a585750>"
      ]
     },
     "execution_count": 46,
     "metadata": {},
     "output_type": "execute_result"
    }
   ],
   "source": [
    "# Generate descriptive statistics for your DataFrame\n",
    "descriptive_stats = DataProject_Data.describe()\n",
    "\n",
    "# Display the descriptive statistics as a styled HTML table\n",
    "# Set styling options for the table\n",
    "descriptive_stats_table = descriptive_stats.style.set_table_styles([\n",
    "    {'selector': 'th', 'props': [('background-color', 'white')]},  # Set background color for table headers\n",
    "    {'selector': 'td', 'props': [('font-size', '12pt')]},         # Set font size for table data\n",
    "    {'selector': 'tr:nth-of-type(odd)', 'props': [('background-color', 'whitesmoke')]},  # Alternate row color\n",
    "    {'selector': 'tr:nth-of-type(even)', 'props': [('background-color', 'white')]}        # Alternate row color\n",
    "]).format(\"{:.2f}\")  # Format numerical values to have two decimal places\n",
    "\n",
    "# Render the styled table\n",
    "descriptive_stats_table"
   ]
  },
  {
   "cell_type": "markdown",
   "metadata": {},
   "source": [
    "**Economic Disparities:**\n",
    "\n",
    "The descriptive statistics highlight substantial differences in economic indicators such as the technological stage, GDP, capital stock, and population size among the four countries. In the table, it becomes clear, that we are working with both high- and low income countries. Even though the sizes in GDP are larger in India and China than in Denmark, GDP per capita is substantially lower due to the large population sizes in the two developing countries. Looking at the technological stages, it is clear that these are larger in the advanced countries than in India and China. This could impy that a change in the technological stage may have very different implications for advanced and developing countries. More on this later.\n",
    "\n",
    "However, keeping all this in mind, remember that the dataset is based on a theoretical model and that all data (except initial values in 1960) is simulated and not actual values. Although, the simulations still provide some realistic insights into the real evolution of the variables, since parameter values for the simulations have been collected and calculated on country-specific levels. This means that, ceteris paribus, the evolution of the variables are close to the real and expected evolution in the variables. "
   ]
  },
  {
   "cell_type": "markdown",
   "metadata": {},
   "source": [
    "**Plotting and displaying the data:**\n",
    "\n",
    "Below, we plot and display the variables in a figure, where we can choose what variable to look at and select wanted the time period. Beware of the label on the y-axis, where the variables $B_t$ is displayed in million US dollars, $L_t$ in millions, $Q_t$ in billion US dollars and $K_t$ in trillion US dollars."
   ]
  },
  {
   "cell_type": "code",
   "execution_count": null,
   "metadata": {},
   "outputs": [
    {
     "data": {
      "application/vnd.jupyter.widget-view+json": {
       "model_id": "cbe90312403c4bc4a71620b33e63ef34",
       "version_major": 2,
       "version_minor": 0
      },
      "text/plain": [
       "interactive(children=(Dropdown(description='indicator', options=('B_t', 'L_t', 'K_t', 'Q_t'), value='B_t'), In…"
      ]
     },
     "metadata": {},
     "output_type": "display_data"
    },
    {
     "data": {
      "text/plain": [
       "<function __main__.plot_indicator(indicator, year_range)>"
      ]
     },
     "execution_count": 47,
     "metadata": {},
     "output_type": "execute_result"
    }
   ],
   "source": [
    "# Define colors for each country\n",
    "colors = {'DK': 'blue', 'US': 'green', 'IN': 'red', 'CN': 'purple'}\n",
    "\n",
    "# Define the function to plot the data for the selected indicator and year range\n",
    "def plot_indicator(indicator, year_range):\n",
    "    # Set up the plot figure with specified size\n",
    "    plt.figure(figsize=(10, 6))\n",
    "    \n",
    "    # Determine scaling factor and y-axis label based on indicator\n",
    "    if indicator == 'B_t' :\n",
    "        scale_factor = 1_000  # Display in thousands\n",
    "        ylabel = 'Value (in thousands)'\n",
    "    elif indicator == 'L_t' :\n",
    "        scale_factor = 1_000_000  # Display in millions\n",
    "        ylabel = 'Value (in millions)'\n",
    "    elif indicator == 'K_t':\n",
    "        scale_factor = 1_000_000_000_000  # Display in trillions\n",
    "        ylabel = 'Value (in Trillions)'\n",
    "    elif indicator == 'Q_t':\n",
    "        scale_factor = 1_000_000_000  # Display in billions\n",
    "        ylabel = 'Value (in Billions)'\n",
    "    else:\n",
    "        scale_factor = 1  # No scaling\n",
    "        ylabel = 'Value'\n",
    "    \n",
    "    # Iterate over each country and plot its data\n",
    "    for country in ['DK', 'US', 'IN', 'CN']:\n",
    "        # Retrieve the data for the current indicator\n",
    "        data = DataProject_Data[country + '_' + indicator]\n",
    "        \n",
    "        # Convert values to desired scale\n",
    "        data_scaled = data / scale_factor\n",
    "        \n",
    "        # Plot data for the current country with specified color\n",
    "        plt.plot(DataProject_Data['t'], data_scaled, label=country, color=colors[country])\n",
    "    \n",
    "    # Set plot title, x-axis label, y-axis label, and legend\n",
    "    plt.title('Trend of {} Indicator for Each Country Over Time'.format(indicator))\n",
    "    plt.xlabel('Year')\n",
    "    plt.ylabel(ylabel)\n",
    "    plt.legend()\n",
    "    \n",
    "    # Add gridlines to the plot\n",
    "    plt.grid(True)\n",
    "    \n",
    "    # Set x-axis limits based on the selected year range\n",
    "    plt.xlim(year_range)\n",
    "    \n",
    "    # Display the plot\n",
    "    plt.show()\n",
    "\n",
    "# Get the list of indicators from the column names of the DataFrame\n",
    "indicators = ['B_t', 'L_t', 'K_t', 'Q_t']\n",
    "\n",
    "# Define the year range based on the minimum and maximum years in the data\n",
    "min_year = DataProject_Data['t'].min()\n",
    "max_year = DataProject_Data['t'].max()\n",
    "\n",
    "# Create an interactive dropdown menu to select the indicator and a slider to select the year range\n",
    "interact(plot_indicator, \n",
    "         indicator=indicators, \n",
    "         year_range=widgets.IntRangeSlider(min=min_year, max=max_year, step=1, \n",
    "                                           value=[min_year, max_year], description='Year Range'))"
   ]
  },
  {
   "cell_type": "markdown",
   "metadata": {},
   "source": [
    "The figure above displays the simulated trend of four indicators for each country, Denmark, The US, China and India. The four indicators are the technological stage, $B_t$, population sizes, $L_t$, physical capital, $K_t$ and GDP/output, $Q_t$. \n",
    "\n",
    "It is clear that the technological level is considerably larger for the countries, Denmark and the US, while the population level is larger for India and China. Further we observe that, according to the theoretical model, the population of India should surpass China in 2040. In reality, the population of India has already surpassed the population level of China in 2022. Thus, the model captures this, but underestimates it. The stock of physical capital is expected to increase for all countries, where Denmark (as the smallest country, geographically) has the smallest level of physical capital stock. As perhaps expected, China holds the largest stock of physical capital. Lastly, the US has the largest GDP, followed by China. Denmark has the lowest. However, remember that these figures are not given in per capita sizes, thus they don't tell us anything about the welfare of the individual. "
   ]
  },
  {
   "cell_type": "code",
   "execution_count": null,
   "metadata": {},
   "outputs": [
    {
     "data": {
      "application/vnd.jupyter.widget-view+json": {
       "model_id": "97ec3b47fc7b460fa5c50a281c0f3c26",
       "version_major": 2,
       "version_minor": 0
      },
      "text/plain": [
       "interactive(children=(Dropdown(description='Country:', options=('DK', 'US', 'IN', 'CN'), value='DK'), Output()…"
      ]
     },
     "metadata": {},
     "output_type": "display_data"
    },
    {
     "data": {
      "text/plain": [
       "<function __main__.update_plot(country)>"
      ]
     },
     "execution_count": 48,
     "metadata": {},
     "output_type": "execute_result"
    }
   ],
   "source": [
    "# Define the list of countries\n",
    "countries = ['DK', 'US', 'IN', 'CN']\n",
    "\n",
    "# Define the dropdown widget for selecting the country\n",
    "country_dropdown = widgets.Dropdown(\n",
    "    options=countries,\n",
    "    value='DK',\n",
    "    description='Country:'\n",
    ")\n",
    "\n",
    "# Define the function to update the plot based on the selected country\n",
    "def update_plot(country):\n",
    "    # Calculate alpha for the selected country and update the plot\n",
    "    alpha_col_name = f'{country}_alpha'\n",
    "    alpha_value = alpha_calculator.calculate_alpha(f'{country}_Q_t', f'{country}_B_t', f'{country}_K_t', f'{country}_L_t')\n",
    "    DataProject_Data[alpha_col_name] = alpha_value\n",
    "    \n",
    "    # Plot alpha values over time for the specified country\n",
    "    plt.figure(figsize=(10, 6))  # Create a new figure for better organization\n",
    "    plt.plot(DataProject_Data['t'], DataProject_Data[alpha_col_name], label=f'{country} Alpha', color='blue')\n",
    "    plt.xlabel('Year')\n",
    "    plt.ylabel('Alpha')\n",
    "    plt.title('Country Specific Alpha over Time')\n",
    "    plt.legend()\n",
    "    plt.grid(True)\n",
    "    plt.show()\n",
    "\n",
    "# Create the interactive plot\n",
    "interact(update_plot, country=country_dropdown)"
   ]
  },
  {
   "cell_type": "markdown",
   "metadata": {},
   "source": [
    "In the figure above, the respective $\\alpha$-values for each country are displayed. It is essential to look into the evolution of the $\\alpha$-values since they are tightly correlated to the technological stage for each country. $\\alpha$ determines how sensitive output is to changes in technology, since the parameter determines the elasticity of output with respect to $B_t$, $K_t$ and $L_t$. \n",
    "\n",
    "For Denmark, $\\alpha_{DK}$ is increasing over the entire period with decreasing marginal returns, and the parameter converges towards $\\alpha_{DK} = 0.512$.\n",
    "\n",
    "For the United States, $\\alpha_{US}$ is initially increasing up untill the mid 90's before decreasing untill year 2100, where $\\alpha_{US} = 0.505$. \n",
    "\n",
    "For India, $\\alpha_{IN}$ is also initially increasing up untill around 2020, from where the parameter value is decreasing. The end value for the parameter in 2100 is $\\alpha_{IN} = 0.500$.\n",
    "\n",
    "For China, $\\alpha_{CN}$ is increasing up untill around 2040, from where the parameter value is slightly decreasing. The end value for the parameter in 2100 is $\\alpha_{CN} = 0.505$.\n",
    "\n",
    "This means that by year 2100 the gross domestic product $(Q_t)$ in Denmark is more sensitive to shocks in the technological stage than the other countries. High-income countries tends to invest more in research, education, and infrastructure, fostering innovation and technological advancement, which causes them to be more sensitive to changes in technologies."
   ]
  },
  {
   "cell_type": "markdown",
   "metadata": {},
   "source": [
    "# Technology increase in 2022 with 20%"
   ]
  },
  {
   "cell_type": "markdown",
   "metadata": {},
   "source": [
    "In this section we are creating a new varibale called $B^{new}_t$, which inceases with 20% from 2022. After making the variable, we plot it in an interactive graph so we can see both $B_t$ and $B^{new}_t$ for each country. "
   ]
  },
  {
   "cell_type": "code",
   "execution_count": null,
   "metadata": {},
   "outputs": [],
   "source": [
    "# Define a condition for assigning values to B_new_t which makes it possible to only look at the period from 2022-2100\n",
    "condition = (DataProject_Data['t'] >= 2022) & (DataProject_Data['t'] <= 2100)\n",
    "\n",
    "# Create a dictionary to map country codes to their corresponding 'B_t' columns\n",
    "country_b_columns = {\n",
    "    'DK': 'DK_B_t',\n",
    "    'US': 'US_B_t',\n",
    "    'IN': 'IN_B_t',\n",
    "    'CN': 'CN_B_t'\n",
    "}\n",
    "\n",
    "# Iterate over the countries and assign values to B_new_t based on the condition\n",
    "for country, b_column in country_b_columns.items():\n",
    "    # Assign values to B_new_t for the current country based on the condition\n",
    "    DataProject_Data.loc[~condition, f'{country}_B_new_t'] = DataProject_Data[b_column]\n",
    "    DataProject_Data.loc[condition, f'{country}_B_new_t'] = DataProject_Data[b_column] * 1.2\n",
    "\n",
    "\n",
    "# Define countries and their corresponding B_t and B_new_t columns\n",
    "countries = ['DK', 'US', 'IN', 'CN']\n",
    "country_b_columns = {country: f'{country}_B_t' for country in countries}\n",
    "country_b_new_columns = {country: f'{country}_B_new_t' for country in countries}"
   ]
  },
  {
   "cell_type": "code",
   "execution_count": null,
   "metadata": {},
   "outputs": [
    {
     "data": {
      "application/vnd.jupyter.widget-view+json": {
       "model_id": "6071f3e2b94d47fe84d297e12a58309f",
       "version_major": 2,
       "version_minor": 0
      },
      "text/plain": [
       "interactive(children=(Dropdown(description='Country', options=('DK', 'US', 'IN', 'CN'), value='DK'), Output())…"
      ]
     },
     "metadata": {},
     "output_type": "display_data"
    }
   ],
   "source": [
    "# Define a function to plot B_t and B_new_t for a selected country\n",
    "def plot_country_b_values(country):\n",
    "    plt.figure(figsize=(10, 6))\n",
    "    # Divide B_t and B_new_t values by 1,000 to display in thousands\n",
    "    plt.plot(DataProject_Data['t'], DataProject_Data[f'{country}_B_t'] / 1_000, label=f'{country} B_t (thousands)')\n",
    "    plt.plot(DataProject_Data['t'], DataProject_Data[f'{country}_B_new_t'] / 1_000, label=f'{country} B_new_t (thousands)')\n",
    "    plt.title(f'{country} B_t vs B_new_t')\n",
    "    plt.xlabel('Year')\n",
    "    plt.ylabel('Value (thousands)')\n",
    "    plt.legend()\n",
    "    plt.grid(True)\n",
    "    plt.show()\n",
    "\n",
    "# Define countries and their corresponding B_t and B_new_t columns\n",
    "countries = ['DK', 'US', 'IN', 'CN']\n",
    "\n",
    "# Create dropdown menu for selecting a country\n",
    "country_dropdown = widgets.Dropdown(options=countries, description='Country')\n",
    "\n",
    "# Interact function to update plot based on dropdown selection\n",
    "@interact(country=country_dropdown)\n",
    "def update_plot(country):\n",
    "    plot_country_b_values(country)"
   ]
  },
  {
   "cell_type": "markdown",
   "metadata": {},
   "source": [
    "When we change $B_t$ to $B^{new}_t$, $Q_t$ (GDP) will change, all else equal. Therefore, we introduce $Q^{new}_t$, which mirrors $Q_t$ until 2021. From 2022 onwards, $Q^{new}_t$ is recalculated using all parameters in our Cobb-Douglas production function along with the new technology variable $B^{new}_t$. We display $Q_t$ and $Q^{new}_t$ in an interactive graph to visualize these changes further below. "
   ]
  },
  {
   "cell_type": "code",
   "execution_count": null,
   "metadata": {},
   "outputs": [],
   "source": [
    "# Create an instance of AlphaCalculator with the provided data\n",
    "alpha_calculator = AlphaCalculator(DataProject_Data)\n",
    "\n",
    "# Define the list of countries\n",
    "countries = ['DK', 'US', 'IN', 'CN']\n",
    "\n",
    "# Calculate Q_new_t and Q_t for each country using the alpha values\n",
    "for country in countries:\n",
    "    # Calculate alpha values for the current country\n",
    "    alpha_col_name = f'{country}_alpha'\n",
    "    alpha_value = alpha_calculator.calculate_alpha(f'{country}_Q_t', f'{country}_B_t', f'{country}_K_t', f'{country}_L_t')\n",
    "    DataProject_Data[alpha_col_name] = alpha_value\n",
    "    \n",
    "    # Calculate Q_new_t using the provided formula\n",
    "    B_new_col = f'{country}_B_new_t'\n",
    "    K_col = f'{country}_K_t'\n",
    "    L_col = f'{country}_L_t'\n",
    "    DataProject_Data[f'{country}_Q_new_t'] = (DataProject_Data[B_new_col] ** alpha_value) * ((DataProject_Data[K_col] * DataProject_Data[L_col]) ** (1 - alpha_value))\n",
    "    \n",
    "    # Calculate Q_t using the same formula with B_t instead of B_new_t\n",
    "    B_col = f'{country}_B_t'\n",
    "    DataProject_Data[f'{country}_Q_t'] = (DataProject_Data[B_col] ** alpha_value) * ((DataProject_Data[K_col] * DataProject_Data[L_col]) ** (1 - alpha_value))"
   ]
  },
  {
   "cell_type": "code",
   "execution_count": null,
   "metadata": {},
   "outputs": [
    {
     "data": {
      "application/vnd.jupyter.widget-view+json": {
       "model_id": "691b28f4835d4137860a5338db875d76",
       "version_major": 2,
       "version_minor": 0
      },
      "text/plain": [
       "interactive(children=(Dropdown(description='Country', options=('DK', 'US', 'IN', 'CN'), value='DK'), Output())…"
      ]
     },
     "metadata": {},
     "output_type": "display_data"
    }
   ],
   "source": [
    "# Define a function to plot Q_t and Q_new_t for a selected country\n",
    "def plot_country_q_values(country):\n",
    "    plt.figure(figsize=(10, 6))\n",
    "    # Convert Q_t and Q_new_t values to billions\n",
    "    plt.plot(DataProject_Data['t'], DataProject_Data[f'{country}_Q_t'] / 1e9, label=f'{country} Q_t (billions)', color='blue')\n",
    "    plt.plot(DataProject_Data['t'], DataProject_Data[f'{country}_Q_new_t'] / 1e9, label=f'{country} Q_new_t (billions)', color='orange')\n",
    "    plt.title(f'{country} Q_t vs Q_new_t')\n",
    "    plt.xlabel('Year')\n",
    "    plt.ylabel('Value (billions)')\n",
    "    plt.legend()\n",
    "    plt.grid(True)\n",
    "    plt.show()\n",
    "\n",
    "# Define countries and their corresponding Q_t and Q_new_t columns\n",
    "countries = ['DK', 'US', 'IN', 'CN']\n",
    "\n",
    "# Create dropdown menu for selecting a country\n",
    "country_dropdown = widgets.Dropdown(options=countries, description='Country')\n",
    "\n",
    "# Interact function to update plot based on dropdown selection\n",
    "@interact(country=country_dropdown)\n",
    "def update_plot(country):\n",
    "    plot_country_q_values(country)"
   ]
  },
  {
   "cell_type": "markdown",
   "metadata": {},
   "source": [
    "In the diagram above, it becomes clear how an increase in the technology stage has a positive effect on output. Even though we use the same measure for each country (billion USD), it is quite hard to determine for which country the largest absolute effect occurs. In order to determine this, we can calculate the absolute difference between the old output, $Q_t$ and the new output $Q^{new}_t$ and then calculate how large the percentage change in output is in average:"
   ]
  },
  {
   "cell_type": "code",
   "execution_count": null,
   "metadata": {},
   "outputs": [
    {
     "name": "stdout",
     "output_type": "stream",
     "text": [
      "The average annual absolute increase from Q_t to Q_new_t for DK is 56751086748.34\n",
      "The average annual absolute increase from Q_t to Q_new_t for US is 4355866353657.45\n",
      "The average annual absolute increase from Q_t to Q_new_t for IN is 1914990088053.13\n",
      "The average annual absolute increase from Q_t to Q_new_t for CN is 3495480655900.84\n",
      "The average annual percentage increase from Q_t to Q_new_t for DK is 5.48%\n",
      "The average annual percentage increase from Q_t to Q_new_t for US is 5.41%\n",
      "The average annual percentage increase from Q_t to Q_new_t for IN is 5.36%\n",
      "The average annual percentage increase from Q_t to Q_new_t for CN is 5.41%\n"
     ]
    }
   ],
   "source": [
    "def calculate_average_annual_difference(country):\n",
    "    try:\n",
    "        Q_diff = DataProject_Data[f'{country}_Q_new_t'] - DataProject_Data[f'{country}_Q_t']\n",
    "        avg_annual_diff = Q_diff.mean()\n",
    "        return avg_annual_diff\n",
    "    except KeyError as e:\n",
    "        print(f\"Error: {e}\")\n",
    "        return None\n",
    "\n",
    "def calculate_average_annual_percentage_increase(country):\n",
    "    try:\n",
    "        Q_t = DataProject_Data[f'{country}_Q_t']\n",
    "        Q_new_t = DataProject_Data[f'{country}_Q_new_t']\n",
    "        Q_diff = Q_new_t - Q_t\n",
    "        percentage_increase = (Q_diff / Q_t) * 100\n",
    "        avg_annual_percentage_increase = percentage_increase.mean()\n",
    "        return avg_annual_percentage_increase\n",
    "    except KeyError as e:\n",
    "        print(f\"Error: {e}\")\n",
    "        return None\n",
    "\n",
    "# Define countries\n",
    "countries = ['DK', 'US', 'IN', 'CN']\n",
    "\n",
    "# Calculate and print the average annual absolute increase for each country\n",
    "for country in countries:\n",
    "    avg_annual_diff = calculate_average_annual_difference(country)\n",
    "    if avg_annual_diff is not None:\n",
    "        print(f\"The average annual absolute increase from Q_t to Q_new_t for {country} is {avg_annual_diff:.2f}\")\n",
    "\n",
    "# Calculate and print the average annual percentage increase for each country\n",
    "for country in countries:\n",
    "    avg_annual_percentage_increase = calculate_average_annual_percentage_increase(country)\n",
    "    if avg_annual_percentage_increase is not None:\n",
    "        print(f\"The average annual percentage increase from Q_t to Q_new_t for {country} is {avg_annual_percentage_increase:.2f}%\")\n"
   ]
  },
  {
   "cell_type": "markdown",
   "metadata": {},
   "source": [
    "The results shows that the technological increase has the largest effect on the average annual absolute change in output in the US, followed by China, India and lastly Denmark. However, when looking into the average annual percentage change, the effect is largest in Denmark, followed by the US and China, and lastly India. "
   ]
  },
  {
   "cell_type": "markdown",
   "metadata": {},
   "source": [
    "# Impact of the technological increase"
   ]
  },
  {
   "cell_type": "markdown",
   "metadata": {},
   "source": [
    "**Per worker terms**:\n",
    "\n",
    "To analyse the impact of the technological increase, it becomes essential to look at the impact for the individual worker. In this case, it means we should look into the effects of the technological increase on output per worker. We do so by introducing two new variables, $q_t = \\frac{Q_t}{L_t}$ and $q^{new}_t = \\frac{Q^{new}_t}{L_t}$. First, we calculate the two variables and below they are presented in a diagram for each country over the entire period. "
   ]
  },
  {
   "cell_type": "code",
   "execution_count": null,
   "metadata": {},
   "outputs": [
    {
     "data": {
      "application/vnd.jupyter.widget-view+json": {
       "model_id": "85ee5c78ebe04fcaba000c20d3628cab",
       "version_major": 2,
       "version_minor": 0
      },
      "text/plain": [
       "interactive(children=(IntRangeSlider(value=(1960, 2100), continuous_update=False, description='Year Range:', m…"
      ]
     },
     "metadata": {},
     "output_type": "display_data"
    }
   ],
   "source": [
    "# Define the list of countries\n",
    "countries = ['DK', 'US', 'IN', 'CN']\n",
    "\n",
    "# Calculate q_t = Q_t / L_t for each country and assign it to a new column\n",
    "for country in countries:\n",
    "    DataProject_Data[f'{country}_q_t'] = DataProject_Data[f'{country}_Q_t'] / DataProject_Data[f'{country}_L_t']\n",
    "    DataProject_Data[f'{country}_q_new_t'] = DataProject_Data[f'{country}_Q_new_t'] / DataProject_Data[f'{country}_L_t']\n",
    "\n",
    "\n",
    "def plot_q_t(year_range, country):\n",
    "    start_year, end_year = year_range\n",
    "    plt.figure(figsize=(10, 6))\n",
    "    mask = (DataProject_Data['t'] >= start_year) & (DataProject_Data['t'] <= end_year)\n",
    "    plt.plot(DataProject_Data['t'][mask], DataProject_Data[f'{country}_q_t'][mask], label=f'{country} q_t')\n",
    "    plt.plot(DataProject_Data['t'][mask], DataProject_Data[f'{country}_q_new_t'][mask], label=f'{country} q_new_t')\n",
    "    plt.xlabel('Year')\n",
    "    plt.ylabel('Values')\n",
    "    plt.title(f'q_t and q_new_t Values for {country} from {start_year} to {end_year}')\n",
    "    plt.legend()\n",
    "    plt.grid(True)\n",
    "    plt.show()\n",
    "\n",
    "year_range_slider = widgets.IntRangeSlider(\n",
    "    value=[1960, 2100],  # Adjusted to fit the example data range\n",
    "    min=1960,\n",
    "    max=2100,\n",
    "    step=1,\n",
    "    description='Year Range:',\n",
    "    continuous_update=False\n",
    ")\n",
    "\n",
    "# Create dropdown menu for selecting a country\n",
    "country_dropdown = widgets.Dropdown(options=countries, description='Country')\n",
    "\n",
    "# Interact function to update plot based on dropdown selection\n",
    "@interact(year_range=year_range_slider, country=country_dropdown)\n",
    "def update_plot(year_range, country):\n",
    "    plot_q_t(year_range, country)"
   ]
  },
  {
   "cell_type": "code",
   "execution_count": null,
   "metadata": {},
   "outputs": [
    {
     "name": "stdout",
     "output_type": "stream",
     "text": [
      "The average annual absolute increase from q_t to q_new_t for DK is 14325.76\n",
      "The average annual absolute increase from q_t to q_new_t for US is 13566.91\n",
      "The average annual absolute increase from q_t to q_new_t for IN is 1228.37\n",
      "The average annual absolute increase from q_t to q_new_t for CN is 2850.39\n",
      "The average annual percentage increase from q_t to q_new_t for DK is 5.48%\n",
      "The average annual percentage increase from q_t to q_new_t for US is 5.41%\n",
      "The average annual percentage increase from q_t to q_new_t for IN is 5.36%\n",
      "The average annual percentage increase from q_t to q_new_t for CN is 5.41%\n"
     ]
    }
   ],
   "source": [
    "def calculate_average_annual_difference(country):\n",
    "    try:\n",
    "        q_diff = DataProject_Data[f'{country}_q_new_t'] - DataProject_Data[f'{country}_q_t']\n",
    "        avg_annual_diff = q_diff.mean()\n",
    "        return avg_annual_diff\n",
    "    except KeyError as e:\n",
    "        print(f\"Error: {e}\")\n",
    "        return None\n",
    "\n",
    "def calculate_average_annual_percentage_increase(country):\n",
    "    try:\n",
    "        q_t = DataProject_Data[f'{country}_q_t']\n",
    "        q_new_t = DataProject_Data[f'{country}_q_new_t']\n",
    "        q_diff = q_new_t - q_t\n",
    "        percentage_increase = (q_diff / q_t) * 100\n",
    "        avg_annual_percentage_increase = percentage_increase.mean()\n",
    "        return avg_annual_percentage_increase\n",
    "    except KeyError as e:\n",
    "        print(f\"Error: {e}\")\n",
    "        return None\n",
    "\n",
    "# Define countries\n",
    "countries = ['DK', 'US', 'IN', 'CN']\n",
    "\n",
    "# Calculate and print the average annual absolute increase for each country\n",
    "for country in countries:\n",
    "    avg_annual_diff = calculate_average_annual_difference(country)\n",
    "    if avg_annual_diff is not None:\n",
    "        print(f\"The average annual absolute increase from q_t to q_new_t for {country} is {avg_annual_diff:.2f}\")\n",
    "\n",
    "# Calculate and print the average annual percentage increase for each country\n",
    "for country in countries:\n",
    "    avg_annual_percentage_increase = calculate_average_annual_percentage_increase(country)\n",
    "    if avg_annual_percentage_increase is not None:\n",
    "        print(f\"The average annual percentage increase from q_t to q_new_t for {country} is {avg_annual_percentage_increase:.2f}%\")"
   ]
  },
  {
   "cell_type": "markdown",
   "metadata": {},
   "source": [
    "Since India and China has such huge populations, the results changes when looking into per worker terms. Remember from earlier, that we found that the average annual absolute change in output were largest in the US, followed by China, India and Denmark. When looking at per worker terms, the largest effect is observed for Denmark, followed by the US, China and India. In percentage terms, the same results still hold from earlier. These results show us, that the technological increase has the largest overall effect in level in the US, but when looking at per worker terms and individual welfare, the effect is largest in Denmark. "
   ]
  },
  {
   "cell_type": "markdown",
   "metadata": {},
   "source": [
    "# Conclusion"
   ]
  },
  {
   "cell_type": "markdown",
   "metadata": {},
   "source": [
    "In this paper, we found that the long run effects of a positive shock to technology of $20\\%$ have positive effects on output per worker for all four countries. The results are thus consistent across high- and low-income countries, however, the impacts are different. \n",
    "\n",
    "We found that the growth rates for output per worker are not sentitive to shocks, but the levels of output per worker are. This means, that the absolut values changes, but not the speed they increase with. We found that when looking only at the gap in total output, the largest effect were observed for the US, followed by China, India and Denmark. However, when looking at the gaps between the curves for output per worker with and without a shock to technology for each country, that the largest gaps are seen in the two high-income countries. For Denmark, the gap is $14,325.76$ USD, which is the largest gap. This is followed by $13,566.91$ USD for the United States, $2,850.39$ USD for China and $1,228.37$ USD for India. \n",
    "\n",
    "This means that the long run effects of a positive schock to technology are positive on output per worker, but initial conditions such as population size and output size has great effects on the results. "
   ]
  },
  {
   "cell_type": "markdown",
   "metadata": {},
   "source": [
    "# Bibliography on data"
   ]
  },
  {
   "cell_type": "markdown",
   "metadata": {},
   "source": [
    "### Capital Stock\n",
    "\n",
    "University of Groningen and University of California, Davis \"Capital Stock at Constant National Prices\".  \n",
    "Retrieved from FRED, Federal Reserve Bank of St. Louis\n",
    "\n",
    "**Denmark**: [RKNANPDKA666NRUG](https://fred.stlouisfed.org/series/RKNANPDKA666NRUG)  \n",
    "**The United States**: [RKNANPUSA666NRUG](https://fred.stlouisfed.org/series/RKNANPUSA666NRUG)  \n",
    "**India**: [RKNANPINA666NRUG](https://fred.stlouisfed.org/series/RKNANPINA666NRUG)  \n",
    "**China**: [RKNANPCNA666NRUG](https://fred.stlouisfed.org/series/RKNANPCNA666NRUG)\n",
    "\n",
    "### Gross Domestic Product\n",
    "\n",
    "University of Groningen and University of California, Davis \"Real GDP at Constant National Prices\".  \n",
    "Retrieved from FRED, Federal Reserve Bank of St. Louis\n",
    "\n",
    "**Denmark**: [RGDPNADKA666NRUG](https://fred.stlouisfed.org/series/RGDPNADKA666NRUG)  \n",
    "**The United States**: [RGDPNAUSA666NRUG](https://fred.stlouisfed.org/series/RGDPNAUSA666NRUG)  \n",
    "**India**: [RGDPNAINA666NRUG](https://fred.stlouisfed.org/series/RGDPNAINA666NRUG)  \n",
    "**China**: [RGDPNACNA666NRUG](https://fred.stlouisfed.org/series/RGDPNACNA666NRUG)\n",
    "\n",
    "### Labour Force\n",
    "\n",
    "University of Groningen and University of California, Davis \"Number of Persons Engaged\".  \n",
    "Retrieved from FRED, Federal Reserve Bank of St. Louis\n",
    "\n",
    "**Denmark**: [EMPENGDKA148NRUG](https://fred.stlouisfed.org/series/EMPENGDKA148NRUG)  \n",
    "**The United States**: [EMPENGUSA148NRUG](https://fred.stlouisfed.org/series/EMPENGUSA148NRUG)  \n",
    "**India**: [EMPENGINA148NRUG](https://fred.stlouisfed.org/series/EMPENGINA148NRUG)  \n",
    "**China**: [EMPENGCNA148NRUG](https://fred.stlouisfed.org/series/EMPENGCNA148NRUG)\n",
    "\n",
    "## Technological Stage\n",
    "This variable has been calculated using the other available variables for each country for each year. \n",
    "\n",
    "## Other parameters and variables\n",
    "We want to mention once again, that all data except the initial year 1960 has been simulated through a Green Solow Model used in a previous bachelor thesis, where many other parameters has been collected or calculated. Among these are savings rates, depreciation rates on capital etc. However, the most important variables and the data retrieved for these are listed above. \n"
   ]
  }
 ],
 "metadata": {
  "kernelspec": {
   "display_name": "base",
   "language": "python",
   "name": "python3"
  },
  "language_info": {
   "codemirror_mode": {
    "name": "ipython",
    "version": 3
   },
   "file_extension": ".py",
   "mimetype": "text/x-python",
   "name": "python",
   "nbconvert_exporter": "python",
   "pygments_lexer": "ipython3",
   "version": "3.11.8"
  },
  "toc-autonumbering": true
 },
 "nbformat": 4,
 "nbformat_minor": 4
}
