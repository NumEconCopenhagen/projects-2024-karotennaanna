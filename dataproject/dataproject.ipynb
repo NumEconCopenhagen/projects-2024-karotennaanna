{
 "cells": [
  {
   "cell_type": "markdown",
   "metadata": {},
   "source": [
    "# THE EFFECT OF A POSITIVE SHOCK TO TECHNOLOGY IN HIGH- AND LOW-INCOME COUNTRIES"
   ]
  },
  {
   "cell_type": "markdown",
   "metadata": {},
   "source": [
    "**Introduction:**\n",
    "\n",
    "The aim of this project is to analyse the effect of a positive schock to the technological stage for different high- and low-income countries. More specifically, we want to estimate the long-run effects of an increase in technology by 20% from 2022 onwards. This high increase occurs due to the new AI technologies, which has been changing the technological scene all over the world."
   ]
  },
  {
   "cell_type": "markdown",
   "metadata": {},
   "source": [
    "**On our data:**\n",
    "\n",
    "For the analysis, we have collected data from 1960 for gross domestic product $(Q_t)$, physical capital $(K_t)$, techological stage $(B_t)$ and labor force $(L_t)$. The selected countries are Denmark, The United States, India and China. All data is simulated up until year 2100 based on an extended Solow-Model, where all parameter values has been calculated for each country. This means that the dataset is fictional and based on a theoretical model, which does not include outliers or fluctuations. All data from 1960 has been collected from The World Bank and Penn World Table 9.0."
   ]
  },
  {
   "cell_type": "markdown",
   "metadata": {},
   "source": [
    "First we make imports and set magics:"
   ]
  },
  {
   "cell_type": "code",
   "execution_count": 1,
   "metadata": {},
   "outputs": [
    {
     "ename": "ImportError",
     "evalue": "Unable to import required dependencies:\nnumpy: Error importing numpy: you should not try to import numpy from\n        its source directory; please exit the numpy source tree, and relaunch\n        your python interpreter from there.",
     "output_type": "error",
     "traceback": [
      "\u001b[0;31m---------------------------------------------------------------------------\u001b[0m",
      "\u001b[0;31mImportError\u001b[0m                               Traceback (most recent call last)",
      "Cell \u001b[0;32mIn[1], line 2\u001b[0m\n\u001b[1;32m      1\u001b[0m \u001b[38;5;66;03m# Import necessary libraries\u001b[39;00m\n\u001b[0;32m----> 2\u001b[0m \u001b[38;5;28;01mimport\u001b[39;00m \u001b[38;5;21;01mpandas\u001b[39;00m \u001b[38;5;28;01mas\u001b[39;00m \u001b[38;5;21;01mpd\u001b[39;00m  \u001b[38;5;66;03m# Import pandas for data manipulation\u001b[39;00m\n\u001b[1;32m      3\u001b[0m \u001b[38;5;28;01mimport\u001b[39;00m \u001b[38;5;21;01mnumpy\u001b[39;00m \u001b[38;5;28;01mas\u001b[39;00m \u001b[38;5;21;01mnp\u001b[39;00m  \u001b[38;5;66;03m# Import numpy for numerical computing\u001b[39;00m\n\u001b[1;32m      4\u001b[0m \u001b[38;5;28;01mimport\u001b[39;00m \u001b[38;5;21;01mmatplotlib\u001b[39;00m\u001b[38;5;21;01m.\u001b[39;00m\u001b[38;5;21;01mpyplot\u001b[39;00m \u001b[38;5;28;01mas\u001b[39;00m \u001b[38;5;21;01mplt\u001b[39;00m  \u001b[38;5;66;03m# Import matplotlib for plotting\u001b[39;00m\n",
      "File \u001b[0;32m~/anaconda3/lib/python3.11/site-packages/pandas/__init__.py:16\u001b[0m\n\u001b[1;32m     13\u001b[0m         _missing_dependencies\u001b[38;5;241m.\u001b[39mappend(\u001b[38;5;124mf\u001b[39m\u001b[38;5;124m\"\u001b[39m\u001b[38;5;132;01m{\u001b[39;00m_dependency\u001b[38;5;132;01m}\u001b[39;00m\u001b[38;5;124m: \u001b[39m\u001b[38;5;132;01m{\u001b[39;00m_e\u001b[38;5;132;01m}\u001b[39;00m\u001b[38;5;124m\"\u001b[39m)\n\u001b[1;32m     15\u001b[0m \u001b[38;5;28;01mif\u001b[39;00m _missing_dependencies:  \u001b[38;5;66;03m# pragma: no cover\u001b[39;00m\n\u001b[0;32m---> 16\u001b[0m     \u001b[38;5;28;01mraise\u001b[39;00m \u001b[38;5;167;01mImportError\u001b[39;00m(\n\u001b[1;32m     17\u001b[0m         \u001b[38;5;124m\"\u001b[39m\u001b[38;5;124mUnable to import required dependencies:\u001b[39m\u001b[38;5;130;01m\\n\u001b[39;00m\u001b[38;5;124m\"\u001b[39m \u001b[38;5;241m+\u001b[39m \u001b[38;5;124m\"\u001b[39m\u001b[38;5;130;01m\\n\u001b[39;00m\u001b[38;5;124m\"\u001b[39m\u001b[38;5;241m.\u001b[39mjoin(_missing_dependencies)\n\u001b[1;32m     18\u001b[0m     )\n\u001b[1;32m     19\u001b[0m \u001b[38;5;28;01mdel\u001b[39;00m _hard_dependencies, _dependency, _missing_dependencies\n\u001b[1;32m     21\u001b[0m \u001b[38;5;28;01mtry\u001b[39;00m:\n\u001b[1;32m     22\u001b[0m     \u001b[38;5;66;03m# numpy compat\u001b[39;00m\n",
      "\u001b[0;31mImportError\u001b[0m: Unable to import required dependencies:\nnumpy: Error importing numpy: you should not try to import numpy from\n        its source directory; please exit the numpy source tree, and relaunch\n        your python interpreter from there."
     ]
    }
   ],
   "source": [
    "# Import necessary libraries\n",
    "import pandas as pd  # Import pandas for data manipulation\n",
    "import numpy as np  # Import numpy for numerical computing\n",
    "import matplotlib.pyplot as plt  # Import matplotlib for plotting\n",
    "import ipywidgets as widgets  # Import ipywidgets for interactive widgets\n",
    "from ipywidgets import interact, widgets  # Import interact and widgets from ipywidgets\n",
    "from IPython.display import display  # Import display function from IPython.display for displaying output\n",
    "import dataproject  # Import custom module dataproject for additional functionalities\n",
    "import csv  # Import csv module for reading CSV files\n",
    "\n",
    "# Specifying the filename of the CSV file containing the data\n",
    "filename = \"DataProject_Data.csv\"\n",
    "\n",
    "# Open the CSV file and print its contents\n",
    "with open('DataProject_Data.csv', 'r') as file:\n",
    "    reader = csv.reader(file)\n",
    "    for row in reader:\n",
    "        print(row)\n",
    "\n",
    "# Read the CSV file into a pandas DataFrame\n",
    "DataProject_Data = pd.read_csv(filename, delimiter=\";\")\n",
    "\n",
    "# Create an instance of the Solowclass from the dataproject module with the specified filename\n",
    "Solowclass = dataproject.Solowclass(filename)\n"
   ]
  },
  {
   "cell_type": "markdown",
   "metadata": {},
   "source": [
    "# Read and clean data"
   ]
  },
  {
   "cell_type": "code",
   "execution_count": null,
   "metadata": {},
   "outputs": [],
   "source": [
    "# Remove trailing whitespaces from column names\n",
    "DataProject_Data.columns = DataProject_Data.columns.str.strip()\n",
    "\n",
    "# Convert specific columns to strings before replacing commas\n",
    "string_columns = ['DK_K_t', 'US_K_t']  # Specify columns to be converted to strings\n",
    "for column in string_columns:\n",
    "    DataProject_Data[column] = DataProject_Data[column].astype(str)\n",
    "\n",
    "# Replace commas with dots in selected columns to prepare for conversion to float\n",
    "DataProject_Data['DK_K_t'] = DataProject_Data['DK_K_t'].str.replace(',', '.')\n",
    "DataProject_Data['US_K_t'] = DataProject_Data['US_K_t'].str.replace(',', '.')\n",
    "\n",
    "# Convert strings to floats for specified columns\n",
    "columns_to_convert = ['DK_B_t', 'US_B_t', 'IN_B_t', 'CN_B_t',  # Specify columns to be converted to floats\n",
    "                      'DK_K_t', 'US_K_t', 'IN_K_t', 'CN_K_t',\n",
    "                      'DK_Q_t', 'US_Q_t', 'IN_Q_t', 'CN_Q_t',\n",
    "                      'DK_L_t', 'US_L_t', 'IN_L_t', 'CN_L_t']\n",
    "\n",
    "for column in columns_to_convert:\n",
    "    # Replace commas with dots and convert the column to float type\n",
    "    DataProject_Data[column] = DataProject_Data[column].str.replace(',', '.').astype(float)"
   ]
  },
  {
   "cell_type": "code",
   "execution_count": null,
   "metadata": {},
   "outputs": [],
   "source": [
    "# Check data types\n",
    "print(DataProject_Data.dtypes)\n",
    "\n",
    "# Inspect sample data\n",
    "print(DataProject_Data.head())\n",
    "\n",
    "# Calculate statistics\n",
    "print(DataProject_Data.describe())\n"
   ]
  },
  {
   "cell_type": "markdown",
   "metadata": {},
   "source": [
    "# Exploring the data"
   ]
  },
  {
   "cell_type": "code",
   "execution_count": null,
   "metadata": {},
   "outputs": [
    {
     "data": {
      "text/html": [
       "<style type=\"text/css\">\n",
       "#T_ad5b2 th {\n",
       "  background-color: white;\n",
       "}\n",
       "#T_ad5b2 td {\n",
       "  font-size: 12pt;\n",
       "}\n",
       "#T_ad5b2 tr:nth-of-type(odd) {\n",
       "  background-color: whitesmoke;\n",
       "}\n",
       "#T_ad5b2 tr:nth-of-type(even) {\n",
       "  background-color: white;\n",
       "}\n",
       "</style>\n",
       "<table id=\"T_ad5b2\">\n",
       "  <thead>\n",
       "    <tr>\n",
       "      <th class=\"blank level0\" >&nbsp;</th>\n",
       "      <th id=\"T_ad5b2_level0_col0\" class=\"col_heading level0 col0\" >t</th>\n",
       "      <th id=\"T_ad5b2_level0_col1\" class=\"col_heading level0 col1\" >DK_B_t</th>\n",
       "      <th id=\"T_ad5b2_level0_col2\" class=\"col_heading level0 col2\" >DK_L_t</th>\n",
       "      <th id=\"T_ad5b2_level0_col3\" class=\"col_heading level0 col3\" >DK_K_t</th>\n",
       "      <th id=\"T_ad5b2_level0_col4\" class=\"col_heading level0 col4\" >DK_Q_t</th>\n",
       "      <th id=\"T_ad5b2_level0_col5\" class=\"col_heading level0 col5\" >US_B_t</th>\n",
       "      <th id=\"T_ad5b2_level0_col6\" class=\"col_heading level0 col6\" >US_L_t</th>\n",
       "      <th id=\"T_ad5b2_level0_col7\" class=\"col_heading level0 col7\" >US_K_t</th>\n",
       "      <th id=\"T_ad5b2_level0_col8\" class=\"col_heading level0 col8\" >US_Q_t</th>\n",
       "      <th id=\"T_ad5b2_level0_col9\" class=\"col_heading level0 col9\" >IN_B_t</th>\n",
       "      <th id=\"T_ad5b2_level0_col10\" class=\"col_heading level0 col10\" >IN_L_t</th>\n",
       "      <th id=\"T_ad5b2_level0_col11\" class=\"col_heading level0 col11\" >IN_K_t</th>\n",
       "      <th id=\"T_ad5b2_level0_col12\" class=\"col_heading level0 col12\" >IN_Q_t</th>\n",
       "      <th id=\"T_ad5b2_level0_col13\" class=\"col_heading level0 col13\" >CN_B_t</th>\n",
       "      <th id=\"T_ad5b2_level0_col14\" class=\"col_heading level0 col14\" >CN_L_t</th>\n",
       "      <th id=\"T_ad5b2_level0_col15\" class=\"col_heading level0 col15\" >CN_K_t</th>\n",
       "      <th id=\"T_ad5b2_level0_col16\" class=\"col_heading level0 col16\" >CN_Q_t</th>\n",
       "    </tr>\n",
       "  </thead>\n",
       "  <tbody>\n",
       "    <tr>\n",
       "      <th id=\"T_ad5b2_level0_row0\" class=\"row_heading level0 row0\" >count</th>\n",
       "      <td id=\"T_ad5b2_row0_col0\" class=\"data row0 col0\" >141.00</td>\n",
       "      <td id=\"T_ad5b2_row0_col1\" class=\"data row0 col1\" >141.00</td>\n",
       "      <td id=\"T_ad5b2_row0_col2\" class=\"data row0 col2\" >141.00</td>\n",
       "      <td id=\"T_ad5b2_row0_col3\" class=\"data row0 col3\" >141.00</td>\n",
       "      <td id=\"T_ad5b2_row0_col4\" class=\"data row0 col4\" >141.00</td>\n",
       "      <td id=\"T_ad5b2_row0_col5\" class=\"data row0 col5\" >141.00</td>\n",
       "      <td id=\"T_ad5b2_row0_col6\" class=\"data row0 col6\" >141.00</td>\n",
       "      <td id=\"T_ad5b2_row0_col7\" class=\"data row0 col7\" >141.00</td>\n",
       "      <td id=\"T_ad5b2_row0_col8\" class=\"data row0 col8\" >141.00</td>\n",
       "      <td id=\"T_ad5b2_row0_col9\" class=\"data row0 col9\" >141.00</td>\n",
       "      <td id=\"T_ad5b2_row0_col10\" class=\"data row0 col10\" >141.00</td>\n",
       "      <td id=\"T_ad5b2_row0_col11\" class=\"data row0 col11\" >141.00</td>\n",
       "      <td id=\"T_ad5b2_row0_col12\" class=\"data row0 col12\" >141.00</td>\n",
       "      <td id=\"T_ad5b2_row0_col13\" class=\"data row0 col13\" >141.00</td>\n",
       "      <td id=\"T_ad5b2_row0_col14\" class=\"data row0 col14\" >141.00</td>\n",
       "      <td id=\"T_ad5b2_row0_col15\" class=\"data row0 col15\" >141.00</td>\n",
       "      <td id=\"T_ad5b2_row0_col16\" class=\"data row0 col16\" >141.00</td>\n",
       "    </tr>\n",
       "    <tr>\n",
       "      <th id=\"T_ad5b2_level0_row1\" class=\"row_heading level0 row1\" >mean</th>\n",
       "      <td id=\"T_ad5b2_row1_col0\" class=\"data row1 col0\" >2030.00</td>\n",
       "      <td id=\"T_ad5b2_row1_col1\" class=\"data row1 col1\" >58242.50</td>\n",
       "      <td id=\"T_ad5b2_row1_col2\" class=\"data row1 col2\" >3233410.06</td>\n",
       "      <td id=\"T_ad5b2_row1_col3\" class=\"data row1 col3\" >4737630120567.38</td>\n",
       "      <td id=\"T_ad5b2_row1_col4\" class=\"data row1 col4\" >668064880552.72</td>\n",
       "      <td id=\"T_ad5b2_row1_col5\" class=\"data row1 col5\" >62714.32</td>\n",
       "      <td id=\"T_ad5b2_row1_col6\" class=\"data row1 col6\" >211554992.97</td>\n",
       "      <td id=\"T_ad5b2_row1_col7\" class=\"data row1 col7\" >226024113475177.31</td>\n",
       "      <td id=\"T_ad5b2_row1_col8\" class=\"data row1 col8\" >49432999503546.10</td>\n",
       "      <td id=\"T_ad5b2_row1_col9\" class=\"data row1 col9\" >3742.81</td>\n",
       "      <td id=\"T_ad5b2_row1_col10\" class=\"data row1 col10\" >910354945.57</td>\n",
       "      <td id=\"T_ad5b2_row1_col11\" class=\"data row1 col11\" >99992359007092.20</td>\n",
       "      <td id=\"T_ad5b2_row1_col12\" class=\"data row1 col12\" >21143090936170.21</td>\n",
       "      <td id=\"T_ad5b2_row1_col13\" class=\"data row1 col13\" >8366.78</td>\n",
       "      <td id=\"T_ad5b2_row1_col14\" class=\"data row1 col14\" >820653222.23</td>\n",
       "      <td id=\"T_ad5b2_row1_col15\" class=\"data row1 col15\" >283004098503546.12</td>\n",
       "      <td id=\"T_ad5b2_row1_col16\" class=\"data row1 col16\" >39215470716312.05</td>\n",
       "    </tr>\n",
       "    <tr>\n",
       "      <th id=\"T_ad5b2_level0_row2\" class=\"row_heading level0 row2\" >std</th>\n",
       "      <td id=\"T_ad5b2_row2_col0\" class=\"data row2 col0\" >40.85</td>\n",
       "      <td id=\"T_ad5b2_row2_col1\" class=\"data row2 col1\" >34222.20</td>\n",
       "      <td id=\"T_ad5b2_row2_col2\" class=\"data row2 col2\" >749311.64</td>\n",
       "      <td id=\"T_ad5b2_row2_col3\" class=\"data row2 col3\" >4289066325073.34</td>\n",
       "      <td id=\"T_ad5b2_row2_col4\" class=\"data row2 col4\" >559038582229.95</td>\n",
       "      <td id=\"T_ad5b2_row2_col5\" class=\"data row2 col5\" >36849.76</td>\n",
       "      <td id=\"T_ad5b2_row2_col6\" class=\"data row2 col6\" >113434609.42</td>\n",
       "      <td id=\"T_ad5b2_row2_col7\" class=\"data row2 col7\" >238374480289732.12</td>\n",
       "      <td id=\"T_ad5b2_row2_col8\" class=\"data row2 col8\" >51741030683877.75</td>\n",
       "      <td id=\"T_ad5b2_row2_col9\" class=\"data row2 col9\" >2199.21</td>\n",
       "      <td id=\"T_ad5b2_row2_col10\" class=\"data row2 col10\" >673094809.79</td>\n",
       "      <td id=\"T_ad5b2_row2_col11\" class=\"data row2 col11\" >124745141554075.16</td>\n",
       "      <td id=\"T_ad5b2_row2_col12\" class=\"data row2 col12\" >25926585342494.73</td>\n",
       "      <td id=\"T_ad5b2_row2_col13\" class=\"data row2 col13\" >4916.16</td>\n",
       "      <td id=\"T_ad5b2_row2_col14\" class=\"data row2 col14\" >415596102.35</td>\n",
       "      <td id=\"T_ad5b2_row2_col15\" class=\"data row2 col15\" >314191867669328.75</td>\n",
       "      <td id=\"T_ad5b2_row2_col16\" class=\"data row2 col16\" >41740162288007.52</td>\n",
       "    </tr>\n",
       "    <tr>\n",
       "      <th id=\"T_ad5b2_level0_row3\" class=\"row_heading level0 row3\" >min</th>\n",
       "      <td id=\"T_ad5b2_row3_col0\" class=\"data row3 col0\" >1960.00</td>\n",
       "      <td id=\"T_ad5b2_row3_col1\" class=\"data row3 col1\" >17203.33</td>\n",
       "      <td id=\"T_ad5b2_row3_col2\" class=\"data row3 col2\" >2111660.00</td>\n",
       "      <td id=\"T_ad5b2_row3_col3\" class=\"data row3 col3\" >266627000000.00</td>\n",
       "      <td id=\"T_ad5b2_row3_col4\" class=\"data row3 col4\" >75799778713.00</td>\n",
       "      <td id=\"T_ad5b2_row3_col5\" class=\"data row3 col5\" >18524.19</td>\n",
       "      <td id=\"T_ad5b2_row3_col6\" class=\"data row3 col6\" >70956940.00</td>\n",
       "      <td id=\"T_ad5b2_row3_col7\" class=\"data row3 col7\" >14693100000000.00</td>\n",
       "      <td id=\"T_ad5b2_row3_col8\" class=\"data row3 col8\" >3510940000000.00</td>\n",
       "      <td id=\"T_ad5b2_row3_col9\" class=\"data row3 col9\" >1105.53</td>\n",
       "      <td id=\"T_ad5b2_row3_col10\" class=\"data row3 col10\" >179374600.00</td>\n",
       "      <td id=\"T_ad5b2_row3_col11\" class=\"data row3 col11\" >1058700000000.00</td>\n",
       "      <td id=\"T_ad5b2_row3_col12\" class=\"data row3 col12\" >447576000000.00</td>\n",
       "      <td id=\"T_ad5b2_row3_col13\" class=\"data row3 col13\" >2471.33</td>\n",
       "      <td id=\"T_ad5b2_row3_col14\" class=\"data row3 col14\" >295659330.00</td>\n",
       "      <td id=\"T_ad5b2_row3_col15\" class=\"data row3 col15\" >639094000000.00</td>\n",
       "      <td id=\"T_ad5b2_row3_col16\" class=\"data row3 col16\" >689786000000.00</td>\n",
       "    </tr>\n",
       "    <tr>\n",
       "      <th id=\"T_ad5b2_level0_row4\" class=\"row_heading level0 row4\" >25%</th>\n",
       "      <td id=\"T_ad5b2_row4_col0\" class=\"data row4 col0\" >1995.00</td>\n",
       "      <td id=\"T_ad5b2_row4_col1\" class=\"data row4 col1\" >28968.37</td>\n",
       "      <td id=\"T_ad5b2_row4_col2\" class=\"data row4 col2\" >2578232.20</td>\n",
       "      <td id=\"T_ad5b2_row4_col3\" class=\"data row4 col3\" >1201740000000.00</td>\n",
       "      <td id=\"T_ad5b2_row4_col4\" class=\"data row4 col4\" >208194000000.00</td>\n",
       "      <td id=\"T_ad5b2_row4_col5\" class=\"data row4 col5\" >31192.54</td>\n",
       "      <td id=\"T_ad5b2_row4_col6\" class=\"data row4 col6\" >113848141.10</td>\n",
       "      <td id=\"T_ad5b2_row4_col7\" class=\"data row4 col7\" >43813100000000.00</td>\n",
       "      <td id=\"T_ad5b2_row4_col8\" class=\"data row4 col8\" >9874300000000.00</td>\n",
       "      <td id=\"T_ad5b2_row4_col9\" class=\"data row4 col9\" >1861.58</td>\n",
       "      <td id=\"T_ad5b2_row4_col10\" class=\"data row4 col10\" >350212620.90</td>\n",
       "      <td id=\"T_ad5b2_row4_col11\" class=\"data row4 col11\" >10113100000000.00</td>\n",
       "      <td id=\"T_ad5b2_row4_col12\" class=\"data row4 col12\" >2471030000000.00</td>\n",
       "      <td id=\"T_ad5b2_row4_col13\" class=\"data row4 col13\" >4161.43</td>\n",
       "      <td id=\"T_ad5b2_row4_col14\" class=\"data row4 col14\" >461445942.90</td>\n",
       "      <td id=\"T_ad5b2_row4_col15\" class=\"data row4 col15\" >38877200000000.00</td>\n",
       "      <td id=\"T_ad5b2_row4_col16\" class=\"data row4 col16\" >6999800000000.00</td>\n",
       "    </tr>\n",
       "    <tr>\n",
       "      <th id=\"T_ad5b2_level0_row5\" class=\"row_heading level0 row5\" >50%</th>\n",
       "      <td id=\"T_ad5b2_row5_col0\" class=\"data row5 col0\" >2030.00</td>\n",
       "      <td id=\"T_ad5b2_row5_col1\" class=\"data row5 col1\" >48779.29</td>\n",
       "      <td id=\"T_ad5b2_row5_col2\" class=\"data row5 col2\" >3147893.73</td>\n",
       "      <td id=\"T_ad5b2_row5_col3\" class=\"data row5 col3\" >3209030000000.00</td>\n",
       "      <td id=\"T_ad5b2_row5_col4\" class=\"data row5 col4\" >471389000000.00</td>\n",
       "      <td id=\"T_ad5b2_row5_col5\" class=\"data row5 col5\" >52524.53</td>\n",
       "      <td id=\"T_ad5b2_row5_col6\" class=\"data row5 col6\" >182665701.80</td>\n",
       "      <td id=\"T_ad5b2_row5_col7\" class=\"data row5 col7\" >123047000000000.00</td>\n",
       "      <td id=\"T_ad5b2_row5_col8\" class=\"data row5 col8\" >27101700000000.00</td>\n",
       "      <td id=\"T_ad5b2_row5_col9\" class=\"data row5 col9\" >3134.68</td>\n",
       "      <td id=\"T_ad5b2_row5_col10\" class=\"data row5 col10\" >683758346.10</td>\n",
       "      <td id=\"T_ad5b2_row5_col11\" class=\"data row5 col11\" >41788800000000.00</td>\n",
       "      <td id=\"T_ad5b2_row5_col12\" class=\"data row5 col12\" >9078590000000.00</td>\n",
       "      <td id=\"T_ad5b2_row5_col13\" class=\"data row5 col13\" >7007.35</td>\n",
       "      <td id=\"T_ad5b2_row5_col14\" class=\"data row5 col14\" >720194956.20</td>\n",
       "      <td id=\"T_ad5b2_row5_col15\" class=\"data row5 col15\" >150752000000000.00</td>\n",
       "      <td id=\"T_ad5b2_row5_col16\" class=\"data row5 col16\" >21745300000000.00</td>\n",
       "    </tr>\n",
       "    <tr>\n",
       "      <th id=\"T_ad5b2_level0_row6\" class=\"row_heading level0 row6\" >75%</th>\n",
       "      <td id=\"T_ad5b2_row6_col0\" class=\"data row6 col0\" >2065.00</td>\n",
       "      <td id=\"T_ad5b2_row6_col1\" class=\"data row6 col1\" >82138.54</td>\n",
       "      <td id=\"T_ad5b2_row6_col2\" class=\"data row6 col2\" >3843422.23</td>\n",
       "      <td id=\"T_ad5b2_row6_col3\" class=\"data row6 col3\" >7339960000000.00</td>\n",
       "      <td id=\"T_ad5b2_row6_col4\" class=\"data row6 col4\" >1008040000000.00</td>\n",
       "      <td id=\"T_ad5b2_row6_col5\" class=\"data row6 col5\" >88445.08</td>\n",
       "      <td id=\"T_ad5b2_row6_col6\" class=\"data row6 col6\" >293081277.10</td>\n",
       "      <td id=\"T_ad5b2_row6_col7\" class=\"data row6 col7\" >337660000000000.00</td>\n",
       "      <td id=\"T_ad5b2_row6_col8\" class=\"data row6 col8\" >73687300000000.00</td>\n",
       "      <td id=\"T_ad5b2_row6_col9\" class=\"data row6 col9\" >5278.43</td>\n",
       "      <td id=\"T_ad5b2_row6_col10\" class=\"data row6 col10\" >1334976092.00</td>\n",
       "      <td id=\"T_ad5b2_row6_col11\" class=\"data row6 col11\" >146191000000000.00</td>\n",
       "      <td id=\"T_ad5b2_row6_col12\" class=\"data row6 col12\" >30761800000000.00</td>\n",
       "      <td id=\"T_ad5b2_row6_col13\" class=\"data row6 col13\" >11799.54</td>\n",
       "      <td id=\"T_ad5b2_row6_col14\" class=\"data row6 col14\" >1124033666.00</td>\n",
       "      <td id=\"T_ad5b2_row6_col15\" class=\"data row6 col15\" >437038000000000.00</td>\n",
       "      <td id=\"T_ad5b2_row6_col16\" class=\"data row6 col16\" >59611600000000.00</td>\n",
       "    </tr>\n",
       "    <tr>\n",
       "      <th id=\"T_ad5b2_level0_row7\" class=\"row_heading level0 row7\" >max</th>\n",
       "      <td id=\"T_ad5b2_row7_col0\" class=\"data row7 col0\" >2100.00</td>\n",
       "      <td id=\"T_ad5b2_row7_col1\" class=\"data row7 col1\" >138311.55</td>\n",
       "      <td id=\"T_ad5b2_row7_col2\" class=\"data row7 col2\" >4692628.04</td>\n",
       "      <td id=\"T_ad5b2_row7_col3\" class=\"data row7 col3\" >15808100000000.00</td>\n",
       "      <td id=\"T_ad5b2_row7_col4\" class=\"data row7 col4\" >2108300000000.00</td>\n",
       "      <td id=\"T_ad5b2_row7_col5\" class=\"data row7 col5\" >148931.01</td>\n",
       "      <td id=\"T_ad5b2_row7_col6\" class=\"data row7 col6\" >470239536.80</td>\n",
       "      <td id=\"T_ad5b2_row7_col7\" class=\"data row7 col7\" >918055000000000.00</td>\n",
       "      <td id=\"T_ad5b2_row7_col8\" class=\"data row7 col8\" >199597000000000.00</td>\n",
       "      <td id=\"T_ad5b2_row7_col9\" class=\"data row7 col9\" >8888.25</td>\n",
       "      <td id=\"T_ad5b2_row7_col10\" class=\"data row7 col10\" >2606419615.00</td>\n",
       "      <td id=\"T_ad5b2_row7_col11\" class=\"data row7 col11\" >489240000000000.00</td>\n",
       "      <td id=\"T_ad5b2_row7_col12\" class=\"data row7 col12\" >102011000000000.00</td>\n",
       "      <td id=\"T_ad5b2_row7_col13\" class=\"data row7 col13\" >19869.03</td>\n",
       "      <td id=\"T_ad5b2_row7_col14\" class=\"data row7 col14\" >1754318983.00</td>\n",
       "      <td id=\"T_ad5b2_row7_col15\" class=\"data row7 col15\" >1180380000000000.00</td>\n",
       "      <td id=\"T_ad5b2_row7_col16\" class=\"data row7 col16\" >158515000000000.00</td>\n",
       "    </tr>\n",
       "  </tbody>\n",
       "</table>\n"
      ],
      "text/plain": [
       "<pandas.io.formats.style.Styler at 0x122bb8450>"
      ]
     },
     "execution_count": 16,
     "metadata": {},
     "output_type": "execute_result"
    }
   ],
   "source": [
    "# Generate descriptive statistics for your DataFrame\n",
    "descriptive_stats = DataProject_Data.describe()\n",
    "\n",
    "# Display the descriptive statistics as a styled HTML table\n",
    "# Set styling options for the table\n",
    "descriptive_stats_table = descriptive_stats.style.set_table_styles([\n",
    "    {'selector': 'th', 'props': [('background-color', 'white')]},  # Set background color for table headers\n",
    "    {'selector': 'td', 'props': [('font-size', '12pt')]},         # Set font size for table data\n",
    "    {'selector': 'tr:nth-of-type(odd)', 'props': [('background-color', 'whitesmoke')]},  # Alternate row color\n",
    "    {'selector': 'tr:nth-of-type(even)', 'props': [('background-color', 'white')]}        # Alternate row color\n",
    "]).format(\"{:.2f}\")  # Format numerical values to have two decimal places\n",
    "\n",
    "# Render the styled table\n",
    "descriptive_stats_table"
   ]
  },
  {
   "cell_type": "markdown",
   "metadata": {},
   "source": [
    "The descriptive statistics provide a summary of the distribution of various economic indicators across four countries (Denmark, the United States, India, and China) over a period from 1960 to 2100. "
   ]
  },
  {
   "cell_type": "markdown",
   "metadata": {},
   "source": [
    "**Economic Disparities:**\n",
    "\n",
    "The descriptive statistics highlight substantial differences in economic indicators such as GDP, capital stock, and population size among the four countries. For instance, while Denmark exhibits relatively high levels of GDP and capital stock, India and China show significant population sizes and rapid economic growth over time. These disparities underscore the diverse economic landscapes and development trajectories across the countries."
   ]
  },
  {
   "cell_type": "markdown",
   "metadata": {},
   "source": [
    "**Temporal Trends:**\n",
    "\n",
    "The statistics reveal temporal trends in economic variables over the specified period, indicating changes in economic performance and structural transformations. For example, the increasing mean values of GDP and capital stock for all countries suggest overall economic growth, while variations in standard deviations and percentiles reflect periods of volatility and differential growth rates among the countries. These trends provide insights into the evolving economic dynamics and potential factors driving economic development in each nation. However, it is still important to keep in mind, that the dataset is simulated and based on a theoretical model, which does not catch all fluctuations or volatility. "
   ]
  },
  {
   "cell_type": "code",
   "execution_count": null,
   "metadata": {},
   "outputs": [
    {
     "data": {
      "application/vnd.jupyter.widget-view+json": {
       "model_id": "6d112fb2002e43baa108ba47b6e02924",
       "version_major": 2,
       "version_minor": 0
      },
      "text/plain": [
       "interactive(children=(Dropdown(description='indicator', options=('B_t', 'L_t', 'K_t', 'Q_t'), value='B_t'), In…"
      ]
     },
     "metadata": {},
     "output_type": "display_data"
    },
    {
     "data": {
      "text/plain": [
       "<function __main__.plot_indicator(indicator, year_range)>"
      ]
     },
     "execution_count": 17,
     "metadata": {},
     "output_type": "execute_result"
    }
   ],
   "source": [
    "# Define colors for each country\n",
    "colors = {'DK': 'blue', 'US': 'green', 'IN': 'red', 'CN': 'purple'}\n",
    "\n",
    "# Define the function to plot the data for the selected indicator and year range\n",
    "def plot_indicator(indicator, year_range):\n",
    "    # Set up the plot figure with specified size\n",
    "    plt.figure(figsize=(10, 6))\n",
    "    \n",
    "    # Iterate over each country and plot its data\n",
    "    for country in ['DK', 'US', 'IN', 'CN']:\n",
    "        # Plot data for the current country with specified color\n",
    "        plt.plot(DataProject_Data['t'], DataProject_Data[country + '_' + indicator], \n",
    "                 label=country, color=colors[country])\n",
    "    \n",
    "    # Set plot title, x-axis label, y-axis label, and legend\n",
    "    plt.title('Trend of {} indicator for each country over Time'.format(indicator))\n",
    "    plt.xlabel('Year')\n",
    "    plt.ylabel('Value')\n",
    "    plt.legend()\n",
    "    \n",
    "    # Add gridlines to the plot\n",
    "    plt.grid(True)\n",
    "    \n",
    "    # Set x-axis limits based on the selected year range\n",
    "    plt.xlim(year_range)\n",
    "    \n",
    "    # Display the plot\n",
    "    plt.show()\n",
    "\n",
    "# Get the list of indicators from the column names of the DataFrame\n",
    "indicators = ['B_t', 'L_t', 'K_t', 'Q_t']\n",
    "\n",
    "# Define the year range based on the minimum and maximum years in the data\n",
    "min_year = DataProject_Data['t'].min()\n",
    "max_year = DataProject_Data['t'].max()\n",
    "\n",
    "# Create an interactive dropdown menu to select the indicator and a slider to select the year range\n",
    "interact(plot_indicator, \n",
    "         indicator=indicators, \n",
    "         year_range=widgets.IntRangeSlider(min=min_year, max=max_year, step=1, \n",
    "                                           value=[min_year, max_year], description='Year Range'))"
   ]
  },
  {
   "cell_type": "markdown",
   "metadata": {},
   "source": [
    "The figure above displays the simulated trend of four indicators for each country, Denmark, The US, China and India. The four indicators are GDP which is denoted as Q, Population which is denoted L, Technological stage denoted B, and finally the physical capital denoted K. "
   ]
  },
  {
   "cell_type": "markdown",
   "metadata": {},
   "source": [
    "It is clear that the technological level is considerably larger for the countries, Denmark and the US, while the population level is larger for India and China. Further we see that, according to the theoretical model, the population of India should surpass China in 2040. In reality, the population of India has already surpassed the population level of China. Thus, the model captures this, but underestimates it."
   ]
  },
  {
   "cell_type": "markdown",
   "metadata": {},
   "source": [
    "The stock of physical capital is expected to increase for all countries, where Denmark (as the smallest country, geographically) has the smallest level of physical capital stock. As perhaps expected, China holds the largest stock of physical capital. Lastly, the US has the largest GDP, followed by China. Denmark has the lowest."
   ]
  },
  {
   "cell_type": "code",
   "execution_count": null,
   "metadata": {},
   "outputs": [
    {
     "data": {
      "application/vnd.jupyter.widget-view+json": {
       "model_id": "5b13a80b43c44e86a60dd6d637ac4129",
       "version_major": 2,
       "version_minor": 0
      },
      "text/plain": [
       "interactive(children=(Dropdown(description='Country:', options=('DK', 'US', 'IN', 'CN'), value='DK'), Output()…"
      ]
     },
     "metadata": {},
     "output_type": "display_data"
    },
    {
     "data": {
      "text/plain": [
       "<function __main__.update_plot(country)>"
      ]
     },
     "execution_count": 18,
     "metadata": {},
     "output_type": "execute_result"
    }
   ],
   "source": [
    "class AlphaCalculator:\n",
    "    def __init__(self, data):\n",
    "        # Initialize the AlphaCalculator class with input data\n",
    "        self.data = data\n",
    "        \n",
    "    def calculate_alpha(self, Q_col, B_col, K_col, L_col):\n",
    "        # Calculate alpha value using the specified columns for Q, B, K, and L\n",
    "        ln_Q_t = np.log(self.data[Q_col])\n",
    "        ln_B_t = np.log(self.data[B_col])\n",
    "        ln_KL_t = np.log(self.data[K_col] * self.data[L_col])\n",
    "        \n",
    "        alpha_value = (ln_Q_t - ln_KL_t) / (ln_B_t - ln_KL_t)\n",
    "        return alpha_value\n",
    "    \n",
    "    def plot_alpha(self, country, alpha_col):\n",
    "        # Plot alpha values over time for the specified country\n",
    "        plt.plot(self.data['t'], self.data[alpha_col], label=f'{country} Alpha', color='blue')\n",
    "        plt.xlabel('Year')\n",
    "        plt.ylabel('Alpha')\n",
    "        plt.legend()\n",
    "        plt.title('Alpha over Time')\n",
    "        plt.show()\n",
    "\n",
    "# Create an instance of AlphaCalculator with the provided data\n",
    "alpha_calculator = AlphaCalculator(DataProject_Data)\n",
    "\n",
    "# Define the list of countries\n",
    "countries = ['DK', 'US', 'IN', 'CN']\n",
    "\n",
    "# Define the dropdown widget for selecting the country\n",
    "country_dropdown = widgets.Dropdown(\n",
    "    options=countries,\n",
    "    value='DK',\n",
    "    description='Country:'\n",
    ")\n",
    "\n",
    "# Define the function to update the plot based on the selected country\n",
    "def update_plot(country):\n",
    "    # Calculate alpha for the selected country and update the plot\n",
    "    alpha_col_name = f'{country}_alpha'\n",
    "    alpha_value = alpha_calculator.calculate_alpha(f'{country}_Q_t', f'{country}_B_t', f'{country}_K_t', f'{country}_L_t')\n",
    "    DataProject_Data[alpha_col_name] = alpha_value\n",
    "    alpha_calculator.plot_alpha(country, alpha_col_name)\n",
    "\n",
    "# Create the interactive plot\n",
    "interact(update_plot, country=country_dropdown)\n"
   ]
  },
  {
   "cell_type": "markdown",
   "metadata": {},
   "source": [
    "# Conclusion"
   ]
  },
  {
   "cell_type": "markdown",
   "metadata": {},
   "source": [
    "ADD CONCISE CONLUSION."
   ]
  }
 ],
 "metadata": {
  "kernelspec": {
   "display_name": "base",
   "language": "python",
   "name": "python3"
  },
  "language_info": {
   "codemirror_mode": {
    "name": "ipython",
    "version": 3
   },
   "file_extension": ".py",
   "mimetype": "text/x-python",
   "name": "python",
   "nbconvert_exporter": "python",
   "pygments_lexer": "ipython3",
   "version": "3.11.7"
  },
  "toc-autonumbering": true
 },
 "nbformat": 4,
 "nbformat_minor": 4
}
