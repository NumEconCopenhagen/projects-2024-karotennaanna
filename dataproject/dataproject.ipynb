{
 "cells": [
  {
   "cell_type": "markdown",
   "metadata": {},
   "source": [
    "# THE EFFECT OF A POSITIVE SHOCK TO TECHNOLOGY IN HIGH- AND LOW-INCOME COUNTRIES"
   ]
  },
  {
   "cell_type": "markdown",
   "metadata": {},
   "source": [
    "**Introduction:**\n",
    "\n",
    "The aim of this project is to analyse the effect of a positive schock to the technological stage for different high- and low-income countries. More specifically, we want to estimate the long-run effects of an increase in technology by 20% from 2022 onwards. This high increase occurs due to the new AI technologies, which has been changing the technological scene all over the world."
   ]
  },
  {
   "cell_type": "markdown",
   "metadata": {},
   "source": [
    "**On our data:**\n",
    "\n",
    "For the analysis, we have collected data from 1960 for gross domestic product $(Q_t)$, physical capital $(K_t)$, techological stage $(B_t)$ and labor force $(L_t)$. The selected countries are Denmark, The United States, India and China. All data is simulated up until year 2100 based on an extended Solow-Model, where all parameter values has been calculated for each country. This means that the dataset is fictional and based on a theoretical model, which does not include outliers or fluctuations. All data from 1960 has been collected from The World Bank and Penn World Table 9.0."
   ]
  },
  {
   "cell_type": "markdown",
   "metadata": {},
   "source": [
    "First we make imports and set magics:"
   ]
  },
  {
   "cell_type": "code",
   "execution_count": null,
   "metadata": {},
   "outputs": [],
   "source": [
    "# Import necessary libraries\n",
    "import pandas as pd  # Import pandas for data manipulation\n",
    "import numpy as np  # Import numpy for numerical computing\n",
    "import matplotlib.pyplot as plt  # Import matplotlib for plotting\n",
    "import ipywidgets as widgets  # Import ipywidgets for interactive widgets\n",
    "from ipywidgets import interact, widgets  # Import interact and widgets from ipywidgets\n",
    "from IPython.display import display  # Import display function from IPython.display for displaying output\n",
    "import dataproject  # Import custom module dataproject for additional functionalities\n",
    "import csv  # Import csv module for reading CSV files\n",
    "\n",
    "# Specifying the filename of the CSV file containing the data\n",
    "filename = \"DataProject_Data.csv\"\n",
    "\n",
    "# Open the CSV file and print its contents\n",
    "with open('DataProject_Data.csv', 'r') as file:\n",
    "    reader = csv.reader(file)\n",
    "    for row in reader:\n",
    "        print(row)\n",
    "\n",
    "# Read the CSV file into a pandas DataFrame\n",
    "DataProject_Data = pd.read_csv(filename, delimiter=\";\")\n",
    "\n",
    "# Create an instance of the Solowclass from the dataproject module with the specified filename\n",
    "Solowclass = dataproject.Solowclass(filename)\n"
   ]
  },
  {
   "cell_type": "markdown",
   "metadata": {},
   "source": [
    "# Read and clean data"
   ]
  },
  {
   "cell_type": "code",
   "execution_count": null,
   "metadata": {},
   "outputs": [],
   "source": [
    "# Remove trailing whitespaces from column names\n",
    "DataProject_Data.columns = DataProject_Data.columns.str.strip()\n",
    "\n",
    "# Convert specific columns to strings before replacing commas\n",
    "string_columns = ['DK_K_t', 'US_K_t']  # Specify columns to be converted to strings\n",
    "for column in string_columns:\n",
    "    DataProject_Data[column] = DataProject_Data[column].astype(str)\n",
    "\n",
    "# Replace commas with dots in selected columns to prepare for conversion to float\n",
    "DataProject_Data['DK_K_t'] = DataProject_Data['DK_K_t'].str.replace(',', '.')\n",
    "DataProject_Data['US_K_t'] = DataProject_Data['US_K_t'].str.replace(',', '.')\n",
    "\n",
    "# Convert strings to floats for specified columns\n",
    "columns_to_convert = ['DK_B_t', 'US_B_t', 'IN_B_t', 'CN_B_t',  # Specify columns to be converted to floats\n",
    "                      'DK_K_t', 'US_K_t', 'IN_K_t', 'CN_K_t',\n",
    "                      'DK_Q_t', 'US_Q_t', 'IN_Q_t', 'CN_Q_t',\n",
    "                      'DK_L_t', 'US_L_t', 'IN_L_t', 'CN_L_t']\n",
    "\n",
    "for column in columns_to_convert:\n",
    "    # Replace commas with dots and convert the column to float type\n",
    "    DataProject_Data[column] = DataProject_Data[column].str.replace(',', '.').astype(float)"
   ]
  },
  {
   "cell_type": "code",
   "execution_count": null,
   "metadata": {},
   "outputs": [],
   "source": [
    "# Check data types\n",
    "print(DataProject_Data.dtypes)\n",
    "\n",
    "# Inspect sample data\n",
    "print(DataProject_Data.head())\n",
    "\n",
    "# Calculate statistics\n",
    "print(DataProject_Data.describe())\n"
   ]
  },
  {
   "cell_type": "markdown",
   "metadata": {},
   "source": [
    "# Exploring the data"
   ]
  },
  {
   "cell_type": "code",
   "execution_count": null,
   "metadata": {},
   "outputs": [],
   "source": [
    "# Generate descriptive statistics for your DataFrame\n",
    "descriptive_stats = DataProject_Data.describe()\n",
    "\n",
    "# Display the descriptive statistics as a styled HTML table\n",
    "# Set styling options for the table\n",
    "descriptive_stats_table = descriptive_stats.style.set_table_styles([\n",
    "    {'selector': 'th', 'props': [('background-color', 'white')]},  # Set background color for table headers\n",
    "    {'selector': 'td', 'props': [('font-size', '12pt')]},         # Set font size for table data\n",
    "    {'selector': 'tr:nth-of-type(odd)', 'props': [('background-color', 'whitesmoke')]},  # Alternate row color\n",
    "    {'selector': 'tr:nth-of-type(even)', 'props': [('background-color', 'white')]}        # Alternate row color\n",
    "]).format(\"{:.2f}\")  # Format numerical values to have two decimal places\n",
    "\n",
    "# Render the styled table\n",
    "descriptive_stats_table"
   ]
  },
  {
   "cell_type": "markdown",
   "metadata": {},
   "source": [
    "The descriptive statistics provide a summary of the distribution of various economic indicators across four countries (Denmark, the United States, India, and China) over a period from 1960 to 2100. "
   ]
  },
  {
   "cell_type": "markdown",
   "metadata": {},
   "source": [
    "**Economic Disparities:**\n",
    "\n",
    "The descriptive statistics highlight substantial differences in economic indicators such as GDP, capital stock, and population size among the four countries. For instance, while Denmark exhibits relatively high levels of GDP and capital stock, India and China show significant population sizes and rapid economic growth over time. These disparities underscore the diverse economic landscapes and development trajectories across the countries."
   ]
  },
  {
   "cell_type": "markdown",
   "metadata": {},
   "source": [
    "**Temporal Trends:**\n",
    "\n",
    "The statistics reveal temporal trends in economic variables over the specified period, indicating changes in economic performance and structural transformations. For example, the increasing mean values of GDP and capital stock for all countries suggest overall economic growth, while variations in standard deviations and percentiles reflect periods of volatility and differential growth rates among the countries. These trends provide insights into the evolving economic dynamics and potential factors driving economic development in each nation. However, it is still important to keep in mind, that the dataset is simulated and based on a theoretical model, which does not catch all fluctuations or volatility. "
   ]
  },
  {
   "cell_type": "code",
   "execution_count": null,
   "metadata": {},
   "outputs": [],
   "source": [
    "# Define colors for each country\n",
    "colors = {'DK': 'blue', 'US': 'green', 'IN': 'red', 'CN': 'purple'}\n",
    "\n",
    "# Define the function to plot the data for the selected indicator and year range\n",
    "def plot_indicator(indicator, year_range):\n",
    "    # Set up the plot figure with specified size\n",
    "    plt.figure(figsize=(10, 6))\n",
    "    \n",
    "    # Iterate over each country and plot its data\n",
    "    for country in ['DK', 'US', 'IN', 'CN']:\n",
    "        # Plot data for the current country with specified color\n",
    "        plt.plot(DataProject_Data['t'], DataProject_Data[country + '_' + indicator], \n",
    "                 label=country, color=colors[country])\n",
    "    \n",
    "    # Set plot title, x-axis label, y-axis label, and legend\n",
    "    plt.title('Trend of {} indicator for each country over Time'.format(indicator))\n",
    "    plt.xlabel('Year')\n",
    "    plt.ylabel('Value')\n",
    "    plt.legend()\n",
    "    \n",
    "    # Add gridlines to the plot\n",
    "    plt.grid(True)\n",
    "    \n",
    "    # Set x-axis limits based on the selected year range\n",
    "    plt.xlim(year_range)\n",
    "    \n",
    "    # Display the plot\n",
    "    plt.show()\n",
    "\n",
    "# Get the list of indicators from the column names of the DataFrame\n",
    "indicators = ['B_t', 'L_t', 'K_t', 'Q_t']\n",
    "\n",
    "# Define the year range based on the minimum and maximum years in the data\n",
    "min_year = DataProject_Data['t'].min()\n",
    "max_year = DataProject_Data['t'].max()\n",
    "\n",
    "# Create an interactive dropdown menu to select the indicator and a slider to select the year range\n",
    "interact(plot_indicator, \n",
    "         indicator=indicators, \n",
    "         year_range=widgets.IntRangeSlider(min=min_year, max=max_year, step=1, \n",
    "                                           value=[min_year, max_year], description='Year Range'))"
   ]
  },
  {
   "cell_type": "markdown",
   "metadata": {},
   "source": [
    "The figure above displays the simulated trend of four indicators for each country, Denmark, The US, China and India. The four indicators are GDP which is denoted as Q, Population which is denoted L, Technological stage denoted B, and finally the physical capital denoted K. "
   ]
  },
  {
   "cell_type": "markdown",
   "metadata": {},
   "source": [
    "It is clear that the technological level is considerably larger for the countries, Denmark and the US, while the population level is larger for India and China. Further we see that, according to the theoretical model, the population of India should surpass China in 2040. In reality, the population of India has already surpassed the population level of China. Thus, the model captures this, but underestimates it."
   ]
  },
  {
   "cell_type": "markdown",
   "metadata": {},
   "source": [
    "The stock of physical capital is expected to increase for all countries, where Denmark (as the smallest country, geographically) has the smallest level of physical capital stock. As perhaps expected, China holds the largest stock of physical capital. Lastly, the US has the largest GDP, followed by China. Denmark has the lowest."
   ]
  },
  {
   "cell_type": "code",
   "execution_count": null,
   "metadata": {},
   "outputs": [],
   "source": [
    "class AlphaCalculator:\n",
    "    def __init__(self, data):\n",
    "        # Initialize the AlphaCalculator class with input data\n",
    "        self.data = data\n",
    "        \n",
    "    def calculate_alpha(self, Q_col, B_col, K_col, L_col):\n",
    "        # Calculate alpha value using the specified columns for Q, B, K, and L\n",
    "        ln_Q_t = np.log(self.data[Q_col])\n",
    "        ln_B_t = np.log(self.data[B_col])\n",
    "        ln_KL_t = np.log(self.data[K_col] * self.data[L_col])\n",
    "        \n",
    "        alpha_value = (ln_Q_t - ln_KL_t) / (ln_B_t - ln_KL_t)\n",
    "        return alpha_value\n",
    "    \n",
    "    def plot_alpha(self, country, alpha_col):\n",
    "        # Plot alpha values over time for the specified country\n",
    "        plt.plot(self.data['t'], self.data[alpha_col], label=f'{country} Alpha', color='blue')\n",
    "        plt.xlabel('Year')\n",
    "        plt.ylabel('Alpha')\n",
    "        plt.legend()\n",
    "        plt.title('Alpha over Time')\n",
    "        plt.show()\n",
    "\n",
    "# Create an instance of AlphaCalculator with the provided data\n",
    "alpha_calculator = AlphaCalculator(DataProject_Data)\n",
    "\n",
    "# Define the list of countries\n",
    "countries = ['DK', 'US', 'IN', 'CN']\n",
    "\n",
    "# Define the dropdown widget for selecting the country\n",
    "country_dropdown = widgets.Dropdown(\n",
    "    options=countries,\n",
    "    value='DK',\n",
    "    description='Country:'\n",
    ")\n",
    "\n",
    "# Define the function to update the plot based on the selected country\n",
    "def update_plot(country):\n",
    "    # Calculate alpha for the selected country and update the plot\n",
    "    alpha_col_name = f'{country}_alpha'\n",
    "    alpha_value = alpha_calculator.calculate_alpha(f'{country}_Q_t', f'{country}_B_t', f'{country}_K_t', f'{country}_L_t')\n",
    "    DataProject_Data[alpha_col_name] = alpha_value\n",
    "    alpha_calculator.plot_alpha(country, alpha_col_name)\n",
    "\n",
    "# Create the interactive plot\n",
    "interact(update_plot, country=country_dropdown)\n"
   ]
  },
  {
   "cell_type": "markdown",
   "metadata": {},
   "source": [
    "# Conclusion"
   ]
  },
  {
   "cell_type": "code",
   "execution_count": 1,
   "metadata": {},
   "outputs": [
    {
     "name": "stdout",
     "output_type": "stream",
     "text": [
      "test\n"
     ]
    }
   ],
   "source": [
    "t = 'test'\n",
    "print(t)"
   ]
  },
  {
   "cell_type": "markdown",
   "metadata": {},
   "source": [
    "ADD CONCISE CONLUSION."
   ]
  }
 ],
 "metadata": {
  "kernelspec": {
   "display_name": "myenv",
   "language": "python",
   "name": "myenv"
  },
  "language_info": {
   "codemirror_mode": {
    "name": "ipython",
    "version": 3
   },
   "file_extension": ".py",
   "mimetype": "text/x-python",
   "name": "python",
   "nbconvert_exporter": "python",
   "pygments_lexer": "ipython3",
   "version": "3.11.5"
  },
  "toc-autonumbering": true
 },
 "nbformat": 4,
 "nbformat_minor": 4
}
