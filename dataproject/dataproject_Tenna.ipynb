{
 "cells": [
  {
   "cell_type": "markdown",
   "metadata": {},
   "source": [
    "# YOUR PROJECT TITLE"
   ]
  },
  {
   "cell_type": "markdown",
   "metadata": {},
   "source": [
    "introduction to the dataproject"
   ]
  },
  {
   "cell_type": "markdown",
   "metadata": {},
   "source": [
    "## Imports and set magics:"
   ]
  },
  {
   "cell_type": "code",
   "execution_count": null,
   "metadata": {},
   "outputs": [],
   "source": [
    "import pandas as pd\n",
    "import numpy as np\n",
    "import matplotlib.pyplot as plt\n",
    "import ipywidgets as widgets\n",
    "from ipywidgets import interact, widgets\n",
    "from IPython.display import display\n",
    "import dataproject\n",
    "import csv\n",
    "\n",
    "# Specifying the filename\n",
    "filename = \"DataProject_Data.csv\"\n",
    "\n",
    "with open('DataProject_Data.csv', 'r') as file:\n",
    "    reader = csv.reader(file)\n",
    "    for row in reader:\n",
    "        print(row)\n",
    "# autoreload modules when code is run\n",
    "#%load_ext autoreload\n",
    "#%autoreload 2\n",
    "DataProject_Data = pd.read_csv(filename, delimiter=\";\")\n",
    "\n",
    "Solowclass = dataproject.Solowclass(filename)"
   ]
  },
  {
   "cell_type": "markdown",
   "metadata": {},
   "source": [
    "# Read and clean data"
   ]
  },
  {
   "cell_type": "code",
   "execution_count": null,
   "metadata": {},
   "outputs": [],
   "source": [
    "# Remove trailing whitespaces from column names\n",
    "DataProject_Data.columns = DataProject_Data.columns.str.strip()\n",
    "\n",
    "# Convert specific columns to strings before replacing commas\n",
    "string_columns = ['DK_K_t', 'US_K_t']  # Add other columns if needed\n",
    "for column in string_columns:\n",
    "    DataProject_Data[column] = DataProject_Data[column].astype(str)\n",
    "\n",
    "# Now you can access the columns without trailing whitespaces\n",
    "DataProject_Data['DK_K_t'] = DataProject_Data['DK_K_t'].str.replace(',', '.')\n",
    "DataProject_Data['US_K_t'] = DataProject_Data['US_K_t'].str.replace(',', '.')\n",
    "\n",
    "# Convert strings to floats for specified columns\n",
    "columns_to_convert = ['DK_B_t', 'US_B_t', 'IN_B_t', 'CN_B_t',\n",
    "                     'DK_K_t', 'US_K_t', 'IN_K_t', 'CN_K_t',\n",
    "                     'DK_Q_t', 'US_Q_t', 'IN_Q_t', 'CN_Q_t',\n",
    "                     'DK_L_t', 'US_L_t', 'IN_L_t', 'CN_L_t']\n",
    "\n",
    "for column in columns_to_convert:\n",
    "    DataProject_Data[column] = DataProject_Data[column].str.replace(',', '.').astype(float)\n"
   ]
  },
  {
   "cell_type": "code",
   "execution_count": null,
   "metadata": {},
   "outputs": [],
   "source": [
    "# Check data types\n",
    "print(DataProject_Data.dtypes)\n",
    "\n",
    "# Inspect sample data\n",
    "print(DataProject_Data.head())\n",
    "\n",
    "# Calculate statistics\n",
    "print(DataProject_Data.describe())\n"
   ]
  },
  {
   "cell_type": "markdown",
   "metadata": {},
   "source": [
    "# Exploring the data"
   ]
  },
  {
   "cell_type": "code",
   "execution_count": null,
   "metadata": {},
   "outputs": [],
   "source": [
    "# Define colors for each country\n",
    "colors = {'DK': 'blue', 'US': 'green', 'IN': 'red', 'CN': 'purple'}\n",
    "\n",
    "# Define the function to plot the data for the selected indicator and year range\n",
    "def plot_indicator(indicator, year_range):\n",
    "    plt.figure(figsize=(10, 6))\n",
    "    for country in ['DK', 'US', 'IN', 'CN']:\n",
    "        plt.plot(DataProject_Data['t'], DataProject_Data[country + '_' + indicator], \n",
    "                 label=country, color=colors[country])\n",
    "    plt.title('Trend of {} indicator for each country over Time'.format(indicator))\n",
    "    plt.xlabel('Year')\n",
    "    plt.ylabel('Value')\n",
    "    plt.legend()\n",
    "    plt.grid(True)\n",
    "    plt.xlim(year_range)  # Set the x-axis limits based on the selected year range\n",
    "    plt.show()\n",
    "\n",
    "# Get the list of indicators from the column names of the DataFrame\n",
    "indicators = ['B_t', 'L_t', 'K_t', 'Q_t']\n",
    "\n",
    "# Define the year range based on the minimum and maximum years in the data\n",
    "min_year = DataProject_Data['t'].min()\n",
    "max_year = DataProject_Data['t'].max()\n",
    "\n",
    "# Create an interactive dropdown menu to select the indicator and a slider to select the year range\n",
    "interact(plot_indicator, \n",
    "         indicator=indicators, \n",
    "         year_range=widgets.IntRangeSlider(min=min_year, max=max_year, step=1, \n",
    "                                           value=[min_year, max_year], description='Year Range'))"
   ]
  },
  {
   "cell_type": "code",
   "execution_count": 16,
   "metadata": {},
   "outputs": [
    {
     "data": {
      "application/vnd.jupyter.widget-view+json": {
       "model_id": "4e2e45ca092a4faa843a048661b7b1a4",
       "version_major": 2,
       "version_minor": 0
      },
      "text/plain": [
       "interactive(children=(Dropdown(description='Country:', options=('DK', 'US', 'IN', 'CN'), value='DK'), Output()…"
      ]
     },
     "metadata": {},
     "output_type": "display_data"
    },
    {
     "data": {
      "text/plain": [
       "<function __main__.update_plot(country)>"
      ]
     },
     "execution_count": 16,
     "metadata": {},
     "output_type": "execute_result"
    }
   ],
   "source": [
    "import matplotlib.pyplot as plt\n",
    "import ipywidgets as widgets\n",
    "from ipywidgets import interact\n",
    "import numpy as np\n",
    "\n",
    "class AlphaCalculator:\n",
    "    def __init__(self, data):\n",
    "        self.data = data\n",
    "        \n",
    "    def calculate_alpha(self, Q_col, B_col, K_col, L_col):\n",
    "        ln_Q_t = np.log(self.data[Q_col])\n",
    "        ln_B_t = np.log(self.data[B_col])\n",
    "        ln_KL_t = np.log(self.data[K_col] * self.data[L_col])\n",
    "        \n",
    "        alpha_value = (ln_Q_t - ln_KL_t) / (ln_B_t - ln_KL_t)\n",
    "        return alpha_value\n",
    "    \n",
    "    def plot_alpha(self, country, alpha_col):\n",
    "        plt.plot(self.data['t'], self.data[alpha_col], label=f'{country} Alpha', color='blue')\n",
    "        plt.xlabel('Year')\n",
    "        plt.ylabel('Alpha')\n",
    "        plt.legend()\n",
    "        plt.title('Alpha over Time')\n",
    "        plt.show()\n",
    "\n",
    "# Create an instance of AlphaCalculator\n",
    "alpha_calculator = AlphaCalculator(DataProject_Data)\n",
    "\n",
    "# Define the list of countries\n",
    "countries = ['DK', 'US', 'IN', 'CN']\n",
    "\n",
    "# Define the dropdown widget for selecting the country\n",
    "country_dropdown = widgets.Dropdown(\n",
    "    options=countries,\n",
    "    value='DK',\n",
    "    description='Country:'\n",
    ")\n",
    "\n",
    "# Define the function to update the plot based on the selected country\n",
    "def update_plot(country):\n",
    "    alpha_col_name = f'{country}_alpha'\n",
    "    alpha_value = alpha_calculator.calculate_alpha(f'{country}_Q_t', f'{country}_B_t', f'{country}_K_t', f'{country}_L_t')\n",
    "    DataProject_Data[alpha_col_name] = alpha_value\n",
    "    alpha_calculator.plot_alpha(country, alpha_col_name)\n",
    "\n",
    "# Create the interactive plot\n",
    "interact(update_plot, country=country_dropdown)\n",
    "\n"
   ]
  },
  {
   "cell_type": "markdown",
   "metadata": {},
   "source": [
    "# Analysis"
   ]
  },
  {
   "cell_type": "markdown",
   "metadata": {},
   "source": [
    "To get a quick overview of the data, we show some **summary statistics** on a meaningful aggregation. "
   ]
  },
  {
   "cell_type": "markdown",
   "metadata": {},
   "source": [
    "MAKE FURTHER ANALYSIS. EXPLAIN THE CODE BRIEFLY AND SUMMARIZE THE RESULTS."
   ]
  },
  {
   "cell_type": "markdown",
   "metadata": {},
   "source": [
    "# Conclusion"
   ]
  },
  {
   "cell_type": "markdown",
   "metadata": {},
   "source": [
    "ADD CONCISE CONLUSION."
   ]
  }
 ],
 "metadata": {
  "kernelspec": {
   "display_name": "base",
   "language": "python",
   "name": "python3"
  },
  "language_info": {
   "codemirror_mode": {
    "name": "ipython",
    "version": 3
   },
   "file_extension": ".py",
   "mimetype": "text/x-python",
   "name": "python",
   "nbconvert_exporter": "python",
   "pygments_lexer": "ipython3",
   "version": "3.11.5"
  },
  "toc-autonumbering": true
 },
 "nbformat": 4,
 "nbformat_minor": 4
}
