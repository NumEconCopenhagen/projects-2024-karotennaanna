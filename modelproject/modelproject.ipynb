{
 "cells": [
  {
   "cell_type": "markdown",
   "metadata": {},
   "source": [
    "# IS-LM MODEL"
   ]
  },
  {
   "attachments": {},
   "cell_type": "markdown",
   "metadata": {},
   "source": [
    "> **Note the following:** \n",
    "> 1. This is *not* meant to be an example of an actual **model analysis project**, just an example of how to structure such a project.\n",
    "> 1. Remember the general advice on structuring and commenting your code\n",
    "> 1. The `modelproject.py` file includes a function which could be used multiple times in this notebook."
   ]
  },
  {
   "cell_type": "markdown",
   "metadata": {},
   "source": [
    "For this project, we are using a simple IS-LM model which is defined below. The model consists of the following equations:"
   ]
  },
  {
   "cell_type": "markdown",
   "metadata": {},
   "source": [
    "1. **Planned expenditures on goods and services:** $$PE = C + I + \\bar{G}$$\n",
    "2. **Private consumption of goods:** $$C = a + b(Y-\\bar{T})$$\n",
    "3. **Equilibrium in the goods market:** $$Y = PE$$\n",
    "4. **Investment demand:** $$I = c - d r$$\n",
    "5. **Equilibrium condition in the money market:** $$\\frac{\\bar{M}}{\\bar{P}} = L$$\n",
    "6. **Real demand for money:** $$L = e Y - f r$$\n",
    "7. **Production function:** $$Y = g N$$"
   ]
  },
  {
   "cell_type": "markdown",
   "metadata": {},
   "source": [
    "Where $PE$ is the planned expenditures on goods and services, $C$ is private demand for consumption, $I$ is investment demand, $\\bar{G}$ is public demand for consumption, $\\bar{T}$ is a lumpsum tax, $r$ is the real interest rate, $\\bar{M}$ is the nominaal money supply, $\\bar{P}$ is the consumer price index, $L$ is the real demand for money and $N$ is the workforce. The parameters $a, b, c, d, e, f$ and $g$ are all positive. Further, $b$ is less than 1. A bar over a variable means, that the variable is exogenous. "
   ]
  },
  {
   "cell_type": "markdown",
   "metadata": {},
   "source": [
    "To derive the IS-curve we use the first four equations. By substituting equation (1) into (3) and then combining it with equation (2) and (4) we get the following expression for $Y$:\n",
    "\n",
    "$$Y = \\frac{1}{1-b}(a+c-bT - dr + G)$$\n",
    "\n",
    "Then we isolate for $r$ as a function of $Y$ and get the IS-curve:\n",
    "\n",
    "**IS-curve:** $$r = \\frac{1}{d}(a+c-b T + G - (1-b) Y)$$"
   ]
  },
  {
   "cell_type": "markdown",
   "metadata": {},
   "source": [
    "Next, we apply equations (5) and (6) to derive an expression for the LM-curve, which also is $r$ isolated as a function of $Y$, but for the momey market. First we get the expression for Y:\n",
    "\n",
    "$$Y = \\frac{1}{e} \\left(\\frac{\\bar{M}}{\\bar{P}}+f r\\right)$$\n",
    "\n",
    "Then we isolate for $r$ to derive the LM-curve:\n",
    "\n",
    "**LM-curve:** $$r = \\frac{e}{f} Y - \\frac{1}{f} \\frac{\\bar{M}}{\\bar{P}}$$"
   ]
  },
  {
   "cell_type": "code",
   "execution_count": 25,
   "metadata": {},
   "outputs": [
    {
     "name": "stdout",
     "output_type": "stream",
     "text": [
      "The autoreload extension is already loaded. To reload it, use:\n",
      "  %reload_ext autoreload\n"
     ]
    }
   ],
   "source": [
    "# Import necessary libraries\n",
    "import pandas as pd  # Import pandas for data manipulation\n",
    "import matplotlib.pyplot as plt  # Import matplotlib for plotting\n",
    "import numpy as np  # Import numpy for numerical computing\n",
    "from scipy import optimize\n",
    "import sympy as sm\n",
    "\n",
    "# autoreload modules when code is run\n",
    "%load_ext autoreload\n",
    "%autoreload 2\n",
    "\n",
    "# import class from py file\n",
    "import Karo"
   ]
  },
  {
   "cell_type": "code",
<<<<<<< HEAD
   "execution_count": 34,
=======
   "execution_count": 1,
   "metadata": {},
   "outputs": [
    {
     "data": {
      "text/plain": [
       "{Y: (-G + T*b - a - c)/(b - d - 1),\n",
       " r: (-G*P*e - M*b + M*d + M + P*T*b*e - P*a*e - P*c*e)/(P*b*f - P*d*f - P*f)}"
      ]
     },
     "execution_count": 1,
     "metadata": {},
     "output_type": "execute_result"
    }
   ],
   "source": [
    "import sympy as sp\n",
    "\n",
    "# Define symbols\n",
    "Y, r, a, b, c, d, e, f, T, G, M, P = sp.symbols('Y r a b c d e f T G M P')\n",
    "\n",
    "# IS curve: Y = (1/d) * (a + c + G - b*T - (1-b)*Y)\n",
    "IS_curve = sp.Eq(Y, (1/d) * (a + c + G - b*T - (1-b)*Y))\n",
    "\n",
    "# LM curve: (M/P) = e*Y - f*r\n",
    "LM_curve = sp.Eq(r, (e/f)*Y - (1/f)*(M/P))\n",
    "\n",
    "# Solve the system of equations\n",
    "solution = sp.solve([IS_curve, LM_curve], (Y, r))\n",
    "solution"
   ]
  },
  {
   "cell_type": "code",
   "execution_count": 3,
>>>>>>> 339a355 (anna eq med værdier)
   "metadata": {},
   "outputs": [
    {
     "data": {
      "text/plain": [
       "{Y: d*r/(b - 1) + (-G + T*b - a - c)/(b - 1)}"
      ]
     },
<<<<<<< HEAD
     "execution_count": 34,
=======
     "execution_count": 3,
>>>>>>> 339a355 (anna eq med værdier)
     "metadata": {},
     "output_type": "execute_result"
    }
   ],
   "source": [
    "import sympy as sp\n",
    "\n",
    "# Define symbols\n",
    "Y, r, a, b, c, d, e, f, T, G, M, P, PE, C, I, L = sp.symbols('Y r a b c d e f T G M P PE C I L')\n",
    "\n",
    "# Equation (1)\n",
    "PlannedExp = sp.Eq(PE, C + I + G)\n",
    "\n",
    "# Equation (2)\n",
    "PrivateCons = sp.Eq(C, a + b * (Y - T))\n",
    "\n",
    "# Equation (3) - Corrected\n",
    "EqGoods = sp.Eq(Y, PE)\n",
    "\n",
    "# Equation (4)\n",
    "Investment = sp.Eq(I, c - d * r)\n",
    "\n",
    "# Substitute PE from PlannedExp into EqGoods\n",
    "EqGoods_substituted = EqGoods.subs(PE, C + I + G)\n",
    "\n",
    "# Substitute the expression for C from PrivateCons into EqGoods_substituted\n",
    "EqGoods_final = EqGoods_substituted.subs(C, a + b * (Y - T))\n",
    "\n",
    "# Substitute I from (4) into EqGoods_final:\n",
    "EqGoods_finalfinal = EqGoods_final.subs(I, c - d * r)\n",
    "\n",
    "# Solve the system of equations\n",
    "solution = sp.solve([EqGoods_finalfinal], (Y, r))\n",
    "solution"
   ]
  },
  {
   "cell_type": "code",
   "execution_count": 27,
   "metadata": {},
   "outputs": [
    {
     "data": {
      "text/plain": [
       "{r: (G - T*b + Y*b - Y + a + c)/d}"
      ]
     },
     "execution_count": 27,
     "metadata": {},
     "output_type": "execute_result"
    }
   ],
   "source": [
    "# Expressing the equation for r as a function of Y to get the IS-curve\n",
    "solution = sp.solve([EqGoods_finalfinal], (r))\n",
    "solution"
   ]
  },
  {
   "cell_type": "code",
   "execution_count": 28,
   "metadata": {},
   "outputs": [
    {
     "data": {
      "text/plain": [
       "{Y: M/(P*e) + f*r/e}"
      ]
     },
     "execution_count": 28,
     "metadata": {},
     "output_type": "execute_result"
    }
   ],
   "source": [
    "\"\"\"Next, we apply equations (5) and (6) to derive an expression for the LM-curve, which also is r isolated as a function of Y, but for the momey market. First we get the expression for Y\"\"\"\n",
    "\n",
    "# Equation (5)\n",
    "EqMoney = sp.Eq(M/P, L)\n",
    "\n",
    "# Equation (6)\n",
    "dMoney = sp.Eq(L, e*Y - f*r)\n",
    "\n",
    "# Substituting (5) into (6)\n",
    "dMoney_substituted = dMoney.subs(L, M/P)\n",
    "\n",
    "solution1 = sp.solve([dMoney_substituted], (Y, r))\n",
    "solution1"
   ]
  },
  {
   "cell_type": "code",
   "execution_count": 29,
   "metadata": {},
   "outputs": [
    {
     "data": {
      "text/plain": [
       "{r: (-M + P*Y*e)/(P*f)}"
      ]
     },
     "execution_count": 29,
     "metadata": {},
     "output_type": "execute_result"
    }
   ],
   "source": [
    "# Now expressing it for r as a function of Y\n",
    "solution = sp.solve([dMoney_substituted], (r))\n",
    "solution"
   ]
  },
  {
   "cell_type": "code",
   "execution_count": 30,
   "metadata": {},
   "outputs": [
    {
     "data": {
      "text/plain": [
       "{r: (-G*P*e - M*b + M + P*T*b*e - P*a*e - P*c*e)/(P*b*f - P*d*e - P*f)}"
      ]
     },
     "execution_count": 30,
     "metadata": {},
     "output_type": "execute_result"
    }
   ],
   "source": [
    "# Now we set IS equal to LM and solve to derive the equilibrium. Here we get the equilibrium expression for r:\n",
    "Equilibrium_r = EqGoods_finalfinal.subs(solution1)\n",
    "\n",
    "solution2 = sp.solve([Equilibrium_r], (r))\n",
    "solution2"
   ]
  },
  {
   "cell_type": "code",
   "execution_count": 31,
   "metadata": {},
   "outputs": [
    {
     "data": {
      "text/plain": [
       "{Y: (-G*P*f - M*d + P*T*b*f - P*a*f - P*c*f)/(P*b*f - P*d*e - P*f)}"
      ]
     },
     "execution_count": 31,
     "metadata": {},
     "output_type": "execute_result"
    }
   ],
   "source": [
    "# And here we get the equilibrium for Y:\n",
    "Equilibrium_Y = EqGoods_finalfinal.subs(solution2)\n",
    "\n",
    "solution3 = sp.solve([Equilibrium_Y], (Y))\n",
    "solution3"
   ]
  },
  {
   "cell_type": "markdown",
   "metadata": {},
   "source": [
    "# Model description"
   ]
  },
  {
   "cell_type": "markdown",
   "metadata": {},
   "source": [
    "**Write out the model in equations here.** \n",
    "\n",
    "Make sure you explain well the purpose of the model and comment so that other students who may not have seen it before can follow.  "
   ]
  },
  {
   "cell_type": "markdown",
   "metadata": {},
   "source": [
    "## Analytical solution"
   ]
  },
  {
   "cell_type": "markdown",
   "metadata": {},
   "source": [
    "If your model allows for an analytical solution, you should provide here.\n",
    "\n",
    "You may use Sympy for this. Then you can characterize the solution as a function of a parameter of the model.\n",
    "\n",
    "To characterize the solution, first derive a steady state equation as a function of a parameter using Sympy.solve and then turn it into a python function by Sympy.lambdify. See the lecture notes for details. "
   ]
  },
  {
   "cell_type": "markdown",
   "metadata": {},
   "source": [
    "## Numerical solution"
   ]
  },
  {
   "cell_type": "markdown",
   "metadata": {},
   "source": [
    "You can always solve a model numerically. \n",
    "\n",
    "Define first the set of parameters you need. \n",
    "\n",
    "Then choose one of the optimization algorithms that we have gone through in the lectures based on what you think is most fitting for your model.\n",
    "\n",
    "Are there any problems with convergence? Does the model converge for all starting values? Make a lot of testing to figure these things out. "
   ]
  },
  {
   "cell_type": "markdown",
   "metadata": {},
   "source": [
    "# Further analysis"
   ]
  },
  {
   "cell_type": "markdown",
   "metadata": {},
   "source": [
    "Make detailed vizualizations of how your model changes with parameter values. \n",
    "\n",
    "Try to make an extension of the model. "
   ]
  },
  {
   "cell_type": "markdown",
   "metadata": {},
   "source": [
    "# Conclusion"
   ]
  },
  {
   "cell_type": "markdown",
   "metadata": {},
   "source": [
    "Add concise conclusion. "
   ]
  }
 ],
 "metadata": {
  "kernelspec": {
   "display_name": "base",
   "language": "python",
   "name": "python3"
  },
  "language_info": {
   "codemirror_mode": {
    "name": "ipython",
    "version": 3
   },
   "file_extension": ".py",
   "mimetype": "text/x-python",
   "name": "python",
   "nbconvert_exporter": "python",
   "pygments_lexer": "ipython3",
   "version": "3.11.7"
  },
  "toc-autonumbering": true,
  "vscode": {
   "interpreter": {
    "hash": "47ef90cdf3004d3f859f1fb202523c65c07ba7c22eefd261b181f4744e2d0403"
   }
  }
 },
 "nbformat": 4,
 "nbformat_minor": 4
}
