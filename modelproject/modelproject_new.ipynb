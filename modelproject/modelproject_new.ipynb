{
 "cells": [
  {
   "cell_type": "markdown",
   "metadata": {},
   "source": [
    "# Modelproject: IS-LM Model"
   ]
  },
  {
   "cell_type": "markdown",
   "metadata": {},
   "source": [
    "For this project, we will utilize a simple IS-LM model for a closed economy. The project is divided into three parts:\n",
    "\n",
    "**Building the Model:** We will construct the IS-LM model by using substitution and solving functions to derive the IS and LM curves, and then find the equilibrium.\n",
    "\n",
    "**Parameter Analysis:** In this part, we will assign different parameter values chosen at random to illustrate the curves and equilibrium on graphs. This will allow us to analyze how fiscal and monetary shocks impact the equilibrium.\n",
    "\n",
    "**Exploring Open Economy Effects:** Finally, we will investigate how opening up the economy influences the equilibrium values."
   ]
  },
  {
   "cell_type": "markdown",
   "metadata": {},
   "source": [
    "## Description and model build-up"
   ]
  },
  {
   "cell_type": "markdown",
   "metadata": {},
   "source": [
    "The model consists of the following equations:\n",
    "\n",
    "1. **Planned expenditures on goods and services:** $$PE = C + I + \\bar{G}$$\n",
    "2. **Private consumption of goods:** $$C = a + b(Y-\\bar{T})$$\n",
    "3. **Equilibrium in the goods market:** $$Y = PE$$\n",
    "4. **Investment demand:** $$I = c - d r$$\n",
    "5. **Equilibrium condition in the money market:** $$\\frac{\\bar{M}}{\\bar{P}} = L$$\n",
    "6. **Real demand for money:** $$L = e Y - f r$$\n",
    "7. **Production function:** $$Y = g N$$\n",
    "\n",
    "Where $PE$ is the planned expenditures on goods and services, $C$ is private demand for consumption, $I$ is investment demand, $\\bar{G}$ is public demand for consumption, $\\bar{T}$ is a lumpsum tax, $r$ is the real interest rate, $\\bar{M}$ is the nominaal money supply, $\\bar{P}$ is the consumer price index, $L$ is the real demand for money and $N$ is the workforce. The parameters $a, b, c, d, e, f$ and $g$ are all positive. Further, $b$ is less than 1. A bar over a variable means, that the variable is exogenous. "
   ]
  },
  {
   "cell_type": "markdown",
   "metadata": {},
   "source": [
    "Import and set magics"
   ]
  },
  {
   "cell_type": "code",
   "execution_count": 140,
   "metadata": {},
   "outputs": [
    {
     "name": "stdout",
     "output_type": "stream",
     "text": [
      "The autoreload extension is already loaded. To reload it, use:\n",
      "  %reload_ext autoreload\n"
     ]
    }
   ],
   "source": [
    "# Import necessary libraries\n",
    "import pandas as pd  # Import pandas for data manipulation\n",
    "import matplotlib.pyplot as plt  # Import matplotlib for plotting\n",
    "import numpy as np  # Import numpy for numerical computing\n",
    "from scipy import optimize\n",
    "from scipy.optimize import fsolve\n",
    "import sympy as sp\n",
    "from IPython.display import display\n",
    "\n",
    "# autoreload modules when code is run\n",
    "%load_ext autoreload\n",
    "%autoreload 2"
   ]
  },
  {
   "cell_type": "markdown",
   "metadata": {},
   "source": [
    "This code performs the following steps:\n",
    "\n",
    "**Import Necessary Modules**:\n",
    "   - The `ISLM_alg` class is imported from the `ISLM_new` Python file.\n",
    "   - The `sympy` library is imported for symbolic mathematics.\n",
    "\n",
    "**Initialize the Model**:\n",
    "   - An instance of the `ISLM_alg` class is created and assigned to the variable `model`.\n",
    "\n",
    "**Derive IS and LM Curve Solutions**:\n",
    "   - The `derive_IS` method is called to derive solutions for the IS curve.\n",
    "   - The `derive_LM` method is called to derive solutions for the LM curve.\n",
    "   - The solutions for the output (Y) and the interest rate (r) are stored in `IS_solution_Y`, `IS_solution_r`, `LM_solution_Y`, and `LM_solution_r`.\n",
    "\n",
    "**Display IS and LM Curve Solutions**:\n",
    "   - The solutions for \\( Y \\) and \\( r \\) from the IS and LM curves are displayed.\n"
   ]
  },
  {
   "cell_type": "code",
   "execution_count": 141,
   "metadata": {},
   "outputs": [
    {
     "ename": "TypeError",
     "evalue": "ISLM_alg.__init__() missing 10 required positional arguments: 'a', 'b', 'c', 'd', 'e', 'f', 'T', 'G', 'M', and 'P'",
     "output_type": "error",
     "traceback": [
      "\u001b[0;31m---------------------------------------------------------------------------\u001b[0m",
      "\u001b[0;31mTypeError\u001b[0m                                 Traceback (most recent call last)",
      "Cell \u001b[0;32mIn[141], line 5\u001b[0m\n\u001b[1;32m      2\u001b[0m \u001b[38;5;28;01mfrom\u001b[39;00m \u001b[38;5;21;01mISLM_new\u001b[39;00m \u001b[38;5;28;01mimport\u001b[39;00m ISLM_alg\n\u001b[1;32m      4\u001b[0m \u001b[38;5;66;03m# Initialize the ISLM_alg\u001b[39;00m\n\u001b[0;32m----> 5\u001b[0m model \u001b[38;5;241m=\u001b[39m ISLM_alg()\n\u001b[1;32m      7\u001b[0m \u001b[38;5;66;03m# Derive the IS curve solutions\u001b[39;00m\n\u001b[1;32m      8\u001b[0m IS_solution_Y, IS_solution_r \u001b[38;5;241m=\u001b[39m model\u001b[38;5;241m.\u001b[39mderive_IS()\n",
      "\u001b[0;31mTypeError\u001b[0m: ISLM_alg.__init__() missing 10 required positional arguments: 'a', 'b', 'c', 'd', 'e', 'f', 'T', 'G', 'M', and 'P'"
     ]
    }
   ],
   "source": [
    "# Import the class from the Python file\n",
    "from ISLM_new import ISLM_alg\n",
    "\n",
    "# Initialize the ISLM_alg\n",
    "model = ISLM_alg()\n",
    "\n",
    "# Derive the IS curve solutions\n",
    "IS_solution_Y, IS_solution_r = model.derive_IS()\n",
    "\n",
    "# Derive the LM curve solutions\n",
    "LM_solution_Y, LM_solution_r = model.derive_LM()\n",
    "\n",
    "# Display the IS curve solutions for Y and r\n",
    "print(\"IS Curve Solution (Y):\")\n",
    "if IS_solution_Y:\n",
    "    for sol in IS_solution_Y:\n",
    "        display(sp.Eq(model.Y, sol))\n",
    "\n",
    "print(\"IS Curve Solution (r):\")\n",
    "if IS_solution_r:\n",
    "    for sol in IS_solution_r:\n",
    "        display(sp.Eq(model.r, sol))\n",
    "\n",
    "# Display the LM curve solutions for Y and r\n",
    "print(\"LM Curve Solution (Y):\")\n",
    "if LM_solution_Y:\n",
    "    for sol in LM_solution_Y:\n",
    "        display(sp.Eq(model.Y, sol))\n",
    "\n",
    "\n",
    "print(\"LM Curve Solution (r):\")\n",
    "if LM_solution_r:\n",
    "    for sol in LM_solution_r:\n",
    "        display(sp.Eq(model.r, sol))"
   ]
  },
  {
   "cell_type": "markdown",
   "metadata": {},
   "source": [
    "**Find and display the equilibrium**:\n",
    "   - The find_equilibrium method is called to solve the IS and LM equations simultaneously, finding the values of \\( Y \\) and \\( r \\) that satisfy both equations.\n",
    "   - The equilibrium solutions for \\( Y \\) and \\( r \\) are displayed, showing where the IS and LM curves intersect.\n"
   ]
  },
  {
   "cell_type": "code",
   "execution_count": null,
   "metadata": {},
   "outputs": [
    {
     "name": "stdout",
     "output_type": "stream",
     "text": [
      "Equilibrium where IS curve Y equals LM curve Y for r:\n"
     ]
    },
    {
     "data": {
      "text/latex": [
       "$\\displaystyle r = \\frac{- G P e - M b + M + P T b e - P a e - P c e}{P b f - P d e - P f}$"
      ],
      "text/plain": [
       "Eq(r, (-G*P*e - M*b + M + P*T*b*e - P*a*e - P*c*e)/(P*b*f - P*d*e - P*f))"
      ]
     },
     "metadata": {},
     "output_type": "display_data"
    },
    {
     "data": {
      "text/latex": [
       "$\\displaystyle Y = \\frac{- G P f - M d + P T b f - P a f - P c f}{P b f - P d e - P f}$"
      ],
      "text/plain": [
       "Eq(Y, (-G*P*f - M*d + P*T*b*f - P*a*f - P*c*f)/(P*b*f - P*d*e - P*f))"
      ]
     },
     "metadata": {},
     "output_type": "display_data"
    }
   ],
   "source": [
    "\n",
    "# Find the equilibrium for Y and r\n",
    "equilibrium = model.find_equilibrium()\n",
    "\n",
    "# Display the equilibrium solutions\n",
    "print(\"Equilibrium where IS curve Y equals LM curve Y for r:\")\n",
    "if equilibrium:\n",
    "    for sol in equilibrium:\n",
    "        if model.r in sol:\n",
    "            display(sp.Eq(model.r, sol[model.r]))\n",
    "        if model.Y in sol:\n",
    "            display(sp.Eq(model.Y, sol[model.Y]))\n",
    "else:\n",
    "    print(\"No equilibrium found.\")\n"
   ]
  },
  {
   "cell_type": "markdown",
   "metadata": {},
   "source": [
    "## Analysis of IS-LM model"
   ]
  },
  {
   "cell_type": "code",
   "execution_count": 177,
   "metadata": {},
   "outputs": [
    {
     "name": "stdout",
     "output_type": "stream",
     "text": [
      "Initial Equilibrium (Y, r):\n"
     ]
    },
    {
     "data": {
      "text/latex": [
       "$\\displaystyle r = 36.1111111111111$"
      ],
      "text/plain": [
       "Eq(r, 36.1111111111111)"
      ]
     },
     "metadata": {},
     "output_type": "display_data"
    },
    {
     "data": {
      "text/latex": [
       "$\\displaystyle Y = 1.97222222222222$"
      ],
      "text/plain": [
       "Eq(Y, 1.97222222222222)"
      ]
     },
     "metadata": {},
     "output_type": "display_data"
    },
    {
     "name": "stdout",
     "output_type": "stream",
     "text": [
      "Optimized Parameter T: 7.492773437500015\n",
      "New Equilibrium (Y, r) with r = 0.04:\n"
     ]
    },
    {
     "data": {
      "text/latex": [
       "$\\displaystyle r = 0.0401475694443704$"
      ],
      "text/plain": [
       "Eq(r, 0.0401475694443704)"
      ]
     },
     "metadata": {},
     "output_type": "display_data"
    },
    {
     "data": {
      "text/latex": [
       "$\\displaystyle Y = 1.25080295138889$"
      ],
      "text/plain": [
       "Eq(Y, 1.25080295138889)"
      ]
     },
     "metadata": {},
     "output_type": "display_data"
    }
   ],
   "source": [
    "# Import necessary modules\n",
    "import sympy as sp\n",
    "from ISLM_new import ISLM_alg\n",
    "from IPython.display import display\n",
    "from scipy.optimize import minimize\n",
    "\n",
    "# Initialize the ISLM_alg with specified parameters\n",
    "model = ISLM_alg(\n",
    "    a=2, b=0.6, c=2, d=0.1, e=10, f=0.2, T=1, G=1, M=25, P=2\n",
    ")\n",
    "\n",
    "# Find initial equilibrium for Y and r\n",
    "initial_equilibrium = model.find_equilibrium()\n",
    "\n",
    "# Display the initial equilibrium solutions\n",
    "print(\"Initial Equilibrium (Y, r):\")\n",
    "if initial_equilibrium:\n",
    "    for sol in initial_equilibrium:\n",
    "        if model.r in sol:\n",
    "            display(sp.Eq(model.r, sol[model.r]))\n",
    "        if model.Y in sol:\n",
    "            display(sp.Eq(model.Y, sol[model.Y]))\n",
    "else:\n",
    "    print(\"No equilibrium found.\")\n",
    "\n",
    "# Optimize parameter T to ensure r = 0.04\n",
    "optimized_T = model.optimize_parameters()\n",
    "print(f\"Optimized Parameter T: {optimized_T[0]}\")\n",
    "\n",
    "# Update the model with the optimized T value\n",
    "model.T = optimized_T[0]\n",
    "\n",
    "# Find the new equilibrium for Y and r with optimized parameters\n",
    "new_equilibrium = model.find_equilibrium()\n",
    "\n",
    "# Display the new equilibrium solutions\n",
    "print(\"New Equilibrium (Y, r) with r = 0.04:\")\n",
    "if new_equilibrium:\n",
    "    for sol in new_equilibrium:\n",
    "        if model.r in sol:\n",
    "            display(sp.Eq(model.r, sol[model.r]))\n",
    "        if model.Y in sol:\n",
    "            display(sp.Eq(model.Y, sol[model.Y]))\n",
    "else:\n",
    "    print(\"No equilibrium found.\")"
   ]
  },
  {
   "cell_type": "code",
   "execution_count": 203,
   "metadata": {},
   "outputs": [
    {
     "name": "stdout",
     "output_type": "stream",
     "text": [
      "Initial Equilibrium (Y, r):\n"
     ]
    },
    {
     "data": {
      "text/latex": [
       "$\\displaystyle r = 36.1111111111111$"
      ],
      "text/plain": [
       "Eq(r, 36.1111111111111)"
      ]
     },
     "metadata": {},
     "output_type": "display_data"
    },
    {
     "data": {
      "text/latex": [
       "$\\displaystyle Y = 1.97222222222222$"
      ],
      "text/plain": [
       "Eq(Y, 1.97222222222222)"
      ]
     },
     "metadata": {},
     "output_type": "display_data"
    },
    {
     "name": "stdout",
     "output_type": "stream",
     "text": [
      "Optimized Parameter T: 7.492773437500015\n",
      "New Equilibrium (Y, r) with r = 0.06 and Y > 1:\n"
     ]
    },
    {
     "data": {
      "text/latex": [
       "$\\displaystyle r = 0.0401475694443704$"
      ],
      "text/plain": [
       "Eq(r, 0.0401475694443704)"
      ]
     },
     "metadata": {},
     "output_type": "display_data"
    },
    {
     "data": {
      "text/latex": [
       "$\\displaystyle Y = 1.25080295138889$"
      ],
      "text/plain": [
       "Eq(Y, 1.25080295138889)"
      ]
     },
     "metadata": {},
     "output_type": "display_data"
    }
   ],
   "source": [
    "# Import necessary modules\n",
    "import sympy as sp\n",
    "import numpy as np\n",
    "import matplotlib.pyplot as plt\n",
    "from ISLM_new import ISLM_alg\n",
    "from IPython.display import display\n",
    "from scipy.optimize import minimize\n",
    "\n",
    "# Initialize the ISLM_alg with specified parameters\n",
    "model = ISLM_alg(\n",
    "    a=2, b=0.6, c=2, d=0.1, e=10, f=0.2, T=1, G=1, M=25, P=2\n",
    ")\n",
    "\n",
    "# Find initial equilibrium for Y and r\n",
    "initial_equilibrium = model.find_equilibrium()\n",
    "\n",
    "# Display the initial equilibrium solutions\n",
    "print(\"Initial Equilibrium (Y, r):\")\n",
    "if initial_equilibrium:\n",
    "    for sol in initial_equilibrium:\n",
    "        if model.r in sol:\n",
    "            display(sp.Eq(model.r, sol[model.r]))\n",
    "        if model.Y in sol:\n",
    "            display(sp.Eq(model.Y, sol[model.Y]))\n",
    "else:\n",
    "    print(\"No equilibrium found.\")\n",
    "\n",
    "# Optimize parameter T to ensure r = 0.06 and Y > 1\n",
    "optimized_T = model.optimize_parameters()\n",
    "print(f\"Optimized Parameter T: {optimized_T[0]}\")\n",
    "\n",
    "# Update the model with the optimized T value\n",
    "model.T = optimized_T[0]\n",
    "\n",
    "# Find the new equilibrium for Y and r with optimized parameters\n",
    "new_equilibrium = model.find_equilibrium()\n",
    "\n",
    "# Initialize new_Y and new_r\n",
    "new_Y, new_r = None, None\n",
    "\n",
    "# Display the new equilibrium solutions\n",
    "print(\"New Equilibrium (Y, r) with r = 0.06 and Y > 1:\")\n",
    "if new_equilibrium:\n",
    "    for sol in new_equilibrium:\n",
    "        if model.r in sol:\n",
    "            new_r = sol[model.r]\n",
    "            display(sp.Eq(model.r, sol[model.r]))\n",
    "        if model.Y in sol:\n",
    "            new_Y = sol[model.Y]\n",
    "            display(sp.Eq(model.Y, sol[model.Y]))\n",
    "else:\n",
    "    print(\"No equilibrium found.\")\n",
    "\n",
    "# Ensure new_Y and new_r are defined before plotting\n",
    "if new_Y is not None and new_r is not None:\n",
    "    # Generate a range of Y values\n",
    "    Y_values = np.linspace(0, 3, 10)\n",
    "\n",
    "    # Calculate corresponding r values for IS and LM curves\n",
    "    IS_r_values = [sp.solve(model.derive_IS().subs(model.Y, Y_val), model.r)[0].evalf() for Y_val in Y_values]\n",
    "    LM_r_values = [sp.solve(model.derive_LM().subs(model.Y, Y_val), model.r)[0].evalf() for Y_val in Y_values]\n",
    "\n"
   ]
  },
  {
   "cell_type": "code",
   "execution_count": 204,
   "metadata": {},
   "outputs": [
    {
     "data": {
      "image/png": "[encoded data removed]",
      "text/plain": [
       "<Figure size 1000x600 with 1 Axes>"
      ]
     },
     "metadata": {},
     "output_type": "display_data"
    }
   ],
   "source": [
    "from ISLM_new import ISLM_alg, ISLMPlotter\n",
    "\n",
    "# Plot the IS-LM model with the new equilibrium\n",
    "plotter = ISLMPlotter(model)\n",
    "plotter.plot(Y_range=(0, 3), num_points=100)\n"
   ]
  },
  {
   "cell_type": "code",
   "execution_count": 214,
   "metadata": {},
   "outputs": [
    {
     "name": "stdout",
     "output_type": "stream",
     "text": [
      "New Equilibrium (Y, r) with G=3:\n"
     ]
    },
    {
     "data": {
      "text/latex": [
       "$\\displaystyle r = 0.966073495370296$"
      ],
      "text/plain": [
       "Eq(r, 0.966073495370296)"
      ]
     },
     "metadata": {},
     "output_type": "display_data"
    },
    {
     "data": {
      "text/latex": [
       "$\\displaystyle Y = 1.26932146990741$"
      ],
      "text/plain": [
       "Eq(Y, 1.26932146990741)"
      ]
     },
     "metadata": {},
     "output_type": "display_data"
    }
   ],
   "source": [
    "# Update G to 3\n",
    "model.G = 1.1\n",
    "\n",
    "# Find the new equilibrium for Y and r with G=3\n",
    "new_equilibrium_G3 = model.find_equilibrium()\n",
    "\n",
    "# Display the new equilibrium solutions for G=3\n",
    "print(\"New Equilibrium (Y, r) with G=3:\")\n",
    "new_Y_G3, new_r_G3 = None, None\n",
    "if new_equilibrium_G3:\n",
    "    for sol in new_equilibrium_G3:\n",
    "        if model.r in sol:\n",
    "            new_r_G3 = sol[model.r]\n",
    "            display(sp.Eq(model.r, sol[model.r]))\n",
    "        if model.Y in sol:\n",
    "            new_Y_G3 = sol[model.Y]\n",
    "            display(sp.Eq(model.Y, sol[model.Y]))\n",
    "else:\n",
    "    print(\"No equilibrium found for G=3.\")\n"
   ]
  }
 ],
 "metadata": {
  "kernelspec": {
   "display_name": "base",
   "language": "python",
   "name": "python3"
  },
  "language_info": {
   "codemirror_mode": {
    "name": "ipython",
    "version": 3
   },
   "file_extension": ".py",
   "mimetype": "text/x-python",
   "name": "python",
   "nbconvert_exporter": "python",
   "pygments_lexer": "ipython3",
   "version": "3.11.5"
  }
 },
 "nbformat": 4,
 "nbformat_minor": 2
}
