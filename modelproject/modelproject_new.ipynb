{
 "cells": [
  {
   "cell_type": "code",
   "execution_count": 30,
   "metadata": {},
   "outputs": [
    {
     "name": "stdout",
     "output_type": "stream",
     "text": [
      "The autoreload extension is already loaded. To reload it, use:\n",
      "  %reload_ext autoreload\n"
     ]
    }
   ],
   "source": [
    "# Import necessary libraries\n",
    "import pandas as pd  # Import pandas for data manipulation\n",
    "import matplotlib.pyplot as plt  # Import matplotlib for plotting\n",
    "import numpy as np  # Import numpy for numerical computing\n",
    "from scipy import optimize\n",
    "import sympy as sm\n",
    "import sympy as sp\n",
    "\n",
    "# autoreload modules when code is run\n",
    "%load_ext autoreload\n",
    "%autoreload 2"
   ]
  },
  {
   "cell_type": "code",
   "execution_count": 44,
   "metadata": {},
   "outputs": [
    {
     "name": "stdout",
     "output_type": "stream",
     "text": [
      "IS Curve Solution (Y):\n"
     ]
    },
    {
     "data": {
      "text/latex": [
       "$\\displaystyle Y = \\frac{- G + T b - a - c + d r}{b - 1}$"
      ],
      "text/plain": [
       "Eq(Y, (-G + T*b - a - c + d*r)/(b - 1))"
      ]
     },
     "metadata": {},
     "output_type": "display_data"
    },
    {
     "name": "stdout",
     "output_type": "stream",
     "text": [
      "IS Curve Solution (r):\n"
     ]
    },
    {
     "data": {
      "text/latex": [
       "$\\displaystyle r = \\frac{G - T b + Y b - Y + a + c}{d}$"
      ],
      "text/plain": [
       "Eq(r, (G - T*b + Y*b - Y + a + c)/d)"
      ]
     },
     "metadata": {},
     "output_type": "display_data"
    },
    {
     "name": "stdout",
     "output_type": "stream",
     "text": [
      "LM Curve Solution (Y):\n"
     ]
    },
    {
     "data": {
      "text/latex": [
       "$\\displaystyle Y = \\frac{M + P f r}{P e}$"
      ],
      "text/plain": [
       "Eq(Y, (M + P*f*r)/(P*e))"
      ]
     },
     "metadata": {},
     "output_type": "display_data"
    },
    {
     "name": "stdout",
     "output_type": "stream",
     "text": [
      "LM Curve Solution (r):\n"
     ]
    },
    {
     "data": {
      "text/latex": [
       "$\\displaystyle r = \\frac{- M + P Y e}{P f}$"
      ],
      "text/plain": [
       "Eq(r, (-M + P*Y*e)/(P*f))"
      ]
     },
     "metadata": {},
     "output_type": "display_data"
    }
   ],
   "source": [
    "# Import the class from the Python file\n",
    "from ISLM_new import ISLM_alg\n",
    "import sympy as sp\n",
    "\n",
    "# Initialize the ISLM_alg\n",
    "model = ISLM_alg()\n",
    "\n",
    "# Derive the IS curve solutions\n",
    "IS_solution_Y, IS_solution_r = model.derive_IS()\n",
    "\n",
    "# Derive the LM curve solutions\n",
    "LM_solution_Y, LM_solution_r = model.derive_LM()\n",
    "\n",
    "# Display the IS curve solutions for Y and r\n",
    "print(\"IS Curve Solution (Y):\")\n",
    "if IS_solution_Y:\n",
    "    for sol in IS_solution_Y:\n",
    "        display(sp.Eq(model.Y, sol))\n",
    "\n",
    "print(\"IS Curve Solution (r):\")\n",
    "if IS_solution_r:\n",
    "    for sol in IS_solution_r:\n",
    "        display(sp.Eq(model.r, sol))\n",
    "\n",
    "# Display the LM curve solutions for Y and r\n",
    "print(\"LM Curve Solution (Y):\")\n",
    "if LM_solution_Y:\n",
    "    for sol in LM_solution_Y:\n",
    "        display(sp.Eq(model.Y, sol))\n",
    "\n",
    "print(\"LM Curve Solution (r):\")\n",
    "if LM_solution_r:\n",
    "    for sol in LM_solution_r:\n",
    "        display(sp.Eq(model.r, sol))\n"
   ]
  }
 ],
 "metadata": {
  "kernelspec": {
   "display_name": "base",
   "language": "python",
   "name": "python3"
  },
  "language_info": {
   "codemirror_mode": {
    "name": "ipython",
    "version": 3
   },
   "file_extension": ".py",
   "mimetype": "text/x-python",
   "name": "python",
   "nbconvert_exporter": "python",
   "pygments_lexer": "ipython3",
   "version": "3.11.5"
  }
 },
 "nbformat": 4,
 "nbformat_minor": 2
}
