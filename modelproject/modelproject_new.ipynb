{
 "cells": [
  {
   "cell_type": "markdown",
   "metadata": {},
   "source": [
    "# Modelproject: IS-LM Model"
   ]
  },
  {
   "cell_type": "markdown",
   "metadata": {},
   "source": [
    "For this project, we will utilize a simple IS-LM model for a closed economy. The project is divided into three parts:\n",
    "\n",
    "**Building the Model:** We will construct the IS-LM model by using substitution and solving functions to derive the IS and LM curves, and then find the equilibrium.\n",
    "\n",
    "**Parameter Analysis:** In this part, we will assign different parameter values chosen at random to illustrate the curves and equilibrium on graphs. This will allow us to analyze how fiscal and monetary shocks impact the equilibrium.\n",
    "\n",
    "**Exploring Open Economy Effects:** Finally, we will investigate how opening up the economy influences the equilibrium values."
   ]
  },
  {
   "cell_type": "markdown",
   "metadata": {},
   "source": [
    "## Description and model build-up"
   ]
  },
  {
   "cell_type": "markdown",
   "metadata": {},
   "source": [
    "The model consists of the following equations:\n",
    "\n",
    "1. **Planned expenditures on goods and services:** $$PE = C + I + \\bar{G}$$\n",
    "2. **Private consumption of goods:** $$C = a + b(Y-\\bar{T})$$\n",
    "3. **Equilibrium in the goods market:** $$Y = PE$$\n",
    "4. **Investment demand:** $$I = c - d r$$\n",
    "5. **Equilibrium condition in the money market:** $$\\frac{\\bar{M}}{\\bar{P}} = L$$\n",
    "6. **Real demand for money:** $$L = e Y - f r$$\n",
    "7. **Production function:** $$Y = g N$$\n",
    "\n",
    "Where $PE$ is the planned expenditures on goods and services, $C$ is private demand for consumption, $I$ is investment demand, $\\bar{G}$ is public demand for consumption, $\\bar{T}$ is a lumpsum tax, $r$ is the real interest rate, $\\bar{M}$ is the nominaal money supply, $\\bar{P}$ is the consumer price index, $L$ is the real demand for money and $N$ is the workforce. The parameters $a, b, c, d, e, f$ and $g$ are all positive. Further, $b$ is less than 1. A bar over a variable means, that the variable is exogenous. "
   ]
  },
  {
   "cell_type": "markdown",
   "metadata": {},
   "source": [
    "Import and set magics"
   ]
  },
  {
   "cell_type": "code",
   "execution_count": 97,
   "metadata": {},
   "outputs": [
    {
     "name": "stdout",
     "output_type": "stream",
     "text": [
      "The autoreload extension is already loaded. To reload it, use:\n",
      "  %reload_ext autoreload\n"
     ]
    }
   ],
   "source": [
    "# Import necessary libraries\n",
    "import pandas as pd  # Import pandas for data manipulation\n",
    "import matplotlib.pyplot as plt  # Import matplotlib for plotting\n",
    "import numpy as np  # Import numpy for numerical computing\n",
    "from scipy import optimize\n",
    "from scipy.optimize import fsolve\n",
    "import sympy as sp\n",
    "from IPython.display import display\n",
    "\n",
    "# autoreload modules when code is run\n",
    "%load_ext autoreload\n",
    "%autoreload 2"
   ]
  },
  {
   "cell_type": "markdown",
   "metadata": {},
   "source": [
    "This code performs the following steps:\n",
    "\n",
    "**Import Necessary Modules**:\n",
    "   - The `ISLM_alg` class is imported from the `ISLM_new` Python file.\n",
    "   - The `sympy` library is imported for symbolic mathematics.\n",
    "\n",
    "**Initialize the Model**:\n",
    "   - An instance of the `ISLM_alg` class is created and assigned to the variable `model`.\n",
    "\n",
    "**Derive IS and LM Curve Solutions**:\n",
    "   - The `derive_IS` method is called to derive solutions for the IS curve.\n",
    "   - The `derive_LM` method is called to derive solutions for the LM curve.\n",
    "   - The solutions for the output (Y) and the interest rate (r) are stored in `IS_solution_Y`, `IS_solution_r`, `LM_solution_Y`, and `LM_solution_r`.\n",
    "\n",
    "**Display IS and LM Curve Solutions**:\n",
    "   - The solutions for \\( Y \\) and \\( r \\) from the IS and LM curves are displayed.\n"
   ]
  },
  {
   "cell_type": "code",
   "execution_count": 98,
   "metadata": {},
   "outputs": [
    {
     "name": "stdout",
     "output_type": "stream",
     "text": [
      "IS Curve Solution (Y):\n"
     ]
    },
    {
     "data": {
      "text/latex": [
       "$\\displaystyle Y = \\frac{- G + T b - a - c + d r}{b - 1}$"
      ],
      "text/plain": [
       "Eq(Y, (-G + T*b - a - c + d*r)/(b - 1))"
      ]
     },
     "metadata": {},
     "output_type": "display_data"
    },
    {
     "name": "stdout",
     "output_type": "stream",
     "text": [
      "IS Curve Solution (r):\n"
     ]
    },
    {
     "data": {
      "text/latex": [
       "$\\displaystyle r = \\frac{G - T b + Y b - Y + a + c}{d}$"
      ],
      "text/plain": [
       "Eq(r, (G - T*b + Y*b - Y + a + c)/d)"
      ]
     },
     "metadata": {},
     "output_type": "display_data"
    },
    {
     "name": "stdout",
     "output_type": "stream",
     "text": [
      "LM Curve Solution (Y):\n"
     ]
    },
    {
     "data": {
      "text/latex": [
       "$\\displaystyle Y = \\frac{M + P f r}{P e}$"
      ],
      "text/plain": [
       "Eq(Y, (M + P*f*r)/(P*e))"
      ]
     },
     "metadata": {},
     "output_type": "display_data"
    },
    {
     "name": "stdout",
     "output_type": "stream",
     "text": [
      "LM Curve Solution (r):\n"
     ]
    },
    {
     "data": {
      "text/latex": [
       "$\\displaystyle r = \\frac{- M + P Y e}{P f}$"
      ],
      "text/plain": [
       "Eq(r, (-M + P*Y*e)/(P*f))"
      ]
     },
     "metadata": {},
     "output_type": "display_data"
    }
   ],
   "source": [
    "# Import the class from the Python file\n",
    "from ISLM_new import ISLM_alg\n",
    "\n",
    "# Initialize the ISLM_alg\n",
    "model = ISLM_alg()\n",
    "\n",
    "# Derive the IS curve solutions\n",
    "IS_solution_Y, IS_solution_r = model.derive_IS()\n",
    "\n",
    "# Derive the LM curve solutions\n",
    "LM_solution_Y, LM_solution_r = model.derive_LM()\n",
    "\n",
    "# Display the IS curve solutions for Y and r\n",
    "print(\"IS Curve Solution (Y):\")\n",
    "if IS_solution_Y:\n",
    "    for sol in IS_solution_Y:\n",
    "        display(sp.Eq(model.Y, sol))\n",
    "\n",
    "print(\"IS Curve Solution (r):\")\n",
    "if IS_solution_r:\n",
    "    for sol in IS_solution_r:\n",
    "        display(sp.Eq(model.r, sol))\n",
    "\n",
    "# Display the LM curve solutions for Y and r\n",
    "print(\"LM Curve Solution (Y):\")\n",
    "if LM_solution_Y:\n",
    "    for sol in LM_solution_Y:\n",
    "        display(sp.Eq(model.Y, sol))\n",
    "\n",
    "\n",
    "print(\"LM Curve Solution (r):\")\n",
    "if LM_solution_r:\n",
    "    for sol in LM_solution_r:\n",
    "        display(sp.Eq(model.r, sol))"
   ]
  },
  {
   "cell_type": "markdown",
   "metadata": {},
   "source": [
    "**Find and display the equilibrium**:\n",
    "   - The find_equilibrium method is called to solve the IS and LM equations simultaneously, finding the values of \\( Y \\) and \\( r \\) that satisfy both equations.\n",
    "   - The equilibrium solutions for \\( Y \\) and \\( r \\) are displayed, showing where the IS and LM curves intersect.\n"
   ]
  },
  {
   "cell_type": "code",
   "execution_count": 123,
   "metadata": {},
   "outputs": [
    {
     "name": "stdout",
     "output_type": "stream",
     "text": [
      "Equilibrium where IS curve Y equals LM curve Y for r:\n"
     ]
    },
    {
     "data": {
      "text/latex": [
       "$\\displaystyle r = \\frac{- G P e - M b + M + P T b e - P a e - P c e}{P b f - P d e - P f}$"
      ],
      "text/plain": [
       "Eq(r, (-G*P*e - M*b + M + P*T*b*e - P*a*e - P*c*e)/(P*b*f - P*d*e - P*f))"
      ]
     },
     "metadata": {},
     "output_type": "display_data"
    },
    {
     "data": {
      "text/latex": [
       "$\\displaystyle Y = \\frac{- G P f - M d + P T b f - P a f - P c f}{P b f - P d e - P f}$"
      ],
      "text/plain": [
       "Eq(Y, (-G*P*f - M*d + P*T*b*f - P*a*f - P*c*f)/(P*b*f - P*d*e - P*f))"
      ]
     },
     "metadata": {},
     "output_type": "display_data"
    }
   ],
   "source": [
    "\n",
    "# Find the equilibrium for Y and r\n",
    "equilibrium = model.find_equilibrium()\n",
    "\n",
    "# Display the equilibrium solutions\n",
    "print(\"Equilibrium where IS curve Y equals LM curve Y for r:\")\n",
    "if equilibrium:\n",
    "    for sol in equilibrium:\n",
    "        if model.r in sol:\n",
    "            display(sp.Eq(model.r, sol[model.r]))\n",
    "        if model.Y in sol:\n",
    "            display(sp.Eq(model.Y, sol[model.Y]))\n",
    "else:\n",
    "    print(\"No equilibrium found.\")\n"
   ]
  },
  {
   "cell_type": "markdown",
   "metadata": {},
   "source": [
    "## Analysis of IS-LM model"
   ]
  },
  {
   "cell_type": "code",
   "execution_count": 124,
   "metadata": {},
   "outputs": [
    {
     "ename": "NameError",
     "evalue": "name 'ISLMclass' is not defined",
     "output_type": "error",
     "traceback": [
      "\u001b[0;31m---------------------------------------------------------------------------\u001b[0m",
      "\u001b[0;31mNameError\u001b[0m                                 Traceback (most recent call last)",
      "Cell \u001b[0;32mIn[124], line 2\u001b[0m\n\u001b[1;32m      1\u001b[0m \u001b[38;5;66;03m# Initialize the model with adjusted parameters for better curve fitting\u001b[39;00m\n\u001b[0;32m----> 2\u001b[0m model \u001b[38;5;241m=\u001b[39m ISLMclass(\n\u001b[1;32m      3\u001b[0m     a\u001b[38;5;241m=\u001b[39m\u001b[38;5;241m2\u001b[39m, b\u001b[38;5;241m=\u001b[39m\u001b[38;5;241m0.6\u001b[39m, c\u001b[38;5;241m=\u001b[39m\u001b[38;5;241m2\u001b[39m, d\u001b[38;5;241m=\u001b[39m\u001b[38;5;241m0.1\u001b[39m, e\u001b[38;5;241m=\u001b[39m\u001b[38;5;241m6\u001b[39m, f\u001b[38;5;241m=\u001b[39m\u001b[38;5;241m0.2\u001b[39m, g\u001b[38;5;241m=\u001b[39m\u001b[38;5;241m1.5\u001b[39m,\n\u001b[1;32m      4\u001b[0m     T\u001b[38;5;241m=\u001b[39m\u001b[38;5;241m1\u001b[39m, G\u001b[38;5;241m=\u001b[39m\u001b[38;5;241m1\u001b[39m, M\u001b[38;5;241m=\u001b[39m\u001b[38;5;241m5\u001b[39m, P\u001b[38;5;241m=\u001b[39m\u001b[38;5;241m2\u001b[39m, r\u001b[38;5;241m=\u001b[39m\u001b[38;5;241m0.04\u001b[39m, N\u001b[38;5;241m=\u001b[39m\u001b[38;5;241m500\u001b[39m\n\u001b[1;32m      5\u001b[0m )\n\u001b[1;32m      7\u001b[0m \u001b[38;5;66;03m# Define functions to compute IS and LM interest rates\u001b[39;00m\n\u001b[1;32m      8\u001b[0m \u001b[38;5;28;01mdef\u001b[39;00m \u001b[38;5;21mIS_r\u001b[39m(Y):\n\u001b[1;32m      9\u001b[0m     \u001b[38;5;66;03m# Adjusting to return r directly\u001b[39;00m\n",
      "\u001b[0;31mNameError\u001b[0m: name 'ISLMclass' is not defined"
     ]
    }
   ],
   "source": [
    "# Initialize the model with adjusted parameters for better curve fitting\n",
    "model = ISLMclass(\n",
    "    a=2, b=0.6, c=2, d=0.1, e=6, f=0.2, g=1.5,\n",
    "    T=1, G=1, M=5, P=2, r=0.04, N=500\n",
    ")\n",
    "\n",
    "# Define functions to compute IS and LM interest rates\n",
    "def IS_r(Y):\n",
    "    # Adjusting to return r directly\n",
    "    return (1 / model.par.d) * (model.par.a + model.par.c - model.par.b * model.par.T + model.par.G - (1 - model.par.b) * Y)\n",
    "\n",
    "def LM_r(Y):\n",
    "    # Adjusting to return r directly\n",
    "    return (model.par.e / model.par.f) * Y - (1 / model.par.f) * (model.par.M / model.par.P)\n",
    "\n",
    "# Generate Y values and compute r for IS and LM curves\n",
    "Y_values = np.linspace(50, 4000, 400)  # Adjusted range if needed\n",
    "IS_r_values = [IS_r(Y) for Y in Y_values]\n",
    "LM_r_values = [LM_r(Y) for Y in Y_values]\n",
    "\n",
    "# Find equilibrium by minimizing the difference between the IS and LM r values\n",
    "Y_eq_guess = 500\n",
    "Y_eq = fsolve(lambda Y: abs(IS_r(Y) - LM_r(Y)), Y_eq_guess)\n",
    "r_eq_IS = IS_r(Y_eq[0])\n",
    "r_eq_LM = LM_r(Y_eq[0])\n",
    "\n",
    "# Plotting\n",
    "plt.figure(figsize=(10, 6))\n",
    "plt.plot(Y_values, IS_r_values, label='IS Curve', color='blue')\n",
    "plt.plot(Y_values, LM_r_values, label='LM Curve', color='red')\n",
    "plt.scatter(Y_eq, r_eq_IS, color='green', s=100, label=f'Equilibrium (Y={Y_eq[0]:.2f}, r={r_eq_IS:.4f})')\n",
    "plt.title('IS-LM Model')\n",
    "plt.xlabel('Output, Y')\n",
    "plt.ylabel('Interest Rate, r')\n",
    "plt.legend()\n",
    "plt.grid(True)\n",
    "plt.show()"
   ]
  }
 ],
 "metadata": {
  "kernelspec": {
   "display_name": "base",
   "language": "python",
   "name": "python3"
  },
  "language_info": {
   "codemirror_mode": {
    "name": "ipython",
    "version": 3
   },
   "file_extension": ".py",
   "mimetype": "text/x-python",
   "name": "python",
   "nbconvert_exporter": "python",
   "pygments_lexer": "ipython3",
   "version": "3.11.5"
  }
 },
 "nbformat": 4,
 "nbformat_minor": 2
}
