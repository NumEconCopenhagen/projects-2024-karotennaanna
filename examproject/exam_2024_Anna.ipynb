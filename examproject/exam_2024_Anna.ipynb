{
 "cells": [
  {
   "cell_type": "markdown",
   "metadata": {},
   "source": [
    "**Table of contents**<a id='toc0_'></a>    \n",
    "- 1. [Problem 1: Production economy and CO2 taxation](#toc1_)    \n",
    "- 2. [Problem 2: Career choice model](#toc2_)    \n",
    "- 3. [Problem 3: Barycentric interpolation](#toc3_)    \n",
    "\n",
    "<!-- vscode-jupyter-toc-config\n",
    "\tnumbering=true\n",
    "\tanchor=true\n",
    "\tflat=false\n",
    "\tminLevel=2\n",
    "\tmaxLevel=6\n",
    "\t/vscode-jupyter-toc-config -->\n",
    "<!-- THIS CELL WILL BE REPLACED ON TOC UPDATE. DO NOT WRITE YOUR TEXT IN THIS CELL -->"
   ]
  },
  {
   "cell_type": "code",
   "execution_count": 6,
   "metadata": {},
   "outputs": [],
   "source": [
    "# Write your code here\n",
    "import numpy as np\n",
    "from types import SimpleNamespace"
   ]
  },
  {
   "cell_type": "markdown",
   "metadata": {},
   "source": [
    "## 1. <a id='toc1_'></a>[Problem 1: Production economy and CO2 taxation](#toc0_)"
   ]
  },
  {
   "cell_type": "markdown",
   "metadata": {},
   "source": [
    "Consider a production economy with two firms indexed by $j \\in \\{1,2\\}$. Each produce its own good. They solve\n",
    "\n",
    "$$\n",
    "\\begin{align*}\n",
    "\\max_{y_{j}}\\pi_{j}&=p_{j}y_{j}-w_{j}\\ell_{j}\\\\\\text{s.t.}\\;&y_{j}=A\\ell_{j}^{\\gamma}.\n",
    "\\end{align*}\n",
    "$$\n",
    "\n",
    "Optimal firm behavior is\n",
    "\n",
    "$$\n",
    "\\begin{align*}\n",
    "\\ell_{j}^{\\star}(w,p_{j})&=\\left(\\frac{p_{j}A\\gamma}{w}\\right)^{\\frac{1}{1-\\gamma}} \\\\\n",
    "y_{j}^{\\star}(w,p_{j})&=A\\left(\\ell_{j}^{\\star}(w,p_{j})\\right)^{\\gamma}\n",
    "\\end{align*}\n",
    "$$\n",
    "\n",
    "The implied profits are\n",
    "\n",
    "$$\n",
    "\\pi_{j}^*(w,p_{j})=\\frac{1-\\gamma}{\\gamma}w\\cdot\\left(\\frac{p_{j}A\\gamma}{w}\\right)^{\\frac{1}{1-\\gamma}}\n",
    "$$\n",
    "\n",
    "A single consumer supplies labor, and consumes the goods the firms produce. She also recieves the implied profits of the firm.<br>\n",
    "She solves:\n",
    "\n",
    "$$\n",
    "\\begin{align*}\n",
    "U(p_1,p_2,w,\\tau,T) = \\max_{c_{1},c_{2},\\ell} & \\log(c_{1}^{\\alpha}c_{2}^{1-\\alpha})-\\nu\\frac{\\ell^{1+\\epsilon}}{1+\\epsilon} \\\\\n",
    "\\text{s.t.}\\,\\,\\,&p_{1}c_{1}+(p_{2}+\\tau)c_{2}=w\\ell+T+\\pi_{1}^*(w,p_{1})+\\pi_{2}^*(w,p_{2})\n",
    "\\end{align*}\n",
    "$$\n",
    "\n",
    "where $\\tau$ is a tax and $T$ is lump-sum transfer. <br>\n",
    "For a given $\\ell$, it can be shown that optimal behavior is\n",
    "\n",
    "$$\n",
    "\\begin{align*}\n",
    "c_{1}(\\ell)&=\\alpha\\frac{w\\ell+T+\\pi_{1}^*(w,p_{1})+\\pi_{2}^*(w,p_{2})}{p_{1}} \\\\\n",
    "c_{2}(\\ell)&=(1-\\alpha)\\frac{w\\ell+T+\\pi_{1}^*(w,p_{1})+\\pi_{2}^*(w,p_{2})}{p_{2}+\\tau} \\\\\n",
    "\\end{align*}\n",
    "$$\n",
    "Such that optimal behavior is:\n",
    "$$\n",
    "\\ell^* = \\underset{\\ell}{\\arg\\max} \\log(\\left(c_{1}(\\ell)\\right)^{\\alpha}\\cdot \\left(c_{2}(\\ell)\\right)^{1-\\alpha})-\\nu\\frac{\\ell^{1+\\epsilon}}{1+\\epsilon} \n",
    "$$\n",
    "With optimal consumption:\n",
    "$$\n",
    "\\begin{align*}\n",
    "c_1^*=c_{1}(\\ell^*) \\\\\n",
    "c_2^*=c_{2}(\\ell^*)\\\\\n",
    "\\end{align*}\n",
    "$$\n",
    "\n",
    "\n",
    "The government chooses $\\tau$ and balances its budget so $T=\\tau c_2^*$. We initially set $\\tau,T=0$.\n",
    "\n",
    "Market clearing requires:\n",
    "\n",
    "1. Labor market: $\\ell^* = \\ell_1^* + \\ell_2^*$\n",
    "1. Good market 1: $c_1^* = y_1^*$\n",
    "1. Good market 2: $c_2^* = y_2^*$\n"
   ]
  },
  {
   "cell_type": "markdown",
   "metadata": {},
   "source": [
    "**Question 1:** Check market clearing conditions for $p_1$ in `linspace(0.1,2.0,10)` and $p_2$ in `linspace(0.1,2.0,10)`. We choose $w=1$ as numeraire."
   ]
  },
  {
   "cell_type": "code",
   "execution_count": 7,
   "metadata": {},
   "outputs": [],
   "source": [
    "par = SimpleNamespace()\n",
    "\n",
    "# firms\n",
    "par.A = 1.0\n",
    "par.gamma = 0.5\n",
    "\n",
    "# households\n",
    "par.alpha = 0.3\n",
    "par.nu = 1.0\n",
    "par.epsilon = 2.0\n",
    "\n",
    "# government\n",
    "par.tau = 0.0\n",
    "par.T = 0.0\n",
    "\n",
    "# Question 3\n",
    "par.kappa = 0.1"
   ]
  },
  {
   "cell_type": "markdown",
   "metadata": {},
   "source": [
    "### Derivation of \\( L^* \\)\n",
    "\n",
    "1. **Consumer's utility maximization problem**:\n",
    "   The consumer maximizes their utility:\n",
    "   $$\n",
    "   U(c_1, c_2, \\ell) = \\log(c_1^\\alpha c_2^{1-\\alpha}) - \\nu \\frac{\\ell^{1+\\epsilon}}{1+\\epsilon}\n",
    "   $$\n",
    "   subject to the budget constraint:\n",
    "   $$\n",
    "   p_1 c_1 + (p_2 + \\tau) c_2 = w \\ell + T + \\pi_1 + \\pi_2\n",
    "   $$\n",
    "   where \\( \\pi_1 \\) and \\( \\pi_2 \\) are the profits from firms.\n",
    "\n",
    "2. **Optimal consumption**:\n",
    "   The optimal consumption of goods \\( c_1 \\) and \\( c_2 \\) derived from the utility maximization problem are:\n",
    "   $$\n",
    "   c_1 = \\alpha \\frac{w \\ell + T + \\pi_1 + \\pi_2}{p_1}\n",
    "   $$\n",
    "   $$\n",
    "   c_2 = (1 - \\alpha) \\frac{w \\ell + T + \\pi_1 + \\pi_2}{p_2 + \\tau}\n",
    "   $$\n",
    "\n",
    "3. **Utility function substitution**:\n",
    "   Substitute the optimal consumption back into the utility function to derive the labor supply:\n",
    "   $$\n",
    "   U = \\log \\left( \\left( \\alpha \\frac{w \\ell + T + \\pi_1 + \\pi_2}{p_1} \\right)^\\alpha \\left( (1 - \\alpha) \\frac{w \\ell + T + \\pi_1 + \\pi_2}{p_2 + \\tau} \\right)^{1 - \\alpha} \\right) - \\nu \\frac{\\ell^{1+\\epsilon}}{1+\\epsilon}\n",
    "   $$\n",
    "\n",
    "4. **Simplify the log term**:\n",
    "   $$\n",
    "   U = \\alpha \\log \\left( \\alpha \\frac{w \\ell + T + \\pi_1 + \\pi_2}{p_1} \\right) + (1 - \\alpha) \\log \\left( (1 - \\alpha) \\frac{w \\ell + T + \\pi_1 + \\pi_2}{p_2 + \\tau} \\right) - \\nu \\frac{\\ell^{1+\\epsilon}}{1+\\epsilon}\n",
    "   $$\n",
    "\n",
    "5. **First-order condition**:\n",
    "   Differentiate the utility function with respect to \\( \\ell \\) and set it to zero to find the optimal labor supply:\n",
    "   $$\n",
    "   \\frac{dU}{d\\ell} = \\frac{\\alpha}{w \\ell + T + \\pi_1 + \\pi_2} \\cdot w \\cdot \\frac{\\alpha}{p_1} + \\frac{(1 - \\alpha)}{w \\ell + T + \\pi_1 + \\pi_2} \\cdot w \\cdot \\frac{1 - \\alpha}{p_2 + \\tau} - \\nu \\ell^\\epsilon = 0\n",
    "   $$\n",
    "\n",
    "6. **Simplify the first-order condition**:\n",
    "   $$\n",
    "   \\frac{\\alpha w}{p_1 (w \\ell + T + \\pi_1 + \\pi_2)} + \\frac{(1 - \\alpha) w}{(p_2 + \\tau)(w \\ell + T + \\pi_1 + \\pi_2)} - \\nu \\ell^\\epsilon = 0\n",
    "   $$\n",
    "\n",
    "7. **Combine terms and solve for \\(\\ell\\)**:\n",
    "   $$\n",
    "   \\frac{w}{w \\ell + T + \\pi_1 + \\pi_2} \\left( \\frac{\\alpha}{p_1} + \\frac{1 - \\alpha}{p_2 + \\tau} \\right) = \\nu \\ell^\\epsilon\n",
    "   $$\n",
    "   $$\n",
    "   \\left( \\frac{\\alpha}{p_1} + \\frac{1 - \\alpha}{p_2 + \\tau} \\right) \\frac{w}{w \\ell + T + \\pi_1 + \\pi_2} = \\nu \\ell^\\epsilon\n",
    "   $$\n",
    "\n",
    "8. **Isolate \\(\\ell\\)**:\n",
    "   $$\n",
    "   \\left( \\frac{\\alpha}{p_1} + \\frac{1 - \\alpha}{p_2 + \\tau} \\right) w = \\nu \\ell^\\epsilon (w \\ell + T + \\pi_1 + \\pi_2)\n",
    "   $$\n",
    "   $$\n",
    "   \\left( \\frac{\\alpha}{p_1} + \\frac{1 - \\alpha}{p_2 + \\tau} \\right) w = \\nu \\ell^\\epsilon \\cdot w \\ell + \\nu \\ell^\\epsilon (T + \\pi_1 + \\pi_2)\n",
    "   $$\n",
    "\n",
    "9. **Simplify and solve for \\( L^* \\)**:\n",
    "   $$\n",
    "   \\left( \\frac{\\alpha}{p_1} + \\frac{1 - \\alpha}{p_2 + \\tau} \\right) \\cdot (w + T + \\pi_1 + \\pi_2)^{\\frac{1}{1 + \\epsilon}} = \\nu^{\\frac{1}{1 + \\epsilon}}\n",
    "   $$\n",
    "   $$\n",
    "   L^* = \\left( \\frac{\\alpha}{p_1} + \\frac{1 - \\alpha}{p_2 + \\tau} \\right) \\left( w + T + \\pi_1 + \\pi_2 \\right)^{\\frac{1}{1 + \\epsilon}} \\left( \\nu^{\\frac{1}{1 + \\epsilon}} \\right)^{-1}\n",
    "   $$\n",
    "   $$\n",
    "   L^* = \\left( \\frac{\\alpha}{p_1} + \\frac{1 - \\alpha}{p_2 + \\tau} \\right) \\left( w + T + \\pi_1 + \\pi_2 \\ \\right)^{\\frac{1}{1 + \\epsilon}} \\left( \\nu^{- \\frac{1}{1 + \\epsilon}} \\right)\n",
    "   $$\n",
    "   $$\n",
    "   L^* = \\left( \\frac{\\alpha}{p_1} + \\frac{1 - \\alpha}{p_2 + \\tau} \\right) \\left( w + T + \\pi_1 + \\pi_2 \\right)^{\\frac{1}{1 + \\epsilon}} \\cdot \\frac{1}{\\nu^{\\frac{1}{1 + \\epsilon}}}\n",
    "   $$\n",
    "   $$\n",
    "   L^* = \\left( \\frac{\\alpha}{p_1} + \\frac{1 - \\alpha}{p_2 + \\tau} \\right) \\left( w + T + \\pi_1 + \\pi_2 \\right)^{\\frac{1}{1 + \\epsilon}} \\cdot \\nu^{- \\frac{1}{1 + \\epsilon}}\n",
    "   $$\n",
    "\n",
    "Thus, the optimal labor supply \\( L^* \\) is given by:\n",
    "$$\n",
    "L^* = \\left( \\frac{\\alpha}{p_1} + \\frac{1 - \\alpha}{p_2 + \\tau} \\right) \\left( w + T + \\pi_1 + \\pi_2 \\right)^{\\frac{1}{1 + \\epsilon}} \\cdot \\nu^{- \\frac{1}{1 + \\epsilon}}\n",
    "$$\n"
   ]
  },
  {
   "cell_type": "code",
   "execution_count": 219,
   "metadata": {},
   "outputs": [
    {
     "data": {
      "image/png": "[encoded data removed]",
      "text/plain": [
       "<Figure size 640x480 with 1 Axes>"
      ]
     },
     "metadata": {},
     "output_type": "display_data"
    },
    {
     "name": "stdout",
     "output_type": "stream",
     "text": [
      "No market clearing prices exist\n"
     ]
    },
    {
     "data": {
      "text/plain": [
       "{'p1_star': 0.9759308856165233,\n",
       " 'p2_star': 1.4907590521264114,\n",
       " 'l_star': 0.793700911249237,\n",
       " 'c1_star': 0.4879654428076745,\n",
       " 'c2_star': 0.7453795260635666}"
      ]
     },
     "execution_count": 219,
     "metadata": {},
     "output_type": "execute_result"
    }
   ],
   "source": [
    "import numpy as np\n",
    "import pandas as pd\n",
    "import matplotlib.pyplot as plt\n",
    "from scipy import optimize\n",
    "from exam_2024_Anna import ProductionEconomy  # Ensure that the economy.py file is in the same directory as this notebook\n",
    "\n",
    "par.T = 0.0\n",
    "# Instantiate the economy\n",
    "economy = ProductionEconomy()\n",
    "\n",
    "# Define the linspace for p1 and p2\n",
    "p1_values = np.linspace(0.1, 2.0, 10)\n",
    "p2_values = np.linspace(0.1, 2.0, 10)\n",
    "\n",
    "# Initialize results list\n",
    "results = []\n",
    "threshold = 1e-3\n",
    "\n",
    "# Check market clearing conditions for each combination of p1 and p2\n",
    "for p1 in p1_values:\n",
    "    for p2 in p2_values:\n",
    "        labor_market, good_market_1 = economy.market_clearing_conditions([p1, p2])\n",
    "        results.append({\n",
    "            \"p1\": p1,\n",
    "            \"p2\": p2,\n",
    "            \"labor_market\": labor_market,\n",
    "            \"good_market_1\": good_market_1,\n",
    "            \"clears\": abs(labor_market) < threshold and abs(good_market_1) < threshold\n",
    "        })\n",
    "\n",
    "# Convert results to DataFrame\n",
    "results_df = pd.DataFrame(results)\n",
    "\n",
    "# Plot results\n",
    "fig, ax = plt.subplots()\n",
    "for index, row in results_df.iterrows():\n",
    "    if row['clears']:\n",
    "        ax.scatter(row['p1'], row['p2'], color='green')\n",
    "    else:\n",
    "        ax.scatter(row['p1'], row['p2'], color='red')\n",
    "\n",
    "ax.set_xlabel('p1')\n",
    "ax.set_ylabel('p2')\n",
    "ax.set_title('Market Clearing Prices')\n",
    "plt.show()\n",
    "\n",
    "# Display the DataFrame or a message if no market clearing prices exist\n",
    "if results_df['clears'].any():\n",
    "    display(results_df[results_df['clears']])\n",
    "else:\n",
    "    print(\"No market clearing prices exist\")\n",
    "\n",
    "# Finding equilibrium prices\n",
    "initial_guess = [1, 1]\n",
    "\n",
    "# Find equilibrium prices\n",
    "equilibrium_prices = optimize.root(economy.market_clearing_conditions, initial_guess).x\n",
    "p1_star, p2_star = equilibrium_prices\n",
    "\n",
    "# Get equilibrium labor and consumption\n",
    "l_star, c1_star, c2_star = economy.optimize_l(p1_star, p2_star)\n",
    "\n",
    "# Output results\n",
    "equilibrium_results = {\n",
    "    \"p1_star\": p1_star,\n",
    "    \"p2_star\": p2_star,\n",
    "    \"l_star\": l_star,\n",
    "    \"c1_star\": c1_star,\n",
    "    \"c2_star\": c2_star\n",
    "}\n",
    "\n",
    "equilibrium_results\n"
   ]
  },
  {
   "cell_type": "markdown",
   "metadata": {},
   "source": [
    "**Question 2:** Find the equilibrium prices $p_1$ and $p_2$.<br>\n",
    "*Hint: you can use Walras' law to only check 2 of the market clearings*"
   ]
  },
  {
   "cell_type": "code",
   "execution_count": 307,
   "metadata": {},
   "outputs": [
    {
     "name": "stdout",
     "output_type": "stream",
     "text": [
      "Optimal tau: 1.2360679774997896\n",
      "Maximum Social Welfare Function: 0.7451940151509848\n",
      "Equilibrium prices: p1 = 1.1285200134975448, p2 = 1.2132491114904849\n"
     ]
    }
   ],
   "source": [
    "import numpy as np\n",
    "from scipy import optimize\n",
    "from types import SimpleNamespace\n",
    "\n",
    "class ProductionEconomy:\n",
    "    def __init__(self, par=None):\n",
    "        self.par = par = SimpleNamespace()\n",
    "        par.A = 1.0\n",
    "        par.gamma = 0.5\n",
    "        par.alpha = 0.3\n",
    "        par.nu = 1.0\n",
    "        par.epsilon = 2.0\n",
    "        par.tau = 0.0\n",
    "        par.kappa = 0.1\n",
    "        par.T = 0.0  # Initialize T\n",
    "\n",
    "        self.w = 1  # Assuming wage is 1 as numeraire\n",
    "        self.p1 = None\n",
    "        self.p2 = None\n",
    "\n",
    "    def utility_(self, l, p1, p2):\n",
    "        c1 = self.c1(l, p1, p2)\n",
    "        c2 = self.c2(l, p1, p2)\n",
    "        return np.log(c1**self.par.alpha * c2**(1 - self.par.alpha)) - self.par.nu * (l**(1 + self.par.epsilon)) / (1 + self.par.epsilon)\n",
    "\n",
    "    def c1(self, l, p1, p2):\n",
    "        profit1 = self.firm_profit1(p1)\n",
    "        profit2 = self.firm_profit2(p2)\n",
    "        return self.par.alpha * (self.w * l + self.par.T + profit1 + profit2) / p1\n",
    "\n",
    "    def c2(self, l, p1, p2):\n",
    "        profit1 = self.firm_profit1(p1)\n",
    "        profit2 = self.firm_profit2(p2)\n",
    "        return (1 - self.par.alpha) * (self.w * l + self.par.T + profit1 + profit2) / (p2 + self.par.tau)\n",
    "\n",
    "    def optimize_l(self, p1, p2):\n",
    "        \"\"\" Maximize utility for workers \"\"\"\n",
    "        obj = lambda l: -self.utility_(l, p1, p2)\n",
    "        res = optimize.minimize_scalar(obj, bounds=(0, 1), method='bounded')\n",
    "        l_star = res.x\n",
    "        c1_star = self.c1(l_star, p1, p2)\n",
    "        c2_star = self.c2(l_star, p1, p2)\n",
    "        return l_star, c1_star, c2_star\n",
    "\n",
    "    def firm_labor_demand(self, p1, p2):\n",
    "        l1_star = (p1 * self.par.A * self.par.gamma / self.w)**(1 / (1 - self.par.gamma))\n",
    "        l2_star = (p2 * self.par.A * self.par.gamma / self.w)**(1 / (1 - self.par.gamma))\n",
    "        return l1_star, l2_star\n",
    "\n",
    "    def firm_profit1(self, p1):\n",
    "        l1_star = (p1 * self.par.A * self.par.gamma / self.w)**(1 / (1 - self.par.gamma))\n",
    "        y1_star = self.par.A * (l1_star)**self.par.gamma\n",
    "        return (1 - self.par.gamma) * y1_star * p1\n",
    "\n",
    "    def firm_profit2(self, p2):\n",
    "        l2_star = (p2 * self.par.A * self.par.gamma / self.w)**(1 / (1 - self.par.gamma))\n",
    "        y2_star = self.par.A * (l2_star)**self.par.gamma\n",
    "        return (1 - self.par.gamma) * y2_star * p2\n",
    "\n",
    "    def market_clearing_conditions(self, p):\n",
    "        p1, p2 = p\n",
    "        l1_star, l2_star = self.firm_labor_demand(p1, p2)\n",
    "        l_star, c1_star, c2_star = self.optimize_l(p1, p2)\n",
    "        labor_market = l1_star + l2_star - l_star\n",
    "\n",
    "        good_market_1 = c1_star - self.par.A * (l1_star)**self.par.gamma\n",
    "        good_market_2 = c2_star - self.par.A * (l2_star)**self.par.gamma\n",
    "\n",
    "        return [labor_market, good_market_1, good_market_2]\n",
    "\n",
    "    def solve_market_clearing(self):\n",
    "        \"\"\" Solve for equilibrium prices p1 and p2 \"\"\"\n",
    "        def objective(p):\n",
    "            return np.sum(np.square(self.market_clearing_conditions(p)))\n",
    "\n",
    "        res = optimize.minimize(objective, [1, 1], bounds=((0.1, 10), (0.1, 10)))\n",
    "        if res.success:\n",
    "            self.p1, self.p2 = res.x\n",
    "        else:\n",
    "            raise ValueError(\"Market clearing optimization failed\")\n",
    "\n",
    "    def social_welfare(self, tau):\n",
    "        self.par.tau = tau\n",
    "        self.solve_market_clearing()  # Ensure we have equilibrium prices\n",
    "\n",
    "        l_star, c1_star, c2_star = self.optimize_l(self.p1, self.p2)\n",
    "        self.par.T = self.par.tau * c2_star  # Set T = tau * c2_star\n",
    "        y2_star = self.par.A * (self.firm_labor_demand(self.p1, self.p2)[1])**self.par.gamma\n",
    "        SWF = self.utility_(l_star, self.p1, self.p2) - self.par.kappa * y2_star\n",
    "        return -SWF\n",
    "\n",
    "    def optimize_tau(self):\n",
    "        result = optimize.minimize_scalar(lambda tau: -self.social_welfare(tau), bounds=(0, 2), method='bounded')\n",
    "        optimal_tau = result.x\n",
    "        max_swf = -result.fun\n",
    "        self.par.tau = optimal_tau\n",
    "        self.solve_market_clearing()  # Ensure prices are set for optimal tau\n",
    "        return optimal_tau, max_swf\n",
    "\n",
    "# Instantiate the class and optimize tau\n",
    "economy = ProductionEconomy()\n",
    "optimal_tau, max_swf = economy.optimize_tau()\n",
    "optimal_p1 = economy.p1\n",
    "optimal_p2 = economy.p2\n",
    "\n",
    "print(f\"Optimal tau: {optimal_tau}\")\n",
    "print(f\"Maximum Social Welfare Function: {max_swf}\")\n",
    "print(f\"Equilibrium prices: p1 = {optimal_p1}, p2 = {optimal_p2}\")\n"
   ]
  },
  {
   "cell_type": "code",
   "execution_count": 308,
   "metadata": {},
   "outputs": [
    {
     "name": "stdout",
     "output_type": "stream",
     "text": [
      "Optimal values found:\n"
     ]
    },
    {
     "data": {
      "text/plain": [
       "tau       0.000006\n",
       "T         0.000004\n",
       "l_star    0.793701\n",
       "SWF      -0.662164\n",
       "Name: 24, dtype: float64"
      ]
     },
     "metadata": {},
     "output_type": "display_data"
    },
    {
     "data": {
      "image/png": "[encoded data removed]",
      "text/plain": [
       "<Figure size 640x480 with 1 Axes>"
      ]
     },
     "metadata": {},
     "output_type": "display_data"
    }
   ],
   "source": [
    "import numpy as np\n",
    "from scipy import optimize\n",
    "import pandas as pd\n",
    "import matplotlib.pyplot as plt\n",
    "from exam_2024_Anna import ProductionEconomy  # Ensure that economy.py is in the same directory\n",
    "\n",
    "def social_welfare(l, p1, p2, economy, kappa, y2_star):\n",
    "    c1 = economy.c1(l, p1, p2)\n",
    "    c2 = economy.c2(l, p1, p2)\n",
    "    U = np.log(c1**economy.par.alpha * c2**(1 - economy.par.alpha)) - economy.par.nu * (l**(1 + economy.par.epsilon)) / (1 + economy.par.epsilon)\n",
    "    SWF = U - kappa * y2_star\n",
    "    return SWF\n",
    "\n",
    "def optimize_social_welfare(p1, p2, tau, economy, kappa, y2_star):\n",
    "    economy.par.tau = tau\n",
    "    obj = lambda l: -social_welfare(l, p1, p2, economy, kappa, y2_star)\n",
    "    res = optimize.minimize_scalar(obj, bounds=(0, 1), method='bounded')\n",
    "    l_star = res.x\n",
    "    c2_star = economy.c2(l_star, p1, p2)\n",
    "    T = tau * c2_star  # Implied T based on the balanced budget condition\n",
    "    return l_star, T\n",
    "\n",
    "def find_optimal_tau_T(p1, p2, economy, kappa, y2_star):\n",
    "    results = []\n",
    "    \n",
    "    def objective(tau):\n",
    "        l_star, T = optimize_social_welfare(p1, p2, tau, economy, kappa, y2_star)\n",
    "        SWF = social_welfare(l_star, p1, p2, economy, kappa, y2_star)\n",
    "        results.append({\n",
    "            \"tau\": tau,\n",
    "            \"T\": T,\n",
    "            \"l_star\": l_star,\n",
    "            \"SWF\": SWF\n",
    "        })\n",
    "        return -SWF\n",
    "    \n",
    "    res = optimize.minimize_scalar(objective, bounds=(0, 1), method='bounded')\n",
    "    results_df = pd.DataFrame(results)\n",
    "    return results_df\n",
    "\n",
    "# Given values\n",
    "kappa = 0.1  # Given value of kappa\n",
    "y2_star = 0.7453795260635666\n",
    "p1_star = 0.9759308856165233\n",
    "p2_star = 1.4907590521264114\n",
    "\n",
    "# Instantiate the economy\n",
    "economy = ProductionEconomy()\n",
    "economy.p1 = p1_star\n",
    "economy.p2 = p2_star\n",
    "\n",
    "# Find optimal tau and T\n",
    "results_df = find_optimal_tau_T(p1_star, p2_star, economy, kappa, y2_star)\n",
    "\n",
    "# Display results\n",
    "if not results_df.empty:\n",
    "    optimal_values = results_df.loc[results_df['SWF'].idxmax()]\n",
    "    print(\"Optimal values found:\")\n",
    "    display(optimal_values)\n",
    "    \n",
    "    # Plot results\n",
    "    fig, ax = plt.subplots()\n",
    "    for index, row in results_df.iterrows():\n",
    "        if row['SWF'] == optimal_values['SWF']:\n",
    "            ax.scatter(row['tau'], row['T'], color='green', label='Optimal Point')\n",
    "        else:\n",
    "            ax.scatter(row['tau'], row['T'], color='red')\n",
    "    \n",
    "    ax.set_xlabel('tau')\n",
    "    ax.set_ylabel('T')\n",
    "    ax.set_title('Optimal tau and T for Maximum Social Welfare')\n",
    "    plt.legend()\n",
    "    plt.show()\n",
    "else:\n",
    "    print(\"No optimal tau and T found\")\n"
   ]
  },
  {
   "cell_type": "markdown",
   "metadata": {},
   "source": [
    "Assume the government care about the social welfare function:\n",
    "\n",
    "$$\n",
    "SWF = U - \\kappa y_2^*\n",
    "$$"
   ]
  },
  {
   "cell_type": "markdown",
   "metadata": {},
   "source": [
    "Here $\\kappa$ measures the social cost of carbon emitted by the production of $y_2$ in equilibrium."
   ]
  },
  {
   "cell_type": "markdown",
   "metadata": {},
   "source": [
    "**Question 3:** What values of $\\tau$ and (implied) $T$ should the government choose to maximize $SWF$?"
   ]
  },
  {
   "cell_type": "code",
   "execution_count": 309,
   "metadata": {},
   "outputs": [],
   "source": [
    "# write your answer here"
   ]
  },
  {
   "cell_type": "markdown",
   "metadata": {},
   "source": [
    "## 2. <a id='toc2_'></a>[Problem 2: Career choice model](#toc0_)"
   ]
  },
  {
   "cell_type": "markdown",
   "metadata": {},
   "source": [
    "Consider a graduate $i$ making a choice between entering $J$ different career tracks. <br>\n",
    "Entering career $j$ yields utility $u^k_{ij}$. This value is unknown to the graduate ex ante, but will ex post be: <br>\n",
    "$$\n",
    "    u_{i,j}^k = v_{j} + \\epsilon_{i,j}^k\n",
    "$$\n",
    "\n",
    "They know that $\\epsilon^k_{i,j}\\sim \\mathcal{N}(0,\\sigma^2)$, but they do not observe $\\epsilon^k_{i,j}$ before making their career choice. <br>"
   ]
  },
  {
   "cell_type": "markdown",
   "metadata": {},
   "source": [
    "Consider the concrete case of $J=3$ with:\n",
    "$$\n",
    "\\begin{align*}\n",
    "    v_{1} &= 1 \\\\\n",
    "    v_{2} &= 2 \\\\\n",
    "    v_{3} &= 3\n",
    "\\end{align*}\n",
    "$$"
   ]
  },
  {
   "cell_type": "markdown",
   "metadata": {},
   "source": [
    "If the graduates know the values of $v_j$ and the distribution of $\\epsilon_{i,j}^k$, they can calculate the expected utility of each career track using simulation: <br>\n",
    "$$\n",
    "    \\mathbb{E}\\left[ u^k_{i,j}\\vert v_j \\right] \\approx v_j + \\frac{1}{K}\\sum_{k=1}^K \\epsilon_{i,j}^k\n",
    "$$"
   ]
  },
  {
   "cell_type": "code",
   "execution_count": 310,
   "metadata": {},
   "outputs": [],
   "source": [
    "par = SimpleNamespace()\n",
    "par.J = 3\n",
    "par.N = 10\n",
    "par.K = 10000\n",
    "\n",
    "par.F = np.arange(1,par.N+1)\n",
    "par.sigma = 2\n",
    "\n",
    "par.v = np.array([1,2,3])\n",
    "par.c = 1"
   ]
  },
  {
   "cell_type": "markdown",
   "metadata": {},
   "source": [
    "**Question 1:** Simulate and calculate expected utility and the average realised utility for $K=10000$ draws, for each career choice $j$.\n"
   ]
  },
  {
   "cell_type": "code",
   "execution_count": 311,
   "metadata": {},
   "outputs": [],
   "source": [
    "# write your answer here"
   ]
  },
  {
   "cell_type": "markdown",
   "metadata": {},
   "source": [
    "Now consider a new scenario: Imagine that the graduate does not know $v_j$. The *only* prior information they have on the value of each job, comes from their $F_{i}$ friends that work in each career $j$. After talking with them, they know the average utility of their friends (which includes their friends' noise term), giving them the prior expecation: <br>\n",
    "$$\n",
    "\\tilde{u}^k_{i,j}\\left( F_{i}\\right) = \\frac{1}{F_{i}}\\sum_{f=1}^{F_{i}} \\left(v_{j} + \\epsilon^k_{f,j}\\right), \\; \\epsilon^k_{f,j}\\sim \\mathcal{N}(0,\\sigma^2)\n",
    "$$\n",
    "For ease of notation consider that each graduate have $F_{i}=i$ friends in each career. <br>"
   ]
  },
  {
   "cell_type": "markdown",
   "metadata": {},
   "source": [
    "For $K$ times do the following: <br>\n",
    "1. For each person $i$ draw $J\\cdot F_i$ values of $\\epsilon_{f,j}^{k}$, and calculate the prior expected utility of each career track, $\\tilde{u}^k_{i,j}\\left( F_{i}\\right)$. <br>\n",
    "Also draw their own $J$ noise terms, $\\epsilon_{i,j}^k$\n",
    "1. Each person $i$ chooses the career track with the highest expected utility: $$j_i^{k*}= \\arg\\max_{j\\in{1,2\\dots,J}}\\left\\{ \\tilde{u}^k_{i,j}\\left( F_{i}\\right)\\right\\} $$\n",
    "1. Store the chosen careers: $j_i^{k*}$, the prior expectation of the value of their chosen career: $\\tilde{u}^k_{i,j=j_i^{k*}}\\left( F_{i}\\right)$, and the realized value of their chosen career track: $u^k_{i,j=j_i^{k*}}=v_{j=j_i^{k*}}+\\epsilon_{i,j=j_i^{k*}}^k$."
   ]
  },
  {
   "cell_type": "markdown",
   "metadata": {},
   "source": [
    "Chosen values will be: <br>\n",
    "$i\\in\\left\\{1,2\\dots,N\\right\\}, N=10$ <br>\n",
    "$F_i = i$<br>\n",
    "So there are 10 graduates. The first has 1 friend in each career, the second has 2 friends, ... the tenth has 10 friends."
   ]
  },
  {
   "cell_type": "markdown",
   "metadata": {},
   "source": [
    "**Question 2:** Simulate and visualize: For each type of graduate, $i$, the share of graduates choosing each career, the average subjective expected utility of the graduates, and the average ex post realized utility given their choice. <br>\n",
    "That is, calculate and visualize: <br>\n",
    "$$\n",
    "\\begin{align*}\n",
    "    \\frac{1}{K} \\sum_{k=1}^{K} \\mathbb{I}\\left\\{ j=j_i^{k*} \\right\\}  \\;\\forall j\\in\\left\\{1,2,\\dots,J\\right\\}\n",
    "\\end{align*}\n",
    "$$\n",
    "$$\n",
    "\\begin{align*}\n",
    "    \\frac{1}{K} \\sum_{k=1}^{K} \\tilde{u}^k_{ij=j_i^{k*}}\\left( F_{i}\\right)\n",
    "\\end{align*}\n",
    "$$\n",
    "And \n",
    "$$\n",
    "\\begin{align*}\n",
    "    \\frac{1}{K} \\sum_{k=1}^{K} u^k_{ij=j_i^{k*}} \n",
    "\\end{align*}\n",
    "$$\n",
    "For each graduate $i$."
   ]
  },
  {
   "cell_type": "code",
   "execution_count": 312,
   "metadata": {},
   "outputs": [],
   "source": [
    "# Write your answer here "
   ]
  },
  {
   "cell_type": "markdown",
   "metadata": {},
   "source": [
    "After a year of working in their career, the graduates learn $u^k_{ij}$ for their chosen job $j_i^{k*}$ perfectly. <br>\n",
    "The can switch to one of the two remaining careers, for which they have the same prior as before, but it will now include a switching cost of $c$ which is known.\n",
    "Their new priors can be written as: \n",
    "$$\n",
    "\\tilde{u}^{k,2}_{ij}\\left( F_{i}\\right) = \\begin{cases}\n",
    "            \\tilde{u}^k_{ij}\\left( F_{i}\\right)-c & \\text{if } j \\neq j_i^{k*} \\\\\n",
    "            u_{ij=j_i^{k*}} & \\text{if } j = j_i^{k*}\n",
    "        \\end{cases}\n",
    "$$"
   ]
  },
  {
   "cell_type": "markdown",
   "metadata": {},
   "source": [
    "We will set $c=1$."
   ]
  },
  {
   "cell_type": "markdown",
   "metadata": {},
   "source": [
    "Their realized utility will be: <br>\n",
    "$$\n",
    "u^{k,2}_{ij}= \\begin{cases}\n",
    "            u_{ij}^k -c & \\text{if } j \\neq j_i^{k*} \\\\\n",
    "            u_{ij=j_i^{k*}} & \\text{if } j = j_i^{k*}\n",
    "        \\end{cases}\n",
    "$$"
   ]
  },
  {
   "cell_type": "markdown",
   "metadata": {},
   "source": [
    "**Question 3:** Following the same approach as in question 2, find the new optimal career choice for each $i$, $k$. Then for each $i$, calculate the average subjective expected utility from their new optimal career choice, and the ex post realized utility of that career. Also, for each $i$, calculate the share of graduates that chooses to switch careers, conditional on which career they chose in the first year. <br>"
   ]
  },
  {
   "cell_type": "code",
   "execution_count": 313,
   "metadata": {},
   "outputs": [],
   "source": [
    "# write your answer here"
   ]
  },
  {
   "cell_type": "markdown",
   "metadata": {},
   "source": [
    "## 3. <a id='toc3_'></a>[Problem 3: Barycentric interpolation](#toc0_)"
   ]
  },
  {
   "cell_type": "markdown",
   "metadata": {},
   "source": [
    "**Problem:** We have a set of random points in the unit square,\n",
    "\n",
    "$$\n",
    "\\mathcal{X} = \\{(x_1,x_2)\\,|\\,x_1\\sim\\mathcal{U}(0,1),x_2\\sim\\mathcal{U}(0,1)\\}.\n",
    "$$\n",
    "\n",
    "For these points, we know the value of some function $f(x_1,x_2)$,\n",
    "\n",
    "$$\n",
    "\\mathcal{F} = \\{f(x_1,x_2) \\,|\\, (x_1,x_2) \\in \\mathcal{X}\\}.\n",
    "$$\n",
    "\n",
    "Now we want to approximate the value $f(y_1,y_2)$ for some  $y=(y_1,y_2)$, where $y_1\\sim\\mathcal{U}(0,1)$ and $y_2\\sim\\mathcal{U}(0,1)$.\n",
    "\n",
    "**Building block I**\n",
    "\n",
    "For an arbitrary triangle $ABC$ and a point $y$, define the so-called barycentric coordinates as:\n",
    "\n",
    "$$\n",
    "\\begin{align*}\n",
    "  r^{ABC}_1 &= \\frac{(B_2-C_2)(y_1-C_1) + (C_1-B_1)(y_2-C_2)}{(B_2-C_2)(A_1-C_1) + (C_1-B_1)(A_2-C_2)} \\\\\n",
    "  r^{ABC}_2 &= \\frac{(C_2-A_2)(y_1-C_1) + (A_1-C_1)(y_2-C_2)}{(B_2-C_2)(A_1-C_1) + (C_1-B_1)(A_2-C_2)} \\\\\n",
    "  r^{ABC}_3 &= 1 - r_1 - r_2.\n",
    "\\end{align*}\n",
    "$$\n",
    "\n",
    "If $r^{ABC}_1 \\in [0,1]$, $r^{ABC}_2 \\in [0,1]$, and $r^{ABC}_3 \\in [0,1]$, then the point is inside the triangle.\n",
    "\n",
    "We always have $y = r^{ABC}_1 A + r^{ABC}_2 B + r^{ABC}_3 C$.\n",
    "\n",
    "**Building block II**\n",
    "\n",
    "Define the following points:\n",
    "\n",
    "$$\n",
    "\\begin{align*}\n",
    "A&=\\arg\\min_{(x_{1},x_{2})\\in\\mathcal{X}}\\sqrt{\\left(x_{1}-y_{1}\\right)^{2}+\\left(x_{2}-y_{2}\\right)^{2}}\\text{ s.t. }x_{1}>y_{1}\\text{ and }x_{2}>y_{2}\\\\\n",
    "B&=\\arg\\min_{(x_{1},x_{2})\\in\\mathcal{X}}\\sqrt{\\left(x_{1}-y_{1}\\right)^{2}+\\left(x_{2}-y_{2}\\right)^{2}}\\text{ s.t. }x_{1}>y_{1}\\text{ and }x_{2}<y_{2}\\\\\n",
    "C&=\\arg\\min_{(x_{1},x_{2})\\in\\mathcal{X}}\\sqrt{\\left(x_{1}-y_{1}\\right)^{2}+\\left(x_{2}-y_{2}\\right)^{2}}\\text{ s.t. }x_{1}<y_{1}\\text{ and }x_{2}<y_{2}\\\\\n",
    "D&=\\arg\\min_{(x_{1},x_{2})\\in\\mathcal{X}}\\sqrt{\\left(x_{1}-y_{1}\\right)^{2}+\\left(x_{2}-y_{2}\\right)^{2}}\\text{ s.t. }x_{1}<y_{1}\\text{ and }x_{2}>y_{2}.\n",
    "\\end{align*}\n",
    "$$\n",
    "\n",
    "**Algorithm:**\n",
    "\n",
    "1. Compute $A$, $B$, $C$, and $D$. If not possible return `NaN`.\n",
    "1. If $y$ is inside the triangle $ABC$ return $r^{ABC}_1 f(A) + r^{ABC}_2 f(B) + r^{ABC}_3 f(C)$.\n",
    "1. If $y$ is inside the triangle $CDA$ return $r^{CDA}_1 f(C) + r^{CDA}_2 f(D) + r^{CDA}_3 f(A)$.\n",
    "1. Return `NaN`.\n",
    "\n"
   ]
  },
  {
   "cell_type": "markdown",
   "metadata": {},
   "source": [
    "**Sample:**"
   ]
  },
  {
   "cell_type": "code",
   "execution_count": 314,
   "metadata": {},
   "outputs": [],
   "source": [
    "rng = np.random.default_rng(2024)\n",
    "\n",
    "X = rng.uniform(size=(50,2))\n",
    "y = rng.uniform(size=(2,))\n"
   ]
  },
  {
   "cell_type": "markdown",
   "metadata": {},
   "source": [
    "**Questions 1:** Find $A$, $B$, $C$ and $D$. Illustrate these together with $X$, $y$ and the triangles $ABC$ and $CDA$."
   ]
  },
  {
   "cell_type": "code",
   "execution_count": 315,
   "metadata": {},
   "outputs": [],
   "source": [
    "# write your answer here"
   ]
  },
  {
   "cell_type": "markdown",
   "metadata": {},
   "source": [
    "**Question 2:** Compute the barycentric coordinates of the point $y$ with respect to the triangles $ABC$ and $CDA$. Which triangle is $y$ located inside?"
   ]
  },
  {
   "cell_type": "code",
   "execution_count": 316,
   "metadata": {},
   "outputs": [],
   "source": [
    "# write your answer here"
   ]
  },
  {
   "cell_type": "markdown",
   "metadata": {},
   "source": [
    "Now consider the function:\n",
    "$$\n",
    "f(x_1,x_2) = x_1 \\cdot x_2\n",
    "$$"
   ]
  },
  {
   "cell_type": "code",
   "execution_count": 317,
   "metadata": {},
   "outputs": [],
   "source": [
    "f = lambda x: x[0]*x[1]\n",
    "F = np.array([f(x) for x in X])"
   ]
  },
  {
   "cell_type": "markdown",
   "metadata": {},
   "source": [
    "**Question 3:** Compute the approximation of $f(y)$ using the full algorithm. Compare with the true value."
   ]
  },
  {
   "cell_type": "code",
   "execution_count": 318,
   "metadata": {},
   "outputs": [],
   "source": [
    "# write your answer here"
   ]
  },
  {
   "cell_type": "markdown",
   "metadata": {},
   "source": [
    "**Question 4:** Repeat question 3 for all points in the set $Y$."
   ]
  },
  {
   "cell_type": "code",
   "execution_count": 319,
   "metadata": {},
   "outputs": [],
   "source": [
    "Y = [(0.2,0.2),(0.8,0.2),(0.8,0.8),(0.8,0.2),(0.5,0.5)]"
   ]
  },
  {
   "cell_type": "code",
   "execution_count": 320,
   "metadata": {},
   "outputs": [],
   "source": [
    "# write your answer here"
   ]
  }
 ],
 "metadata": {
  "kernelspec": {
   "display_name": "base",
   "language": "python",
   "name": "python3"
  },
  "language_info": {
   "codemirror_mode": {
    "name": "ipython",
    "version": 3
   },
   "file_extension": ".py",
   "mimetype": "text/x-python",
   "name": "python",
   "nbconvert_exporter": "python",
   "pygments_lexer": "ipython3",
   "version": "3.11.7"
  }
 },
 "nbformat": 4,
 "nbformat_minor": 2
}
