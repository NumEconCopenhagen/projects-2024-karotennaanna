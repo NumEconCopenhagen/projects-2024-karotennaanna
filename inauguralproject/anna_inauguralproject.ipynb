{
 "cells": [
  {
   "cell_type": "markdown",
   "metadata": {},
   "source": [
    "# Inaugural Project"
   ]
  },
  {
   "attachments": {},
   "cell_type": "markdown",
   "metadata": {},
   "source": [
    "> **Note the following:** \n",
    "> 1. This is an example of how to structure your **inaugural project**.\n",
    "> 1. Remember the general advice on structuring and commenting your code\n",
    "> 1. The `inauguralproject.py` file includes a function which can be used multiple times in this notebook."
   ]
  },
  {
   "cell_type": "markdown",
   "metadata": {},
   "source": [
    "Imports and set magics:"
   ]
  },
  {
   "cell_type": "code",
   "execution_count": null,
   "metadata": {},
   "outputs": [],
   "source": [
    "import numpy as np\n",
    "\n",
    "# autoreload modules when code is run. Otherwise, python will not see recent changes. \n",
    "%load_ext autoreload\n",
    "%autoreload 2\n",
    "\n",
    "# Import your own code\n",
    "import inauguralproject\n",
    "\n",
    "import matplotlib.pyplot as plt\n",
    "plt.rcParams.update({\"axes.grid\":True,\"grid.color\":\"black\",\"grid.alpha\":\"0.25\",\"grid.linestyle\":\"--\"})\n",
    "plt.rcParams.update({'font.size': 14})\n",
    "\n",
    "%load_ext autoreload\n",
    "%autoreload 2"
   ]
  },
  {
   "cell_type": "markdown",
   "metadata": {},
   "source": [
    "# Question 1"
   ]
  },
  {
   "cell_type": "markdown",
   "metadata": {},
   "source": [
    "**Explain how you solve the model**"
   ]
  },
  {
   "cell_type": "code",
   "execution_count": 8,
   "metadata": {},
   "outputs": [
    {
     "ename": "NameError",
     "evalue": "name 'list_x1A' is not defined",
     "output_type": "error",
     "traceback": [
      "\u001b[0;31m---------------------------------------------------------------------------\u001b[0m",
      "\u001b[0;31mNameError\u001b[0m                                 Traceback (most recent call last)",
      "Cell \u001b[0;32mIn[8], line 27\u001b[0m\n\u001b[1;32m     25\u001b[0m \u001b[38;5;66;03m# A\u001b[39;00m\n\u001b[1;32m     26\u001b[0m ax_A\u001b[38;5;241m.\u001b[39mscatter(model\u001b[38;5;241m.\u001b[39mpar\u001b[38;5;241m.\u001b[39mw1A, model\u001b[38;5;241m.\u001b[39mpar\u001b[38;5;241m.\u001b[39mw2A, marker\u001b[38;5;241m=\u001b[39m\u001b[38;5;124m'\u001b[39m\u001b[38;5;124ms\u001b[39m\u001b[38;5;124m'\u001b[39m, color\u001b[38;5;241m=\u001b[39m\u001b[38;5;124m'\u001b[39m\u001b[38;5;124mblack\u001b[39m\u001b[38;5;124m'\u001b[39m, label\u001b[38;5;241m=\u001b[39m\u001b[38;5;124m'\u001b[39m\u001b[38;5;124mendowment\u001b[39m\u001b[38;5;124m'\u001b[39m)\n\u001b[0;32m---> 27\u001b[0m ax_A\u001b[38;5;241m.\u001b[39mscatter(list_x1A, list_x2A, marker\u001b[38;5;241m=\u001b[39m\u001b[38;5;124m'\u001b[39m\u001b[38;5;124m.\u001b[39m\u001b[38;5;124m'\u001b[39m, color\u001b[38;5;241m=\u001b[39m\u001b[38;5;124m'\u001b[39m\u001b[38;5;124mblue\u001b[39m\u001b[38;5;124m'\u001b[39m, label\u001b[38;5;241m=\u001b[39m\u001b[38;5;124m'\u001b[39m\u001b[38;5;124mpareto improvements\u001b[39m\u001b[38;5;124m'\u001b[39m)\n\u001b[1;32m     29\u001b[0m \u001b[38;5;66;03m# limits\u001b[39;00m\n\u001b[1;32m     30\u001b[0m ax_A\u001b[38;5;241m.\u001b[39mplot([\u001b[38;5;241m0\u001b[39m, w1bar], [\u001b[38;5;241m0\u001b[39m, \u001b[38;5;241m0\u001b[39m], lw\u001b[38;5;241m=\u001b[39m\u001b[38;5;241m2\u001b[39m, color\u001b[38;5;241m=\u001b[39m\u001b[38;5;124m'\u001b[39m\u001b[38;5;124mblack\u001b[39m\u001b[38;5;124m'\u001b[39m)\n",
      "\u001b[0;31mNameError\u001b[0m: name 'list_x1A' is not defined"
     ]
    },
    {
     "data": {
      "image/png": "[encoded data removed]",
      "text/plain": [
       "<Figure size 600x600 with 3 Axes>"
      ]
     },
     "metadata": {},
     "output_type": "display_data"
    }
   ],
   "source": [
    "import matplotlib.pyplot as plt\n",
    "from types import SimpleNamespace\n",
    "\n",
    "model = ExchangeEconomyClass()\n",
    "\n",
    "\n",
    "# a. total endowment\n",
    "w1bar = 1.0\n",
    "w2bar = 1.0\n",
    "\n",
    "# b. figure set up\n",
    "fig = plt.figure(frameon=False, figsize=(6,6), dpi=100)\n",
    "ax_A = fig.add_subplot(1, 1, 1)\n",
    "\n",
    "ax_A.set_xlabel(\"$x_1^A$\")\n",
    "ax_A.set_ylabel(\"$x_2^A$\")\n",
    "\n",
    "temp = ax_A.twinx()\n",
    "temp.set_ylabel(\"$x_2^B$\")\n",
    "ax_B = temp.twiny()\n",
    "ax_B.set_xlabel(\"$x_1^B$\")\n",
    "ax_B.invert_xaxis()\n",
    "ax_B.invert_yaxis()\n",
    "\n",
    "# A\n",
    "ax_A.scatter(model.par.w1A, model.par.w2A, marker='s', color='black', label='endowment')\n",
    "ax_A.scatter(list_x1A, list_x2A, marker='.', color='blue', label='pareto improvements')\n",
    "\n",
    "# limits\n",
    "ax_A.plot([0, w1bar], [0, 0], lw=2, color='black')\n",
    "ax_A.plot([0, w1bar], [w2bar, w2bar], lw=2, color='black')\n",
    "ax_A.plot([0, 0], [0, w2bar], lw=2, color='black')\n",
    "ax_A.plot([w1bar, w1bar], [0, w2bar], lw=2, color='black')\n",
    "\n",
    "ax_A.set_xlim([-0.1, w1bar + 0.1])\n",
    "ax_A.set_ylim([-0.1, w2bar + 0.1])    \n",
    "ax_B.set_xlim([w1bar + 0.1, -0.1])\n",
    "ax_B.set_ylim([w2bar + 0.1, -0.1])\n",
    "\n",
    "ax_A.legend(frameon=True, loc='upper right', bbox_to_anchor=(1.86,1.0))\n",
    "\n",
    "plt.show()"
   ]
  },
  {
   "cell_type": "markdown",
   "metadata": {},
   "source": [
    "# Question 2"
   ]
  },
  {
   "cell_type": "markdown",
   "metadata": {},
   "source": [
    "Explain your code and procedure"
   ]
  },
  {
   "cell_type": "code",
   "execution_count": 2,
   "metadata": {},
   "outputs": [
    {
     "ename": "NameError",
     "evalue": "name 'N' is not defined",
     "output_type": "error",
     "traceback": [
      "\u001b[0;31m---------------------------------------------------------------------------\u001b[0m",
      "\u001b[0;31mNameError\u001b[0m                                 Traceback (most recent call last)",
      "Cell \u001b[0;32mIn[2], line 5\u001b[0m\n\u001b[1;32m      2\u001b[0m p1 \u001b[38;5;241m=\u001b[39m []\n\u001b[1;32m      4\u001b[0m \u001b[38;5;66;03m# Use loop to make the p1 valueset\u001b[39;00m\n\u001b[0;32m----> 5\u001b[0m \u001b[38;5;28;01mfor\u001b[39;00m i \u001b[38;5;129;01min\u001b[39;00m \u001b[38;5;28mrange\u001b[39m(N\u001b[38;5;241m+\u001b[39m\u001b[38;5;241m1\u001b[39m):\n\u001b[1;32m      6\u001b[0m     p1\u001b[38;5;241m.\u001b[39mappend(\u001b[38;5;241m0.5\u001b[39m \u001b[38;5;241m+\u001b[39m \u001b[38;5;241m2\u001b[39m\u001b[38;5;241m*\u001b[39mi\u001b[38;5;241m/\u001b[39mN)\n\u001b[1;32m      8\u001b[0m \u001b[38;5;66;03m# Ensure the values in the p1 list by printing \u001b[39;00m\n",
      "\u001b[0;31mNameError\u001b[0m: name 'N' is not defined"
     ]
    }
   ],
   "source": [
    "# Define p1 as an empty list \n",
    "p1 = []\n",
    "\n",
    "# Use loop to make the p1 valueset\n",
    "for i in range(N+1):\n",
    "    p1.append(0.5 + 2*i/N)\n",
    "\n",
    "# Ensure the values in the p1 list by printing \n",
    "print(p1) \n",
    "\n",
    "# Make error an empty list\n",
    "error = []\n",
    "\n",
    "# Calculate errors given by eps1 and eps2 by using the clearing condition which is given as: check_market_clearing from ExchangeEconomy.py \n",
    "for i in p1:\n",
    "    error.append(model.check_market_clearing(i))\n",
    "\n",
    "# See  the values of eps1 and eps2 from 1-10\n",
    "print(error[0:10])\n",
    "\n",
    "# Make the error list into two list calles error1 and error2 \n",
    "error1,error2 = zip(*error)\n",
    "\n",
    "# plot of errors \n",
    "fig = plt.figure(frameon=False,figsize=(6,6), dpi=100)\n",
    "ax_C = fig.add_subplot(1, 1, 1)\n",
    "\n",
    "ax_C.set_ylabel(\"Error under market clearing\")\n",
    "ax_C.set_xlabel(\"$p_1$\")\n",
    "ax_C.set_title(\"Market Clearing errors under $\\mathcal{P}_1$\")\n",
    "\n",
    "ax_C.plot(p1, error1, label = '$\\epsilon_1(p,\\omega)$')\n",
    "ax_C.plot(p1, error2, label = '$\\epsilon_2(p,\\omega)$')\n",
    "ax_C.legend()"
   ]
  },
  {
   "cell_type": "markdown",
   "metadata": {},
   "source": [
    "# Question 3"
   ]
  },
  {
   "cell_type": "markdown",
   "metadata": {},
   "source": [
    "Explain your code and procedure"
   ]
  },
  {
   "cell_type": "code",
   "execution_count": 183,
   "metadata": {},
   "outputs": [
    {
     "name": "stdout",
     "output_type": "stream",
     "text": [
      "Value of p1: 0.6123735629362579\n"
     ]
    }
   ],
   "source": [
    "from scipy.optimize import minimize_scalar\n",
    "from ExchangeEconomy import ExchangeEconomyClass  # Replace 'ExchangeEconomy' with the actual name of your Python file\n",
    "\n",
    "# Instantiate the ExchangeEconomyClass\n",
    "model = ExchangeEconomyClass()\n",
    "\n",
    "\n",
    "\n",
    "# Define the optimization function (market_clearing_error)\n",
    "def error_function(p1):\n",
    "    return model.market_clearing_error(p1)\n",
    "\n",
    "# Define the bounds for p1\n",
    "bounds = (0.5, 2.5)  # Tuple containing the lower and upper bounds for p1\n",
    "\n",
    "# Minimize the error function with bounds using minimize_scalar\n",
    "result = minimize_scalar(error_function, bounds=bounds)\n",
    "\n",
    "# Extract the optimal value of p1\n",
    "optimal_p1 = result.x\n",
    "\n",
    "# Print the result\n",
    "print(f\"Value of p1: {optimal_p1}\")"
   ]
  },
  {
   "cell_type": "markdown",
   "metadata": {},
   "source": [
    "ADD CONCISE CONLUSION."
   ]
  },
  {
   "cell_type": "markdown",
   "metadata": {},
   "source": [
    "# Question 4a"
   ]
  },
  {
   "cell_type": "code",
   "execution_count": 187,
   "metadata": {},
   "outputs": [
    {
     "name": "stdout",
     "output_type": "stream",
     "text": [
      "Optimal price agent A: 2.4999960023848327\n",
      "Optimal allocation agent A (1-xB1, 1-xB2): (0.3866665387427768, 0.23333439936404454)\n"
     ]
    }
   ],
   "source": [
    "from scipy.optimize import minimize_scalar\n",
    "\n",
    "from types import SimpleNamespace\n",
    "\n",
    "\n",
    "model = ExchangeEconomyClass()\n",
    "\n",
    "# Define the utility function for agent A\n",
    "def utility_A(p1):\n",
    "    x1B, x2B = model.demand_B(p1)\n",
    "    return model.utility_A(1 - x1B, 1 - x2B)\n",
    "\n",
    "# Define the objective function to be maximized\n",
    "def objective_function(p1):\n",
    "    if p1 not in bounds:\n",
    "        return float('inf')  # Return a large value to penalize if p1 is not in P1\n",
    "    return -utility_A(p1, model.par.w2B)\n",
    "\n",
    "# Find the price that maximizes agent A's utility within P1\n",
    "result = minimize_scalar(objective_function, bounds=bounds, method='bounded')\n",
    "\n",
    "# Extract the optimal price\n",
    "optimal_price_p1 = result.x\n",
    "\n",
    "# Calculate the corresponding allocation\n",
    "optimal_x1B, optimal_x2B = model.demand_B(optimal_price_p1)\n",
    "optimal_allocation_A = (1 - optimal_x1B, 1 - optimal_x2B)\n",
    "\n",
    "print(\"Optimal price agent A:\", optimal_price_p1)\n",
    "print(\"Optimal allocation agent A (1-xB1, 1-xB2):\", optimal_allocation_A)"
   ]
  },
  {
   "cell_type": "markdown",
   "metadata": {},
   "source": []
  },
  {
   "cell_type": "markdown",
   "metadata": {},
   "source": [
    "# Question 4b"
   ]
  },
  {
   "cell_type": "markdown",
   "metadata": {},
   "source": []
  },
  {
   "cell_type": "markdown",
   "metadata": {},
   "source": []
  },
  {
   "cell_type": "code",
   "execution_count": 218,
   "metadata": {},
   "outputs": [
    {
     "name": "stdout",
     "output_type": "stream",
     "text": [
      "Optimal price agent A: 0.9642918158121485\n",
      "Optimal allocation agent A (1-xB1, 1-xB2): (0.2592605716231704, 0.642855515783427)\n"
     ]
    },
    {
     "name": "stderr",
     "output_type": "stream",
     "text": [
      "/Users/annastenild/Desktop/projects-2024-karotennaanna/inauguralproject/ExchangeEconomy.py:20: RuntimeWarning: invalid value encountered in power\n",
      "  return x1A**alpha*x2A**(1-alpha)\n"
     ]
    }
   ],
   "source": [
    "from scipy.optimize import minimize\n",
    "from ExchangeEconomy import ExchangeEconomyClass\n",
    "\n",
    "# Instantiate the ExchangeEconomyClass\n",
    "model = ExchangeEconomyClass()\n",
    "\n",
    "\n",
    "# Define the utility function for agent A\n",
    "def utility_A(p1):\n",
    "    x1B, x2B = model.demand_B(p1)\n",
    "    return model.utility_A(1 - x1B, 1 - x2B)\n",
    "\n",
    "# Define the objective function to be maximized\n",
    "def objective_function(p1):\n",
    "    if p1 <= 0:\n",
    "        return float('inf')  # Return a large value to penalize if p1 is not positive\n",
    "    return -utility_A(p1)\n",
    "\n",
    "# Find the price that maximizes agent A's utility within the specified bounds\n",
    "result = minimize(objective_function, x0=[3.0], bounds=[(0, None)])\n",
    "\n",
    "# Extract the optimal price\n",
    "optimal_price_p1 = result.x[0]\n",
    "\n",
    "# Calculate the corresponding allocation\n",
    "optimal_x1B, optimal_x2B = model.demand_B(optimal_price_p1)\n",
    "optimal_allocation_A = (1 - optimal_x1B, 1 - optimal_x2B)\n",
    "\n",
    "print(\"Optimal price agent A:\", optimal_price_p1)\n",
    "print(\"Optimal allocation agent A (1-xB1, 1-xB2):\", optimal_allocation_A)\n"
   ]
  },
  {
   "cell_type": "code",
   "execution_count": 227,
   "metadata": {},
   "outputs": [
    {
     "name": "stdout",
     "output_type": "stream",
     "text": [
      "Optimal price p1 for maximizing agent A's utility: 4.999996371653228\n",
      "Optimal allocation x1A: 0.2866666811800643\n",
      "Optimal allocation x2A: 2.8666647315483886\n",
      "Utility for agent A at optimal allocation: 1.3305882226224344\n"
     ]
    }
   ],
   "source": [
    "from scipy.optimize import minimize_scalar\n",
    "from ExchangeEconomy import ExchangeEconomyClass\n",
    "\n",
    "# Instantiate the ExchangeEconomyClass\n",
    "model = ExchangeEconomyClass()\n",
    "\n",
    "# Define the utility function for agent A\n",
    "def utility_A(p1):\n",
    "    x1A, x2A = model.demand_A(p1)\n",
    "    return model.utility_A(x1A, x2A)\n",
    "\n",
    "# Define the negative utility function for minimization\n",
    "def neg_utility_A(p1):\n",
    "    return -utility_A(p1)\n",
    "\n",
    "# Find the price that maximizes agent A's utility\n",
    "result = minimize_scalar(neg_utility_A, bounds=(0, 5), method='bounded')\n",
    "\n",
    "# Extract the optimal price\n",
    "optimal_price_p1 = result.x\n",
    "\n",
    "# Calculate the corresponding allocation\n",
    "optimal_x1A, optimal_x2A = model.demand_A(optimal_price_p1)\n",
    "\n",
    "# Calculate the utility for agent A\n",
    "optimal_utility_A = utility_A(optimal_price_p1)\n",
    "\n",
    "# Print the results\n",
    "print(\"Optimal price p1 for maximizing agent A's utility:\", optimal_price_p1)\n",
    "print(\"Optimal allocation x1A:\", optimal_x1A)\n",
    "print(\"Optimal allocation x2A:\", optimal_x2A)\n",
    "print(\"Utility for agent A at optimal allocation:\", optimal_utility_A)"
   ]
  },
  {
   "cell_type": "markdown",
   "metadata": {},
   "source": [
    "hejhejhej"
   ]
  },
  {
   "cell_type": "code",
   "execution_count": null,
   "metadata": {},
   "outputs": [],
   "source": [
    "def python123(p1):\n",
    "    return \"er træls\""
   ]
  }
 ],
 "metadata": {
  "kernelspec": {
   "display_name": "base",
   "language": "python",
   "name": "python3"
  },
  "language_info": {
   "codemirror_mode": {
    "name": "ipython",
    "version": 3
   },
   "file_extension": ".py",
   "mimetype": "text/x-python",
   "name": "python",
   "nbconvert_exporter": "python",
   "pygments_lexer": "ipython3",
   "version": "3.11.5"
  },
  "toc-autonumbering": true,
  "vscode": {
   "interpreter": {
    "hash": "47ef90cdf3004d3f859f1fb202523c65c07ba7c22eefd261b181f4744e2d0403"
   }
  }
 },
 "nbformat": 4,
 "nbformat_minor": 4
}
